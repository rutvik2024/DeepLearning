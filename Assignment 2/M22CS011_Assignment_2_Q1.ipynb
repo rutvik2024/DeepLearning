{
  "nbformat": 4,
  "nbformat_minor": 0,
  "metadata": {
    "colab": {
      "provenance": []
    },
    "kernelspec": {
      "name": "python3",
      "display_name": "Python 3"
    },
    "language_info": {
      "name": "python"
    },
    "accelerator": "GPU",
    "gpuClass": "standard"
  },
  "cells": [
    {
      "cell_type": "code",
      "execution_count": 1,
      "metadata": {
        "colab": {
          "base_uri": "https://localhost:8080/"
        },
        "id": "5ePeKSYhS0XW",
        "outputId": "ce0bd712-174c-4ec7-c26a-382a401e7c27"
      },
      "outputs": [
        {
          "output_type": "stream",
          "name": "stdout",
          "text": [
            "Looking in indexes: https://pypi.org/simple, https://us-python.pkg.dev/colab-wheels/public/simple/\n",
            "Collecting torch==1.7.1\n",
            "  Downloading torch-1.7.1-cp39-cp39-manylinux1_x86_64.whl (776.8 MB)\n",
            "\u001b[2K     \u001b[90m━━━━━━━━━━━━━━━━━━━━━━━━━━━━━━━━━━━━━━━\u001b[0m \u001b[32m776.8/776.8 MB\u001b[0m \u001b[31m2.2 MB/s\u001b[0m eta \u001b[36m0:00:00\u001b[0m\n",
            "\u001b[?25hCollecting torchtext==0.4.0\n",
            "  Downloading torchtext-0.4.0-py3-none-any.whl (53 kB)\n",
            "\u001b[2K     \u001b[90m━━━━━━━━━━━━━━━━━━━━━━━━━━━━━━━━━━━━━━━━\u001b[0m \u001b[32m53.1/53.1 KB\u001b[0m \u001b[31m6.8 MB/s\u001b[0m eta \u001b[36m0:00:00\u001b[0m\n",
            "\u001b[?25hRequirement already satisfied: numpy in /usr/local/lib/python3.9/dist-packages (from torch==1.7.1) (1.22.4)\n",
            "Requirement already satisfied: typing-extensions in /usr/local/lib/python3.9/dist-packages (from torch==1.7.1) (4.5.0)\n",
            "Requirement already satisfied: requests in /usr/local/lib/python3.9/dist-packages (from torchtext==0.4.0) (2.27.1)\n",
            "Requirement already satisfied: tqdm in /usr/local/lib/python3.9/dist-packages (from torchtext==0.4.0) (4.65.0)\n",
            "Requirement already satisfied: six in /usr/local/lib/python3.9/dist-packages (from torchtext==0.4.0) (1.16.0)\n",
            "Requirement already satisfied: urllib3<1.27,>=1.21.1 in /usr/local/lib/python3.9/dist-packages (from requests->torchtext==0.4.0) (1.26.15)\n",
            "Requirement already satisfied: charset-normalizer~=2.0.0 in /usr/local/lib/python3.9/dist-packages (from requests->torchtext==0.4.0) (2.0.12)\n",
            "Requirement already satisfied: idna<4,>=2.5 in /usr/local/lib/python3.9/dist-packages (from requests->torchtext==0.4.0) (3.4)\n",
            "Requirement already satisfied: certifi>=2017.4.17 in /usr/local/lib/python3.9/dist-packages (from requests->torchtext==0.4.0) (2022.12.7)\n",
            "Installing collected packages: torch, torchtext\n",
            "  Attempting uninstall: torch\n",
            "    Found existing installation: torch 2.0.0+cu118\n",
            "    Uninstalling torch-2.0.0+cu118:\n",
            "      Successfully uninstalled torch-2.0.0+cu118\n",
            "  Attempting uninstall: torchtext\n",
            "    Found existing installation: torchtext 0.15.1\n",
            "    Uninstalling torchtext-0.15.1:\n",
            "      Successfully uninstalled torchtext-0.15.1\n",
            "\u001b[31mERROR: pip's dependency resolver does not currently take into account all the packages that are installed. This behaviour is the source of the following dependency conflicts.\n",
            "torchvision 0.15.1+cu118 requires torch==2.0.0, but you have torch 1.7.1 which is incompatible.\n",
            "torchdata 0.6.0 requires torch==2.0.0, but you have torch 1.7.1 which is incompatible.\n",
            "torchaudio 2.0.1+cu118 requires torch==2.0.0, but you have torch 1.7.1 which is incompatible.\u001b[0m\u001b[31m\n",
            "\u001b[0mSuccessfully installed torch-1.7.1 torchtext-0.4.0\n"
          ]
        }
      ],
      "source": [
        "!pip install -U torch==1.7.1 torchtext==0.4.0\n",
        "\n",
        "# Reload environment\n",
        "exit()"
      ]
    },
    {
      "cell_type": "markdown",
      "source": [
        "# Importing Required Library"
      ],
      "metadata": {
        "id": "NuiPGOkmTIow"
      }
    },
    {
      "cell_type": "code",
      "source": [
        "import torch\n",
        "import torchtext\n",
        "from torchtext.data import Field, BucketIterator\n",
        "import csv\n",
        "import torch.nn as nn\n",
        "from torchtext.datasets import TranslationDataset\n",
        "from torchtext.data import TabularDataset\n",
        "import random\n",
        "import time\n",
        "import matplotlib.pyplot as plt"
      ],
      "metadata": {
        "id": "G1OuoIo_TDj6"
      },
      "execution_count": 33,
      "outputs": []
    },
    {
      "cell_type": "markdown",
      "source": [
        "# Device config"
      ],
      "metadata": {
        "id": "q04GM-v2TOLO"
      }
    },
    {
      "cell_type": "code",
      "source": [
        "device = 'cuda' if torch.cuda.is_available() else 'cpu'\n",
        "device"
      ],
      "metadata": {
        "colab": {
          "base_uri": "https://localhost:8080/",
          "height": 35
        },
        "id": "zZjdnd68TGKI",
        "outputId": "c5d066a1-15ef-4a80-e532-9c784cbb87a9"
      },
      "execution_count": 34,
      "outputs": [
        {
          "output_type": "execute_result",
          "data": {
            "text/plain": [
              "'cuda'"
            ],
            "application/vnd.google.colaboratory.intrinsic+json": {
              "type": "string"
            }
          },
          "metadata": {},
          "execution_count": 34
        }
      ]
    },
    {
      "cell_type": "markdown",
      "source": [
        "# Drive Mount"
      ],
      "metadata": {
        "id": "qqsWv_LrTW6S"
      }
    },
    {
      "cell_type": "code",
      "source": [
        "from google.colab import drive\n",
        "drive.mount('/content/drive')"
      ],
      "metadata": {
        "colab": {
          "base_uri": "https://localhost:8080/"
        },
        "id": "0rjfG67RTXm8",
        "outputId": "eef2de67-2eea-431a-fea7-12a268d5932f"
      },
      "execution_count": 3,
      "outputs": [
        {
          "output_type": "stream",
          "name": "stdout",
          "text": [
            "Mounted at /content/drive\n"
          ]
        }
      ]
    },
    {
      "cell_type": "markdown",
      "source": [
        "# File path"
      ],
      "metadata": {
        "id": "4ZYU6iQGTQjx"
      }
    },
    {
      "cell_type": "code",
      "source": [
        "train_path = '/content/drive/MyDrive/Dataset/Dakshina Dataset/hi/lexicons/hi.translit.sampled.train.tsv'\n",
        "test_path = '/content/drive/MyDrive/Dataset/Dakshina Dataset/hi/lexicons/hi.translit.sampled.test.tsv'\n",
        "val_path = '/content/drive/MyDrive/Dataset/Dakshina Dataset/hi/lexicons/hi.translit.sampled.dev.tsv'"
      ],
      "metadata": {
        "id": "npWhKo1-TP_x"
      },
      "execution_count": 4,
      "outputs": []
    },
    {
      "cell_type": "markdown",
      "source": [
        "# Field Cration"
      ],
      "metadata": {
        "id": "nWH-MkNSTjA-"
      }
    },
    {
      "cell_type": "code",
      "source": [
        "source_field = Field(tokenize=list, init_token='<sos>', eos_token='<eos>')\n",
        "target_field = Field(tokenize=list, init_token='<sos>', eos_token='<eos>')\n",
        "\n",
        "datafields=[('source', source_field), ('target', target_field)]"
      ],
      "metadata": {
        "id": "5iSS8UZpTTL9"
      },
      "execution_count": 5,
      "outputs": []
    },
    {
      "cell_type": "markdown",
      "source": [
        "# Create Dataset"
      ],
      "metadata": {
        "id": "5ENIVTBVTuh4"
      }
    },
    {
      "cell_type": "code",
      "source": [
        "train_dataset = TabularDataset(path=train_path, format='tsv', fields=[('source', source_field), ('target', target_field)])\n",
        "# train_dataset, test_dataset, val_dataset = TabularDataset.splits(\n",
        "#     path='/content/drive/MyDrive/Dataset/Dakshina Dataset/hi/lexicons/',\n",
        "#     train='hi.translit.sampled.train.tsv',\n",
        "#     test='hi.translit.sampled.test.tsv',\n",
        "#     validation = 'hi.translit.sampled.dev.tsv',\n",
        "#     format='csv',\n",
        "#     skip_header=True,\n",
        "#     fields=datafields\n",
        "# )\n"
      ],
      "metadata": {
        "id": "UZFrNHo4TmoX"
      },
      "execution_count": 6,
      "outputs": []
    },
    {
      "cell_type": "markdown",
      "source": [
        "# Build Vocab"
      ],
      "metadata": {
        "id": "-1TIxXNplqUB"
      }
    },
    {
      "cell_type": "code",
      "source": [
        "source_field.build_vocab(train_dataset.source)\n",
        "target_field.build_vocab(train_dataset.target)"
      ],
      "metadata": {
        "id": "C-wuqL2blr_S"
      },
      "execution_count": 7,
      "outputs": []
    },
    {
      "cell_type": "markdown",
      "source": [
        "# Hyper Parameter"
      ],
      "metadata": {
        "id": "m2YJqNKHXnfz"
      }
    },
    {
      "cell_type": "code",
      "source": [
        "batch_size = 32\n",
        "teacher_force_ratio = 0.5"
      ],
      "metadata": {
        "id": "9RT8r_NIXpxv"
      },
      "execution_count": 8,
      "outputs": []
    },
    {
      "cell_type": "markdown",
      "source": [
        "# Create Iterator for each train, test and val"
      ],
      "metadata": {
        "id": "LX3QE2eGXUZe"
      }
    },
    {
      "cell_type": "code",
      "source": [
        "train_iter = BucketIterator(\n",
        "    dataset = train_dataset,\n",
        "    batch_size = 32,\n",
        "    device = device\n",
        ")\n",
        "\n",
        "# train_iter, val_iter, test_iter = BucketIterator.splits(\n",
        "#     datasets=(train_dataset, val_dataset, test_dataset),\n",
        "#     batch_sizes=(batch_size, batch_size, batch_size),\n",
        "#     sort_key=lambda x: len(x.text),\n",
        "#     sort_within_batch=True,\n",
        "#     device=device\n",
        "# )"
      ],
      "metadata": {
        "id": "hEpVL5GxTwDL"
      },
      "execution_count": 9,
      "outputs": []
    },
    {
      "cell_type": "code",
      "source": [
        "source_field.tokenize('Rutvik')\n",
        "target_field.tokenize('अंकगणित')"
      ],
      "metadata": {
        "colab": {
          "base_uri": "https://localhost:8080/"
        },
        "id": "WQu5u25uXs27",
        "outputId": "95587f33-2054-421f-e211-9da17e384735"
      },
      "execution_count": 10,
      "outputs": [
        {
          "output_type": "execute_result",
          "data": {
            "text/plain": [
              "['अ', 'ं', 'क', 'ग', 'ण', 'ि', 'त']"
            ]
          },
          "metadata": {},
          "execution_count": 10
        }
      ]
    },
    {
      "cell_type": "code",
      "source": [
        "source_field.vocab"
      ],
      "metadata": {
        "colab": {
          "base_uri": "https://localhost:8080/"
        },
        "id": "NViZ_V4Zkxqe",
        "outputId": "736996df-b72c-457f-fb2e-1b6543723d2f"
      },
      "execution_count": 11,
      "outputs": [
        {
          "output_type": "execute_result",
          "data": {
            "text/plain": [
              "<torchtext.vocab.Vocab at 0x7f54cce5a3a0>"
            ]
          },
          "metadata": {},
          "execution_count": 11
        }
      ]
    },
    {
      "cell_type": "markdown",
      "source": [
        "# Model creation\n",
        "reference : https://www.youtube.com/watch?v=EoGUlvhRYpk"
      ],
      "metadata": {
        "id": "Ec42IAlMYBHC"
      }
    },
    {
      "cell_type": "markdown",
      "source": [
        "## Encoder"
      ],
      "metadata": {
        "id": "9CO-LbKfco02"
      }
    },
    {
      "cell_type": "code",
      "source": [
        "class Encoder(nn.Module):\n",
        "    def __init__(self, input_dim, emb_dim, hid_dim, n_layers, dropout):\n",
        "        super(Encoder, self).__init__()\n",
        "        self.input_dim = input_dim\n",
        "        self.emb_dim = emb_dim\n",
        "        self.hid_dim = hid_dim\n",
        "        self.n_layers = n_layers\n",
        "        self.dropout = dropout\n",
        "        \n",
        "        self.embedding = nn.Embedding(input_dim, emb_dim)\n",
        "        self.rnn = nn.LSTM(emb_dim, hid_dim, n_layers, dropout=dropout)\n",
        "        self.dropout = nn.Dropout(dropout)\n",
        "        \n",
        "    def forward(self, src):\n",
        "        embedded = self.dropout(self.embedding(src))\n",
        "        outputs, (hidden, cell) = self.rnn(embedded)\n",
        "        return hidden, cell"
      ],
      "metadata": {
        "id": "zmwZMw0FX5lN"
      },
      "execution_count": 44,
      "outputs": []
    },
    {
      "cell_type": "markdown",
      "source": [
        "## Decoder Model"
      ],
      "metadata": {
        "id": "wXHQwyfHeORn"
      }
    },
    {
      "cell_type": "code",
      "source": [
        "class Decoder(nn.Module):\n",
        "    def __init__(self, output_dim, emb_dim, hid_dim, n_layers, dropout):\n",
        "        super(Decoder, self).__init__()\n",
        "        self.output_dim = output_dim\n",
        "        self.emb_dim = emb_dim\n",
        "        self.hid_dim = hid_dim\n",
        "        self.n_layers = n_layers\n",
        "        self.dropout = dropout\n",
        "        \n",
        "        self.embedding = nn.Embedding(output_dim, emb_dim)\n",
        "        self.rnn = nn.LSTM(emb_dim, hid_dim, n_layers, dropout=dropout)\n",
        "        self.out = nn.Linear(hid_dim, output_dim)\n",
        "        self.dropout = nn.Dropout(dropout)\n",
        "        \n",
        "    def forward(self, input, hidden, cell):\n",
        "        input = input.unsqueeze(0)\n",
        "        embedded = self.dropout(self.embedding(input))\n",
        "        output, (hidden, cell) = self.rnn(embedded, (hidden, cell))\n",
        "        prediction = self.out(output.squeeze(0))\n",
        "        return prediction, hidden, cell"
      ],
      "metadata": {
        "id": "0XCSyjexeNQN"
      },
      "execution_count": 47,
      "outputs": []
    },
    {
      "cell_type": "markdown",
      "source": [
        "## Seq2Seq model"
      ],
      "metadata": {
        "id": "g1Esy1DueQAM"
      }
    },
    {
      "cell_type": "code",
      "source": [
        "class Seq2Seq(nn.Module):\n",
        "  def __init__(self, encoder, decoder, device):\n",
        "    super(Seq2Seq, self).__init__()\n",
        "    self.encoder = encoder\n",
        "    self.decoder = decoder\n",
        "    self.device = device\n",
        "\n",
        "\n",
        "  def forward(self, src, trg, teacher_forcing_ratio=0.5):\n",
        "    batch_size = trg.shape[1]\n",
        "    max_len = trg.shape[0]\n",
        "    trg_vocab_size = self.decoder.output_dim\n",
        "    \n",
        "    outputs = torch.zeros(max_len, batch_size, trg_vocab_size).to(self.device)\n",
        "    \n",
        "    hidden, cell = self.encoder(src)\n",
        "    \n",
        "    input = trg[0,:]\n",
        "    \n",
        "    for t in range(1, max_len):\n",
        "        output, hidden, cell = self.decoder(input, hidden, cell)\n",
        "        outputs[t] = output\n",
        "        teacher_force = random.random() < teacher_forcing_ratio\n",
        "        top1 = output.argmax(1)\n",
        "        input = trg[t] if teacher_force else top1\n",
        "    \n",
        "    return outputs\n"
      ],
      "metadata": {
        "id": "sXpMVGvOeR4-"
      },
      "execution_count": 48,
      "outputs": []
    },
    {
      "cell_type": "markdown",
      "source": [
        "# Dimension Defination"
      ],
      "metadata": {
        "id": "4S-EfRtIkXJu"
      }
    },
    {
      "cell_type": "code",
      "source": [
        "INPUT_DIM = len(source_field.vocab)\n",
        "OUTPUT_DIM = len(target_field.vocab)"
      ],
      "metadata": {
        "id": "UUgxLSPYkTF1"
      },
      "execution_count": 15,
      "outputs": []
    },
    {
      "cell_type": "code",
      "source": [
        "def train(ENC_EMB_DIM, DEC_EMB_DIM, HID_DIM, N_LAYERS, ENC_DROPOUT, DEC_DROPOUT):\n",
        "    enc = Encoder(INPUT_DIM, ENC_EMB_DIM, HID_DIM, N_LAYERS, ENC_DROPOUT)\n",
        "    dec = Decoder(OUTPUT_DIM, DEC_EMB_DIM, HID_DIM, N_LAYERS, DEC_DROPOUT)\n",
        "    model = Seq2Seq(enc, dec, device).to(device)\n",
        "\n",
        "    print(f\"Train model for Input Embedding:{ENC_EMB_DIM} | number of encoding and decoding layers : {N_LAYERS} | Hidden layer Size : {HID_DIM} \")\n",
        "\n",
        "    # Define the optimizer and the loss function\n",
        "    criterion = nn.CrossEntropyLoss(ignore_index=target_field.vocab.stoi['<pad>'])\n",
        "    optimizer = torch.optim.Adam(model.parameters())\n",
        "\n",
        "    N_EPOCHS = 15\n",
        "    CLIP = 1\n",
        "    start = time.time()\n",
        "\n",
        "    corr_tbl = torch.zeros((OUTPUT_DIM, OUTPUT_DIM), dtype=torch.long)\n",
        "    total_correct = 0\n",
        "    total_tokens = 0\n",
        "    \n",
        "    train_losses = []\n",
        "    train_accs = []\n",
        "\n",
        "    for epoch in range(N_EPOCHS):\n",
        "        epoch_loss = 0\n",
        "        epoch_correct = 0\n",
        "        epoch_tokens = 0\n",
        "        model.train()\n",
        "        \n",
        "        for batch in train_iter:\n",
        "            src = batch.source\n",
        "            trg = batch.target\n",
        "            optimizer.zero_grad()\n",
        "            \n",
        "            output = model(src, trg)\n",
        "            \n",
        "            # trg = [trg len, batch size]\n",
        "            # output = [trg len, batch size, output dim]\n",
        "            \n",
        "            output_dim = output.shape[-1]\n",
        "            \n",
        "            output = output[1:].view(-1, output_dim)\n",
        "            trg = trg[1:].view(-1)\n",
        "            \n",
        "            # trg = [(trg len - 1) * batch size]\n",
        "            # output = [(trg len - 1) * batch size, output dim]\n",
        "            \n",
        "            loss = criterion(output, trg)\n",
        "            loss.backward()\n",
        "            \n",
        "            # Clip the gradients to prevent them from exploding\n",
        "            torch.nn.utils.clip_grad_norm_(model.parameters(), CLIP)\n",
        "            \n",
        "            optimizer.step()\n",
        "            epoch_loss += loss.item()\n",
        "\n",
        "            # Calculate accuracy and update correlation table\n",
        "            pred = output.argmax(dim=1)\n",
        "            correct = pred.eq(trg).sum().item()\n",
        "            epoch_correct += correct\n",
        "            total_correct += correct\n",
        "            epoch_tokens += trg.shape[0]\n",
        "            total_tokens += trg.shape[0]\n",
        "            for i, p in enumerate(pred):\n",
        "                corr_tbl[trg[i]][p] += 1\n",
        "        \n",
        "        train_loss = epoch_loss / len(train_iter)\n",
        "        train_losses.append(train_loss)\n",
        "\n",
        "        # Calculate accuracy for this epoch\n",
        "        epoch_accuracy = (epoch_correct / epoch_tokens) * 100\n",
        "        train_accs.append(epoch_accuracy)\n",
        "\n",
        "        print(f'Epoch: {epoch+1}, Training Loss: {train_loss:.3f}, Training Accuracy: {epoch_accuracy:.2f}%')\n",
        "        \n",
        "\n",
        "    end = time.time()\n",
        "    print(f\"Time taken:  {(end- start) / N_EPOCHS}\")\n",
        "    # Plot training loss and accuracy for all epochs\n",
        "    fig, ax1 = plt.subplots()\n",
        "\n",
        "    color = 'tab:red'\n",
        "    ax1.set_xlabel('Epoch')\n",
        "    ax1.set_ylabel('Training Loss', color=color)\n",
        "    ax1.plot(train_losses, color=color)\n",
        "    ax1.tick_params(axis='y', labelcolor=color)\n",
        "    plt.show()\n",
        "    fig, ax2 = plt.subplots()\n",
        "\n",
        "    color = 'tab:blue'\n",
        "    ax1.set_xlabel('Epoch')\n",
        "    ax2.set_ylabel('Training Accuracy', color=color)\n",
        "    ax2.plot(train_accs, color=color)\n",
        "    ax2.tick_params(axis='y', labelcolor=color)\n",
        "\n",
        "    plt.show()\n",
        "\n",
        "    print('Correlation Table:')\n",
        "    for i in range(OUTPUT_DIM):\n",
        "        row = \" \".join([f\"{corr_tbl[i][j]:5}\" for j in range(OUTPUT_DIM)])\n",
        "        print(row)\n",
        "\n",
        "    return model, criterion\n"
      ],
      "metadata": {
        "id": "1FbT9ItLka8-"
      },
      "execution_count": 35,
      "outputs": []
    },
    {
      "cell_type": "code",
      "source": [
        "model1, criterian1 = train(ENC_EMB_DIM = 16, DEC_EMB_DIM = 16 , HID_DIM = 16, N_LAYERS = 1, ENC_DROPOUT = 0.5, DEC_DROPOUT= 0.5)"
      ],
      "metadata": {
        "colab": {
          "base_uri": "https://localhost:8080/",
          "height": 1000
        },
        "id": "PK2vLIyFmYai",
        "outputId": "3e02fcf0-948c-4a11-9bd2-f775bd95d63e"
      },
      "execution_count": 36,
      "outputs": [
        {
          "output_type": "stream",
          "name": "stdout",
          "text": [
            "Train model for Input Embedding:16 | number of encoding and decoding layers : 1 | Hidden layer Size : 16 \n",
            "Epoch: 1, Training Loss: 2.644, Training Accuracy: 14.82%\n",
            "Epoch: 2, Training Loss: 2.469, Training Accuracy: 16.83%\n",
            "Epoch: 3, Training Loss: 2.397, Training Accuracy: 17.73%\n",
            "Epoch: 4, Training Loss: 2.332, Training Accuracy: 18.45%\n",
            "Epoch: 5, Training Loss: 2.279, Training Accuracy: 19.10%\n",
            "Epoch: 6, Training Loss: 2.214, Training Accuracy: 19.96%\n",
            "Epoch: 7, Training Loss: 2.154, Training Accuracy: 20.86%\n",
            "Epoch: 8, Training Loss: 2.108, Training Accuracy: 21.48%\n",
            "Epoch: 9, Training Loss: 2.072, Training Accuracy: 21.94%\n",
            "Epoch: 10, Training Loss: 2.043, Training Accuracy: 22.31%\n",
            "Epoch: 11, Training Loss: 2.014, Training Accuracy: 22.98%\n",
            "Epoch: 12, Training Loss: 1.984, Training Accuracy: 23.48%\n",
            "Epoch: 13, Training Loss: 1.958, Training Accuracy: 23.92%\n",
            "Epoch: 14, Training Loss: 1.941, Training Accuracy: 24.17%\n",
            "Epoch: 15, Training Loss: 1.925, Training Accuracy: 24.36%\n",
            "Time taken:  64.56099702517191\n"
          ]
        },
        {
          "output_type": "display_data",
          "data": {
            "text/plain": [
              "<Figure size 640x480 with 1 Axes>"
            ],
            "image/png": "[encoded data removed]"
          },
          "metadata": {}
        },
        {
          "output_type": "display_data",
          "data": {
            "text/plain": [
              "<Figure size 640x480 with 1 Axes>"
            ],
            "image/png": "[encoded data removed]"
          },
          "metadata": {}
        },
        {
          "output_type": "stream",
          "name": "stdout",
          "text": [
            "Correlation Table:\n",
            "    0     0     0     0     0     0     0     0     0     0     0     0     0     0     0     0     0     0     0     0     0     0     0     0     0     0     0     0     0     0\n",
            "    0     0     0 3846592 33973  4292  2006   380   565   328   108   976   424    29    23  1055    16     0    62     7    15    16  1273    18    10   121   413     7     0   354\n",
            "    0     0     0     0     0     0     0     0     0     0     0     0     0     0     0     0     0     0     0     0     0     0     0     0     0     0     0     0     0     0\n",
            "    0     0     0 574029 57100 15524  4400  2830  1527   541   265  2380  1621    37    39  2200    10     0   260     6     4    14    26    38     0    25   102     1     0    81\n",
            "    0     0     0 99240 755764 30665 35640 31509 22038  5901 18053  7304  6248   488   185 14977   199    46  2099  1959  1080  2705   145   252    40    31   130     0     0    87\n",
            "    0     0     0 68584 107717 87470 10914  3440 24201  5312 12232  2394  1753   365   297 11418    13  2360  1597  8882   676  1920    62   638   195    16   658     0     0    46\n",
            "    0     0     0 47088 140634 15135 92996 11796  7304  3771  4360 10095  1221   238   139  6781    10     6  1234   313   559   719    91   367    19     5    53     0     0    36\n",
            "    0     0     0 20972 136822  4798 12067 118247 10888  1939  9772  2789  1578   566   195  3731    32    62   154   191   486  2619    38   574    57    18    32     0     0    23\n",
            "    0     0     0 33223 128165 37743 12244  9488 44363  5292 14267  2578  3030   367   262  5454   221   357   778 12574   448  2029    39   604    44     6   660     0     0    29\n",
            "    0     0     0 29325 98871 33390 14466  9414 17971 11204 16268  2346  2384   448   334  7068    11  4731  1607  3696   735  2885   220   657   596     6   374     0     0    28\n",
            "    0     0     0 12262 68936 11336  7451 10872 17944  4049 76701  1584   805   898   653  4265     4  1078   501  2538  1489  8898   109  1243   695     5    51     0     0    23\n",
            "    0     0     0 49313 75427 12375 46211  8864  4607  1973  3294 13550  1725   197   134  6047    16    22   665   372   257   578    73   426    16     3    52     0     0    18\n",
            "    0     0     0 19616 99355 16436  6994  4602  7167  2387  1206  2409 11977    72    40  3283   191    28   279   825    29   606    54   178    26     9    71     0     0    15\n",
            "    0     0     0 12727 64753 11632  6862  7949  9848  2600 30837  1633   630  1666   644  5890     1   448   802   387  2812  7242   125  1006   702     7    42     0     0    25\n",
            "    0     0     0 14294 53012 11825  5177  5726 11132  3706 30863  1213   708   646  1174  5841     4   911  1142   483   582 13392   100  1140  1197     7    44     0     0    21\n",
            "    0     0     0 15693 48367  8851  5003  2205  1726   764  2545  2284   798   355   222 44491    17   167   413    11   136  7954   113   681  2873     1    66     0     0    19\n",
            "    0     0     0  4189 104003  6057  3083  5008  6290  1616  3842   899  3475    80    26  2531   149    28   176   900    36  1095    38    57    31     5    30     0     0    11\n",
            "    0     0     0  7723 46823 13220  3738  2604  9873  2693 19460   904   604   316   396  5668     5 12548   318   689   375  8181   139   499  1273     2   113     0     0    16\n",
            "    0     0     0 21959 57657 15177  5800  1557  1589  2370  2400   850   212    88    60  2969    15    86  4662   546   776   189    41    39   138    14    15     0     0    11\n",
            "    0     0     0  2581 30513  9617  3315  1745  9002  2962 15932   581   854    77    54  1536    63   190   212 35467    78  2135    33   179   127     3  1731     0     0     8\n",
            "    0     0     0  3831 42301  4783  4178  2945  3831  1380 18040   262    51   650    71  2486     0   145  1095   715  7808   942    33   116   213     3    22     0     0     9\n",
            "    0     0     0  1295 23361  2189  1603  3872  2287   443 12043   815   353   432   442  7126     0   337    47   137    63 35189    58  1295  1288     1    30     0     0     4\n",
            "    0     0     0  7371 31224 10057  3974  1361  2347  1652  8294   996   910   205   454  6343     1  2265   384   250   220  6567   542   565  3112     2    91     0     0     3\n",
            "    0     0     0  2336 21614  4586  3117  5892  5275  1355 16002  1024   348   421   696  2803     1   379   154   339    74 15139    74  2600   269     2    36     0     0     4\n",
            "    0     0     0  2747 19205  5076  1667   676  1476   719  8668   377   174   334   565  6352     1  1155   253   191   575  9118   205   244  7559     1    39     0     0     3\n",
            "    0     0     0   707 17719  1617  1285  1376   965   263  3213   117    65   190    15  1345     0    42   277   161  1332   358    19    37   120    28     9     0     0     0\n",
            "    0     0     0   760  3931  2527   690   162   841   338  1662   486   424    12    31  1751    18   164    30  2699     7  1780    17   138   176     0  2879     0     0     2\n",
            "    0     0     0   770  2977   902   245   144   311    64   389    89    54    46    49  1295     0    66    15     8    17   537    20    27   267     0     3     0     0     0\n",
            "    0     0     0    33   528   428   128    77   514    43   357    70    24    18    10   163     3     0     9     3     2    45     0    47     0     0     2     0     0     1\n",
            "    0     0     0   148   407    81    54    25    62    21   428    33     4     5    13   113     0    12     2     8    14   122     0     2    34     2     0     0     0     0\n"
          ]
        }
      ]
    },
    {
      "cell_type": "code",
      "source": [
        "def evaluate(model, iterator, criterion):\n",
        "    model.eval()\n",
        "    epoch_loss = 0\n",
        "    epoch_acc = 0\n",
        "    \n",
        "    with torch.no_grad():\n",
        "        for batch in iterator:\n",
        "            src = batch.source\n",
        "            trg = batch.target\n",
        "\n",
        "            output = model(src, trg) # Turn off teacher forcing\n",
        "\n",
        "            # trg = [trg len, batch size]\n",
        "            # output = [trg len, batch size, output dim]\n",
        "\n",
        "            output_dim = output.shape[-1]\n",
        "            \n",
        "            output = output[1:].view(-1, output_dim)\n",
        "            trg = trg[1:].view(-1)\n",
        "\n",
        "            # trg = [(trg len - 1) * batch size]\n",
        "            # output = [(trg len - 1) * batch size, output dim]\n",
        "\n",
        "            loss = criterion(output, trg)\n",
        "            epoch_loss += loss.item()\n",
        "\n",
        "            # compute accuracy\n",
        "            pred = torch.argmax(output, dim=1) # predicted character index\n",
        "            non_pad_mask = trg != target_field.vocab.stoi['<pad>'] # mask padding positions\n",
        "            num_correct = torch.sum(pred[non_pad_mask] == trg[non_pad_mask])\n",
        "            num_non_pad = torch.sum(non_pad_mask)\n",
        "            acc = num_correct.float() / num_non_pad\n",
        "            epoch_acc += acc.item()\n",
        "\n",
        "    return epoch_loss / len(iterator), (epoch_acc / len(iterator)) * 100\n",
        "\n",
        "\n",
        "test_dataset = TabularDataset(path=test_path, format='tsv', fields=[('source', source_field), ('target', target_field)])\n",
        "test_iter = BucketIterator(\n",
        "    dataset=test_dataset,\n",
        "    batch_size=32,\n",
        "    device=device\n",
        ")\n",
        "\n"
      ],
      "metadata": {
        "id": "_fAPIw4VqHar"
      },
      "execution_count": 37,
      "outputs": []
    },
    {
      "cell_type": "code",
      "source": [
        "test_loss, acc = evaluate(model1, test_iter, criterian1)\n",
        "print(f'Test Loss: {test_loss:.3f} | Test Accuracy : {acc: .3f}%')"
      ],
      "metadata": {
        "colab": {
          "base_uri": "https://localhost:8080/"
        },
        "id": "TzRz-gmbpDoM",
        "outputId": "ead01b3b-e967-4070-ce13-99a2ad6f7449"
      },
      "execution_count": 38,
      "outputs": [
        {
          "output_type": "stream",
          "name": "stdout",
          "text": [
            "Test Loss: 1.823 | Test Accuracy :  44.543\n"
          ]
        }
      ]
    },
    {
      "cell_type": "code",
      "source": [
        "model2, criterian2 = train(ENC_EMB_DIM = 64, DEC_EMB_DIM = 64 , HID_DIM = 64, N_LAYERS = 3, ENC_DROPOUT = 0.5, DEC_DROPOUT= 0.5)\n"
      ],
      "metadata": {
        "colab": {
          "base_uri": "https://localhost:8080/",
          "height": 1000
        },
        "id": "A-5xH7QopFVY",
        "outputId": "a1f25d42-ce20-4772-c817-3f6a6c893151"
      },
      "execution_count": 39,
      "outputs": [
        {
          "output_type": "stream",
          "name": "stdout",
          "text": [
            "Train model for Input Embedding:64 | number of encoding and decoding layers : 3 | Hidden layer Size : 64 \n",
            "Epoch: 1, Training Loss: 2.538, Training Accuracy: 16.04%\n",
            "Epoch: 2, Training Loss: 2.150, Training Accuracy: 21.15%\n",
            "Epoch: 3, Training Loss: 1.700, Training Accuracy: 27.83%\n",
            "Epoch: 4, Training Loss: 1.456, Training Accuracy: 31.58%\n",
            "Epoch: 5, Training Loss: 1.306, Training Accuracy: 34.10%\n",
            "Epoch: 6, Training Loss: 1.200, Training Accuracy: 35.93%\n",
            "Epoch: 7, Training Loss: 1.135, Training Accuracy: 37.03%\n",
            "Epoch: 8, Training Loss: 1.083, Training Accuracy: 37.97%\n",
            "Epoch: 9, Training Loss: 1.038, Training Accuracy: 38.75%\n",
            "Epoch: 10, Training Loss: 1.003, Training Accuracy: 39.34%\n",
            "Epoch: 11, Training Loss: 0.981, Training Accuracy: 39.69%\n",
            "Epoch: 12, Training Loss: 0.950, Training Accuracy: 40.39%\n",
            "Epoch: 13, Training Loss: 0.934, Training Accuracy: 40.53%\n",
            "Epoch: 14, Training Loss: 0.914, Training Accuracy: 40.96%\n",
            "Epoch: 15, Training Loss: 0.899, Training Accuracy: 41.31%\n",
            "Time taken:  84.68138825098673\n"
          ]
        },
        {
          "output_type": "display_data",
          "data": {
            "text/plain": [
              "<Figure size 640x480 with 1 Axes>"
            ],
            "image/png": "[encoded data removed]"
          },
          "metadata": {}
        },
        {
          "output_type": "display_data",
          "data": {
            "text/plain": [
              "<Figure size 640x480 with 1 Axes>"
            ],
            "image/png": "[encoded data removed]"
          },
          "metadata": {}
        },
        {
          "output_type": "stream",
          "name": "stdout",
          "text": [
            "Correlation Table:\n",
            "    0     0     0     0     0     0     0     0     0     0     0     0     0     0     0     0     0     0     0     0     0     0     0     0     0     0     0     0     0     0\n",
            "    0     0     0 3819423 15676 16169 10023 12112  3342  1549  1877  1472   840   830  1508  1403    23   765   580   816   133    93   293   118   110     0    15     1     0     0\n",
            "    0     0     0     0     0     0     0     0     0     0     0     0     0     0     0     0     0     0     0     0     0     0     0     0     0     0     0     0     0     0\n",
            "    0     0     0 569138 31099 13461  9458  3319  5469  6007  3465  4785  2751  2409  1932  2948   268  1550  2070   708   482   250   803   181   423     1    81     2     0     0\n",
            "    0     0     0 63241 723700 32302 22888 22015 32974 22992 16651  9640  8403 11435  9009 14011  4128  8882  9392  5730  6960  3261  4226  1106  3205   374   253     2     5     0\n",
            "    0     0     0 29287 54361 218974  6354  1879  5106  3630  4605  3272  5540  3237  1066  2842   436  4542  1903  1098   772   366  2648   639   561    34     7     1     0     0\n",
            "    0     0     0 23291 62557 10152 176147  6792  8474 10159  6225 12299  2496  3547  2881  5604   497  1963  4688  1546  2073   710  1159   860   530    35   283     1     1     0\n",
            "    0     0     0 10058 56572  2947  7808 218227  4702  4612  6882  1317  2275  3748  2324   711  1198   560   629   352   418   975   355  1658   224    61    37     0     0     0\n",
            "    0     0     0 14767 60169  6520  8273  3481 185136  8901  4566  3161  3475  3175  2278  1337  1536   942   626  2824  1381   415   772   210   187    67    63     0     3     0\n",
            "    0     0     0 13992 47194  4318 10437  7756 10206 139505  5824  1788  1503   498  5129  3665   899   802   865  1765   726   194   121  1635    45    27   135     0     6     0\n",
            "    0     0     0  8329 26716  2994  4731 10098  3501  2809 157696  1404   900  2238  3262   666   617  1912   315   882   364  1351   388  2364   696    30   122     2     3     0\n",
            "    0     0     0 33521 49927  9655 41527  3444  9410  6126  4925 43397  2736  3261  1769  5414   650  1866  2109  1318  1789   734  1216   603   431   146   238     0     3     0\n",
            "    0     0     0  9445 39471 12630  5706  2281  7777  3812  2432  2109 62852  1901  1506  3328 14685  1310  1582  1682   361   589  1048   694   473    14   156     0    11     0\n",
            "    0     0     0  6923 28063  5009  3831  6118  3509   575  5791  1163  1018 98966   840   788   541   702   391   775  1464  1465  1843   978   449    29    39     0     0     0\n",
            "    0     0     0  6966 26491  2208  3588  4017  5353  6709 10260   565  1269   810 88284  1248   399   806   187   512    76   750    75  3600    72    15    13     0    67     0\n",
            "    0     0     0  7051 23912  4699  5331   501  1698  2248  1395  1812  1705   194  1086 89627   535   690   490   367   167   405  1277   199   192    26   148     0     0     0\n",
            "    0     0     0  3156 40826  3132  3685  2832  7209  3927  3480   939 14110  2155  1173  2204 46884  1296  1024  2530   362   774   688   481   490   115   183     0     0     0\n",
            "    0     0     0  3953 22897  9136  2825   815  1878   857  5597   565   827   566   848   996   455 81162   278   466    33  3075   130    59   738    14     9     1     0     0\n",
            "    0     0     0 14757 33587  6956  9520  1154  2474  2962  1371  1337  1739   775   568  1614   715   580 35403   536  1900   197   643    57   240    81    53     1     0     0\n",
            "    0     0     0  1903 14377  1881  1905   420  5612  2794  4991   637   706   446   172   674  1458    80   128 76584  1173   123   158   233    28   167  2340     0     5     0\n",
            "    0     0     0  2382 24113  2788  3257   810  3581  1128  2677   514   219  2837   145   594   165    80   777  2216 45929   177   359    24    95  1005    38     0     0     0\n",
            "    0     0     0   836 12129  1103  1124  1859   762    80  5490   374   443  1968   760   851   347  3912    30    72   116 60487   297   190  1444    24    11     1     0     0\n",
            "    0     0     0  3647 14757  4492  2363   947  1744   493  1807   755   656  2554   242  2621   326   500   467   225   355   827 43326   218  5707    18   134     8     1     0\n",
            "    0     0     0  1310  7458  1233  2152  6578  1601  2475 11133   386   460  1450 12340   679   215   263    38   365    55   263    81 33847    33    12    50     0    63     0\n",
            "    0     0     0  1451  9110  2146  1303   569   557    55  1924   299   293   864   191   809   196   845   154    51   139  2193  4743    65 39347    10    44    21     1     0\n",
            "    0     0     0   621 10631   983   768   375  1174   191   691   184   239   673    45   429   125    34   248   516  9469    73   206     8    87  3475    13     1     1     0\n",
            "    0     0     0   500  2134   305   671    23   710   901   880   337   184    75    46   963   245    44    44  2027    74    55   194    85    31     1 10996     0     0     0\n",
            "    0     0     0   474  1500   392   254    94   124    11   141   114    84   107     9   160    26   186    20     5     9   304   552     6  3686     1    27     9     0     0\n",
            "    0     0     0    30   219    23    90    17   111    53   654    58    32     9   439    39     6    20     0     5     1    26     0   391     0     0     1     0   281     0\n",
            "    0     0     0    72   167    10    38    13    41   100    91     0     1    14   857    12     4     5     3     8     1     9     0   101     3    21     3     0     0    16\n"
          ]
        }
      ]
    },
    {
      "cell_type": "code",
      "source": [
        "test_loss, acc = evaluate(model2, test_iter, criterian2)\n",
        "print(f'Test Loss: {test_loss:.3f} | Test Accuracy : {acc: .3f}%')"
      ],
      "metadata": {
        "colab": {
          "base_uri": "https://localhost:8080/"
        },
        "id": "OFqphCespG-K",
        "outputId": "2fbd1167-bbd8-4cec-9fe8-1ce8bfdd6547"
      },
      "execution_count": 40,
      "outputs": [
        {
          "output_type": "stream",
          "name": "stdout",
          "text": [
            "Test Loss: 0.713 | Test Accuracy :  77.130\n"
          ]
        }
      ]
    },
    {
      "cell_type": "markdown",
      "source": [
        "# LSTM with attention layer"
      ],
      "metadata": {
        "id": "riUqqfpiGFGk"
      }
    },
    {
      "cell_type": "markdown",
      "source": [
        "## Encoder"
      ],
      "metadata": {
        "id": "WtrKLpiEJvo8"
      }
    },
    {
      "cell_type": "code",
      "source": [
        "class EncoderAtt(nn.Module):\n",
        "    def __init__(self, input_dim, emb_dim, hid_dim, n_layers, dropout):\n",
        "        super(EncoderAtt, self).__init__()\n",
        "        self.input_dim = input_dim\n",
        "        self.emb_dim = emb_dim\n",
        "        self.hid_dim = hid_dim\n",
        "        self.n_layers = n_layers\n",
        "        self.dropout = dropout\n",
        "        \n",
        "        self.embedding = nn.Embedding(input_dim, emb_dim)\n",
        "        self.rnn = nn.LSTM(emb_dim, hid_dim, n_layers, bidirectional = True, dropout=dropout)\n",
        "        self.dropout = nn.Dropout(dropout)\n",
        "\n",
        "        self.fc_hidden = nn.Linear(hid_dim*2, hid_dim)\n",
        "        self.fc_cell = nn.Linear(hid_dim*2, hid_dim)\n",
        "        \n",
        "    def forward(self, src):\n",
        "        embedded = self.dropout(self.embedding(src))\n",
        "        enc_states, (hidden, cell) = self.rnn(embedded)\n",
        "\n",
        "        hidden = self.fc_hidden(torch.cat((hidden[0:1], hidden[1:2]), dim = 2))\n",
        "        cell = self.fc_cell(torch.cat((cell[0:1], cell[1:2]), dim = 2))\n",
        "        return enc_states,hidden, cell"
      ],
      "metadata": {
        "id": "XSxA4DrjGEfk"
      },
      "execution_count": 53,
      "outputs": []
    },
    {
      "cell_type": "markdown",
      "source": [
        "## Decoder"
      ],
      "metadata": {
        "id": "PFLC63VPKtJ7"
      }
    },
    {
      "cell_type": "code",
      "source": [
        "class DecoderAtt(nn.Module):\n",
        "    def __init__(self, output_dim, emb_dim, hid_dim, n_layers, dropout):\n",
        "        super(DecoderAtt, self).__init__()\n",
        "        self.output_dim = output_dim\n",
        "        self.emb_dim = emb_dim\n",
        "        self.hid_dim = hid_dim\n",
        "        self.n_layers = n_layers\n",
        "        self.dropout = dropout\n",
        "        \n",
        "        self.energy = nn.Linear(hid_dim*3, 1)\n",
        "        self.softmax = nn.Softmax(dim = 0)\n",
        "        self.relu = nn.ReLU()\n",
        "        self.embedding = nn.Embedding(output_dim, emb_dim)\n",
        "        self.rnn = nn.LSTM(hid_dim*2 + emb_dim, hid_dim, n_layers, dropout=dropout)\n",
        "        self.out = nn.Linear(hid_dim, output_dim)\n",
        "        self.dropout = nn.Dropout(dropout)\n",
        "        \n",
        "    def forward(self, input, enc_state, hidden, cell):\n",
        "        input = input.unsqueeze(0)\n",
        "        embedded = self.dropout(self.embedding(input))\n",
        "\n",
        "        seq_len = enc_state.shape[0]\n",
        "        h_reshaped = hidden.repeat(seq_len, 1, 1)\n",
        "        energy = self.relu(self.energy(torch.cat((h_reshaped, enc_state), dim = 2)))\n",
        "        attention = self.softmax(energy)\n",
        "        attention = attention.permute(1, 0, 2)\n",
        "\n",
        "        enc_state = enc_state.permute(1, 0, 2)\n",
        "\n",
        "        context_vec = torch.bmm(attention, enc_state).permute(1, 0, 2)\n",
        "\n",
        "        rnn_input = torch.cat((context_vec, embedded), dim = 2)\n",
        "\n",
        "        output, (hidden, cell) = self.rnn(embedded, (hidden, cell))\n",
        "        prediction = self.out(output)\n",
        "\n",
        "        prediction = prediction.squeeze(0)\n",
        "        return prediction, hidden, cell"
      ],
      "metadata": {
        "id": "pwKjy9-EsAO0"
      },
      "execution_count": 54,
      "outputs": []
    },
    {
      "cell_type": "markdown",
      "source": [
        "# Seq2Seq"
      ],
      "metadata": {
        "id": "Mw_TLumTKwOb"
      }
    },
    {
      "cell_type": "code",
      "source": [
        "class Seq2SeqAtt(nn.Module):\n",
        "  def __init__(self, encoder, decoder, device):\n",
        "    super(Seq2SeqAtt, self).__init__()\n",
        "    self.encoder = encoder\n",
        "    self.decoder = decoder\n",
        "    self.device = device\n",
        "\n",
        "\n",
        "  def forward(self, src, trg, teacher_forcing_ratio=0.5):\n",
        "    batch_size = trg.shape[1]\n",
        "    max_len = trg.shape[0]\n",
        "    trg_vocab_size = self.decoder.output_dim\n",
        "    \n",
        "    outputs = torch.zeros(max_len, batch_size, trg_vocab_size).to(self.device)\n",
        "    \n",
        "    enc_state, hidden, cell = self.encoder(src)\n",
        "    \n",
        "    input = trg[0,:]\n",
        "    \n",
        "    for t in range(1, max_len):\n",
        "        output, hidden, cell = self.decoder(input, enc_state, hidden, cell)\n",
        "        outputs[t] = output\n",
        "        teacher_force = random.random() < teacher_forcing_ratio\n",
        "        top1 = output.argmax(1)\n",
        "        input = trg[t] if teacher_force else top1\n",
        "    \n",
        "    return outputs\n"
      ],
      "metadata": {
        "id": "mjcGOEkCKxle"
      },
      "execution_count": 55,
      "outputs": []
    },
    {
      "cell_type": "code",
      "source": [
        "def train(ENC_EMB_DIM, DEC_EMB_DIM, HID_DIM, N_LAYERS, ENC_DROPOUT, DEC_DROPOUT):\n",
        "    enc = Encoder(INPUT_DIM, ENC_EMB_DIM, HID_DIM, N_LAYERS, ENC_DROPOUT)\n",
        "    dec = Decoder(OUTPUT_DIM, DEC_EMB_DIM, HID_DIM, N_LAYERS, DEC_DROPOUT)\n",
        "    model = Seq2Seq(enc, dec, device).to(device)\n",
        "\n",
        "    print(f\"Train model for Input Embedding:{ENC_EMB_DIM} | number of encoding and decoding layers : {N_LAYERS} | Hidden layer Size : {HID_DIM} \")\n",
        "\n",
        "    # Define the optimizer and the loss function\n",
        "    criterion = nn.CrossEntropyLoss(ignore_index=target_field.vocab.stoi['<pad>'])\n",
        "    optimizer = torch.optim.Adam(model.parameters())\n",
        "\n",
        "    N_EPOCHS = 15\n",
        "    CLIP = 1\n",
        "    start = time.time()\n",
        "\n",
        "    corr_tbl = torch.zeros((OUTPUT_DIM, OUTPUT_DIM), dtype=torch.long)\n",
        "    total_correct = 0\n",
        "    total_tokens = 0\n",
        "    \n",
        "    train_losses = []\n",
        "    train_accs = []\n",
        "\n",
        "    for epoch in range(N_EPOCHS):\n",
        "        epoch_loss = 0\n",
        "        epoch_correct = 0\n",
        "        epoch_tokens = 0\n",
        "        model.train()\n",
        "        \n",
        "        for batch in train_iter:\n",
        "            src = batch.source\n",
        "            trg = batch.target\n",
        "            optimizer.zero_grad()\n",
        "            \n",
        "            output = model(src, trg)\n",
        "            \n",
        "            # trg = [trg len, batch size]\n",
        "            # output = [trg len, batch size, output dim]\n",
        "            \n",
        "            output_dim = output.shape[-1]\n",
        "            \n",
        "            output = output[1:].view(-1, output_dim)\n",
        "            trg = trg[1:].view(-1)\n",
        "            \n",
        "            # trg = [(trg len - 1) * batch size]\n",
        "            # output = [(trg len - 1) * batch size, output dim]\n",
        "            \n",
        "            loss = criterion(output, trg)\n",
        "            loss.backward()\n",
        "            \n",
        "            # Clip the gradients to prevent them from exploding\n",
        "            torch.nn.utils.clip_grad_norm_(model.parameters(), CLIP)\n",
        "            \n",
        "            optimizer.step()\n",
        "            epoch_loss += loss.item()\n",
        "\n",
        "            # Calculate accuracy and update correlation table\n",
        "            pred = output.argmax(dim=1)\n",
        "            correct = pred.eq(trg).sum().item()\n",
        "            epoch_correct += correct\n",
        "            total_correct += correct\n",
        "            epoch_tokens += trg.shape[0]\n",
        "            total_tokens += trg.shape[0]\n",
        "            for i, p in enumerate(pred):\n",
        "                corr_tbl[trg[i]][p] += 1\n",
        "        \n",
        "        train_loss = epoch_loss / len(train_iter)\n",
        "        train_losses.append(train_loss)\n",
        "\n",
        "        # Calculate accuracy for this epoch\n",
        "        epoch_accuracy = (epoch_correct / epoch_tokens) * 100\n",
        "        train_accs.append(epoch_accuracy)\n",
        "\n",
        "        print(f'Epoch: {epoch+1}, Training Loss: {train_loss:.3f}, Training Accuracy: {epoch_accuracy:.2f}%')\n",
        "        \n",
        "\n",
        "    end = time.time()\n",
        "    print(f\"Time taken:  {(end- start) / N_EPOCHS}\")\n",
        "    # Plot training loss and accuracy for all epochs\n",
        "    fig, ax1 = plt.subplots()\n",
        "\n",
        "    color = 'tab:red'\n",
        "    ax1.set_xlabel('Epoch')\n",
        "    ax1.set_ylabel('Training Loss', color=color)\n",
        "    ax1.plot(train_losses, color=color)\n",
        "    ax1.tick_params(axis='y', labelcolor=color)\n",
        "    plt.show()\n",
        "    fig, ax2 = plt.subplots()\n",
        "\n",
        "    color = 'tab:blue'\n",
        "    ax1.set_xlabel('Epoch')\n",
        "    ax2.set_ylabel('Training Accuracy', color=color)\n",
        "    ax2.plot(train_accs, color=color)\n",
        "    ax2.tick_params(axis='y', labelcolor=color)\n",
        "\n",
        "    plt.show()\n",
        "\n",
        "    print('Correlation Table:')\n",
        "    for i in range(OUTPUT_DIM):\n",
        "        row = \" \".join([f\"{corr_tbl[i][j]:5}\" for j in range(OUTPUT_DIM)])\n",
        "        print(row)\n",
        "\n",
        "    return model, criterion\n"
      ],
      "metadata": {
        "id": "uhoS6Q9xUHJZ"
      },
      "execution_count": 56,
      "outputs": []
    },
    {
      "cell_type": "code",
      "source": [
        "model1, criterian1 = train(ENC_EMB_DIM = 16, DEC_EMB_DIM = 16 , HID_DIM = 16, N_LAYERS = 1, ENC_DROPOUT = 0.5, DEC_DROPOUT= 0.5)"
      ],
      "metadata": {
        "colab": {
          "base_uri": "https://localhost:8080/",
          "height": 1000
        },
        "id": "1RShO-fKUG-z",
        "outputId": "64c3f1af-f865-4996-a508-2044a610ab6b"
      },
      "execution_count": 57,
      "outputs": [
        {
          "output_type": "stream",
          "name": "stderr",
          "text": [
            "/usr/local/lib/python3.9/dist-packages/torch/nn/modules/rnn.py:58: UserWarning: dropout option adds dropout after all but last recurrent layer, so non-zero dropout expects num_layers greater than 1, but got dropout=0.5 and num_layers=1\n",
            "  warnings.warn(\"dropout option adds dropout after all but last \"\n"
          ]
        },
        {
          "output_type": "stream",
          "name": "stdout",
          "text": [
            "Train model for Input Embedding:16 | number of encoding and decoding layers : 1 | Hidden layer Size : 16 \n",
            "Epoch: 1, Training Loss: 2.654, Training Accuracy: 15.04%\n",
            "Epoch: 2, Training Loss: 2.469, Training Accuracy: 17.00%\n",
            "Epoch: 3, Training Loss: 2.377, Training Accuracy: 18.16%\n",
            "Epoch: 4, Training Loss: 2.299, Training Accuracy: 19.21%\n",
            "Epoch: 5, Training Loss: 2.219, Training Accuracy: 20.02%\n",
            "Epoch: 6, Training Loss: 2.145, Training Accuracy: 20.80%\n",
            "Epoch: 7, Training Loss: 2.090, Training Accuracy: 21.43%\n",
            "Epoch: 8, Training Loss: 2.046, Training Accuracy: 22.07%\n",
            "Epoch: 9, Training Loss: 2.013, Training Accuracy: 22.51%\n",
            "Epoch: 10, Training Loss: 1.985, Training Accuracy: 22.95%\n",
            "Epoch: 11, Training Loss: 1.960, Training Accuracy: 23.31%\n",
            "Epoch: 12, Training Loss: 1.931, Training Accuracy: 23.70%\n",
            "Epoch: 13, Training Loss: 1.909, Training Accuracy: 24.21%\n",
            "Epoch: 14, Training Loss: 1.888, Training Accuracy: 24.44%\n",
            "Epoch: 15, Training Loss: 1.868, Training Accuracy: 24.78%\n",
            "Time taken:  66.01790401140849\n"
          ]
        },
        {
          "output_type": "display_data",
          "data": {
            "text/plain": [
              "<Figure size 640x480 with 1 Axes>"
            ],
            "image/png": "[encoded data removed]"
          },
          "metadata": {}
        },
        {
          "output_type": "display_data",
          "data": {
            "text/plain": [
              "<Figure size 640x480 with 1 Axes>"
            ],
            "image/png": "[encoded data removed]"
          },
          "metadata": {}
        },
        {
          "output_type": "stream",
          "name": "stdout",
          "text": [
            "Correlation Table:\n",
            "    0     0     0     0     0     0     0     0     0     0     0     0     0     0     0     0     0     0     0     0     0     0     0     0     0     0     0     0     0     0\n",
            "  349   930     0 3853078 27596  4964   767   200  2068  1344     6   165    11   166    39   755   519     0    71   295     2     0   106     0   147  1739    14     0    76     0\n",
            "    0     0     0     0     0     0     0     0     0     0     0     0     0     0     0     0     0     0     0     0     0     0     0     0     0     0     0     0     0     0\n",
            "   96    67     0 569838 61395 14943  1636  2370  6406  3311    68   263   161   153   303  1539    74     0    43   132    10     0    72     0    36   130     3     0    11     0\n",
            "  146    63     0 109500 743663 41218  9755 36030 40737 13854 12569   504  1752  4590  3055 11032  2720  1350   343   887  1060   736   770    24   293   117     6     0    11     0\n",
            "   57    34     0 69017 106556 127640  1332  1899 10587  5109 14919   181   227  2795  1152  3711    21  1428   386   245  4770   238   493    14   297    45     2     0     5     0\n",
            "   61    21     0 48857 227241 15782 13705  9450  8651  8417  3387   745   546   728   640  5079   112   137   180   203   499   126   274     2    64    50     5     0     8     0\n",
            "   39    24     0 20481 154291  3990  1160 109335 12324 11660  5402    61   230   705  2910  2981   910    85    16   824    99   812    33   171    57    38     3     0     9     0\n",
            "   56    26     0 33204 124081 11588   738  9233 89753  7180  5412    77   166  4144  6324  2373   802   941    11 15079   249  2189    82   209   281    51    10     0     6     0\n",
            "   43    18     0 31596 102188 14687  3760 15527 15237 39020 20646   138    87   596  4431  6610    23   138   272  1823   419  1102    45   453   126    41     0     0     9     0\n",
            "   34    14     0 13274 72441 18308  1768  8151 10759 19516 77765    97    49   703  3184  2971    15   395   158  2445  1074   706    70   306   145    34     2     0     6     0\n",
            "   38    24     0 50655 130123 11927  5353  5717  8374  4189  2083   639   305   764   610  3998   209   121   102   217   223   189   240     4    65    38     2     0     6     0\n",
            "   20    12     0 18762 112682 11724  1524  6182  9948  1467   870   197  2603  1415  1242  4780  2931   226    94   267    31   356   296    43   152    25     3     0     3     0\n",
            "   36    17     0 12642 67893 14984   112  3044 16084  1348  5034    35   215 12346  3248  2514    99 14665    58  2461   285  7689   682   255  5498    26     0     0     0     0\n",
            "   37     8     0 13213 53765  4207   300  6958 17006  8005  5943    10    41  1385 28003  6291   107   223    54 10031    28  6038    20  2498   139    25     4     0     1     0\n",
            "   24     8     0 17873 46072 11455  2126  2595  5799  4297  3000   259   606  1119  6285 37462   677   295   111  1052    12  3591   174   567   275    15     2     0     4     0\n",
            "   25     8     0  4172 94636  3145   523  6736 11393  1229  2403    26   516  1953  1535  2479  9295   774    23  1249    84   958   105    52   314    17     2     0     3     0\n",
            "   19     3     0  7659 47614 14162   121  1649 10583   768  5155    10   116  6554  1366  1823   127 24235    24  2429   201  6280   498    32  6734    15     2     0     1     0\n",
            "   12     8     0 23529 51457 25378  2120  1853  2020  3661  3636   159   156   577   436  1836    17   250  1025   168   527   119    90     3   147    34     0     0     2     0\n",
            "   25     4     0  2446 29428  2173   270  3062 16452  3164  5995    20    22   725  4610  1047   101   243     7 46829    55  1982    15   202    96    16     5     0     1     0\n",
            "   16     4     0  3928 37263 21978   758  1214  3133  1914 11168    38    38   652   259   751     8   681    75   583 10776   393    48    17   195    18     1     0     1     0\n",
            "   13     1     0  1487 26520  2417    88  1664  5113   598  4186    12    72  4268  5008  3908   157  4583    16  4537    47 26339    80   904  2680     9     2     0     1     0\n",
            "   16     4     0  8136 31558 12392   208   602  3799   477  2557    94   287  4664   694  1907    49  9672    34  1310   141  3670  1572    58  5273    13     1     0     2     0\n",
            "   21     6     0  2240 24376  2739   432  5644  5424  4968  7213    23    24   344 12152  2724    59   132    45  6816    83  3294     9  5707    55     8     0     0     2     0\n",
            "   12     5     0  3121 16990  7425   101   319  3135   169  2805    37    63  3501   555  1022    53 12319    12   782   152  4014   628    13 10136     7     3     0     1     0\n",
            "    4     4     0   720 16661  5769   419   667  1051   348  2129    19    25   249    87   568     3   211    38   145  1773   201    47     2    83    37     0     0     0     0\n",
            "    2     0     0   639  4975   755    62   265  2957   408  1274    15    18   234  2046   650    14   197     3  5851     8   953     3    54   136     1     4     0     1     0\n",
            "    3     1     0   762  2662  1444     3    50   580    21   110     5    20   636    72   171     2   998     5    30     4   184   102     0   430     0     0     0     0     0\n",
            "    0     1     0    29   783   251    11    54   407   349   223     0     0    32   176   145     3     0     0    22     0     6     0    12     1     0     0     0     0     0\n",
            "    0     0     0   110   422    35     3    40   186    52    74     0     0    33   237    33     1     8     1   219     2   100     0    27     3     2     2     0     0     0\n"
          ]
        }
      ]
    },
    {
      "cell_type": "code",
      "source": [
        "def evaluate(model, iterator, criterion):\n",
        "    model.eval()\n",
        "    epoch_loss = 0\n",
        "    epoch_acc = 0\n",
        "    \n",
        "    with torch.no_grad():\n",
        "        for batch in iterator:\n",
        "            src = batch.source\n",
        "            trg = batch.target\n",
        "\n",
        "            output = model(src, trg) # Turn off teacher forcing\n",
        "\n",
        "            # trg = [trg len, batch size]\n",
        "            # output = [trg len, batch size, output dim]\n",
        "\n",
        "            output_dim = output.shape[-1]\n",
        "            \n",
        "            output = output[1:].view(-1, output_dim)\n",
        "            trg = trg[1:].view(-1)\n",
        "\n",
        "            # trg = [(trg len - 1) * batch size]\n",
        "            # output = [(trg len - 1) * batch size, output dim]\n",
        "\n",
        "            loss = criterion(output, trg)\n",
        "            epoch_loss += loss.item()\n",
        "\n",
        "            # compute accuracy\n",
        "            pred = torch.argmax(output, dim=1) # predicted character index\n",
        "            non_pad_mask = trg != target_field.vocab.stoi['<pad>'] # mask padding positions\n",
        "            num_correct = torch.sum(pred[non_pad_mask] == trg[non_pad_mask])\n",
        "            num_non_pad = torch.sum(non_pad_mask)\n",
        "            acc = num_correct.float() / num_non_pad\n",
        "            epoch_acc += acc.item()\n",
        "\n",
        "    return epoch_loss / len(iterator), (epoch_acc / len(iterator)) * 100\n",
        "\n",
        "\n",
        "test_dataset = TabularDataset(path=test_path, format='tsv', fields=[('source', source_field), ('target', target_field)])\n",
        "test_iter = BucketIterator(\n",
        "    dataset=test_dataset,\n",
        "    batch_size=32,\n",
        "    device=device\n",
        ")\n",
        "\n"
      ],
      "metadata": {
        "id": "PU9FVec7UNIG"
      },
      "execution_count": 58,
      "outputs": []
    },
    {
      "cell_type": "code",
      "source": [
        "test_loss, acc = evaluate(model1, test_iter, criterian1)\n",
        "print(f'Test Loss: {test_loss:.3f} | Test Accuracy : {acc: .3f}%')"
      ],
      "metadata": {
        "colab": {
          "base_uri": "https://localhost:8080/"
        },
        "id": "6IdQAFiKZnHg",
        "outputId": "5990b80a-ac60-44a8-c251-e407ecc445f0"
      },
      "execution_count": 59,
      "outputs": [
        {
          "output_type": "stream",
          "name": "stdout",
          "text": [
            "Test Loss: 1.711 | Test Accuracy :  46.928%\n"
          ]
        }
      ]
    },
    {
      "cell_type": "code",
      "source": [
        "model2, criterian2 = train(ENC_EMB_DIM = 64, DEC_EMB_DIM = 64 , HID_DIM = 64, N_LAYERS = 3, ENC_DROPOUT = 0.5, DEC_DROPOUT= 0.5)\n"
      ],
      "metadata": {
        "colab": {
          "base_uri": "https://localhost:8080/",
          "height": 1000
        },
        "id": "nePQ4ZjhZpnR",
        "outputId": "7c2b7605-cdfb-4b07-9b89-f6d808a035bd"
      },
      "execution_count": 60,
      "outputs": [
        {
          "output_type": "stream",
          "name": "stdout",
          "text": [
            "Train model for Input Embedding:64 | number of encoding and decoding layers : 3 | Hidden layer Size : 64 \n",
            "Epoch: 1, Training Loss: 2.524, Training Accuracy: 16.15%\n",
            "Epoch: 2, Training Loss: 2.098, Training Accuracy: 21.94%\n",
            "Epoch: 3, Training Loss: 1.663, Training Accuracy: 28.43%\n",
            "Epoch: 4, Training Loss: 1.431, Training Accuracy: 32.02%\n",
            "Epoch: 5, Training Loss: 1.290, Training Accuracy: 34.34%\n",
            "Epoch: 6, Training Loss: 1.199, Training Accuracy: 35.81%\n",
            "Epoch: 7, Training Loss: 1.126, Training Accuracy: 37.18%\n",
            "Epoch: 8, Training Loss: 1.075, Training Accuracy: 38.10%\n",
            "Epoch: 9, Training Loss: 1.034, Training Accuracy: 38.89%\n",
            "Epoch: 10, Training Loss: 1.004, Training Accuracy: 39.34%\n",
            "Epoch: 11, Training Loss: 0.972, Training Accuracy: 39.89%\n",
            "Epoch: 12, Training Loss: 0.948, Training Accuracy: 40.35%\n",
            "Epoch: 13, Training Loss: 0.927, Training Accuracy: 40.79%\n",
            "Epoch: 14, Training Loss: 0.910, Training Accuracy: 41.09%\n",
            "Epoch: 15, Training Loss: 0.891, Training Accuracy: 41.44%\n",
            "Time taken:  86.08904824256896\n"
          ]
        },
        {
          "output_type": "display_data",
          "data": {
            "text/plain": [
              "<Figure size 640x480 with 1 Axes>"
            ],
            "image/png": "[encoded data removed]"
          },
          "metadata": {}
        },
        {
          "output_type": "display_data",
          "data": {
            "text/plain": [
              "<Figure size 640x480 with 1 Axes>"
            ],
            "image/png": "[encoded data removed]"
          },
          "metadata": {}
        },
        {
          "output_type": "stream",
          "name": "stdout",
          "text": [
            "Correlation Table:\n",
            "    0     0     0     0     0     0     0     0     0     0     0     0     0     0     0     0     0     0     0     0     0     0     0     0     0     0     0     0     0     0\n",
            "    0     0     0 3832099 20785 13388  8732  1278  3667  1717  1521  2755   572  1204  1351  1024     8   920   697   179   121   149   228    90   104     0    10     0     0     0\n",
            "    0     0     0     0     0     0     0     0     0     0     0     0     0     0     0     0     0     0     0     0     0     0     0     0     0     0     0     0     0     0\n",
            "    0     0     0 568306 31213 13873  8534  3383  5917  6142  3229  5068  3215  2359  2094  3291   305  1302  2093   606   442   279   712   226   387     3    80     0     1     0\n",
            "    0     0     0 63642 724256 32837 19256 21391 34102 24168 16525 10657  8105 11619 10207 16583  3461  8436  8223  4439  6537  3671  3620  1051  3387   329   275     8     0     0\n",
            "    0     0     0 29855 48345 221159  6140  1725  4679  6092  4374  3780  5757  4491  1824  3315   603  2154  1768   614   560   712  3238   838  1092    14    31     0     0     0\n",
            "    0     0     0 22825 58724 11191 176220  7415  8923 11178  5529 10983  4765  3170  3248  6869  1568  1468  4654  1210  1680   667  1103   715   705    15   144     1     0     0\n",
            "    0     0     0 11058 59764  3439  8253 210426  3474  5587  8727  1500  2689  4759  1288  1273  1350   891   410   146   461   831   296  1656   261    63    48     0     0     0\n",
            "    0     0     0 14260 57324  5521  8207  2697 189402  7418  5243  2790  3214  3680  2017  1217  1506  2365   587  2848  2021   769   760   133   169    55    61     0     1     0\n",
            "    0     0     0 15079 42956  8190 10010  8141  7982 143308  5613  2003  1645   600  4561  2761   650   985   760   947   584   335   316  1189   244    28   148     0     0     0\n",
            "    0     0     0  8661 25779  3318  3886 11107  3760  4375 158887  1460   992   905  2266  1488   431  1011   279  1677   511   334   317  2254   638    12    39     0     3     0\n",
            "    0     0     0 32571 50856 10052 30448  3769  9659  6865  4675 50989  4037  3209  1887  6550  1185  1594  1922  1189  1530   681  1047   579   564   150   206     0     1     0\n",
            "    0     0     0  8880 32115 14269  9111  2296  7309  3905  2165  2111 64240  1981  1763  3977 15782  1231  1793  1542   262   638  1022   661   612     8   172     0    10     0\n",
            "    0     0     0  7398 28474  6360  3630  6155  5482   937  3334  1226   940 95818   490  1244   414   667   396   137  2647  2078  2734   181   487    34     5     2     0     0\n",
            "    0     0     0  7065 26051  3584  2923  2625  3512  5677  6183   514  1156   375 92097  2095   384  1115   294   921   226  2626    38  4419   228    11   180     0    39     2\n",
            "    0     0     0  7172 20574  2305  4214   522   597  1196  1369  1680  1709   263  1033 99911   319   441   322   517   226   308   164   125   629    22   134     0     3     0\n",
            "    0     0     0  3157 37537  4360  5926  3110  6627  3341  3128   956 14812  1892  1251  2427 48047  1353   898  1852   221   923   694   308   624    80   128     0     3     0\n",
            "    0     0     0  4099 22751  5727  1663  1044  3730  1582  5148   652   714   486  1472  1030   577 82121    67  2069    50  2252   133   526   154     1   132     0     0     0\n",
            "    0     0     0 15063 30175  7428 10827  1236  2989  2646  1388  1855  2046  1308   845  1708   578   292 33820   585  3257   192   393    71   411    96    10     0     1     0\n",
            "    0     0     0  1637 14003  1237  1729   339  5945  2193  6953   386   819   111  1229   969  1319  1662   142 75550   103   186    36   196   139    40  2069     0     3     0\n",
            "    0     0     0  2368 23253  2169  2848   820  5891   981  2646   817   191  5149   395   882    82    59  1617   183 43942   370   102    12   105  1015    13     0     0     0\n",
            "    0     0     0   835 11470  1473   765  1768  1066   265  3060   363   466  2040  1970  1082   344  2019     5   174   143 63611   362   978   386     6    57     1     1     0\n",
            "    0     0     0  4055 13269  8034  2227  1012  2179  1095  1429   944   974  5067   256  1417   360   400   347   101   210   787 39810    86  5062     0    67     1     1     0\n",
            "    0     0     0  1396  7707  1684  1839  6222  1038  2196 10700   411   479   207 13526  1153   161   793    47   378    37  1309    26 32956    89     5   134     1    46     0\n",
            "    0     0     0  1605  8581  2954  1459   566   580   281  1265   406   403   591   290  2051   235   261   254    96   118   698  4196    48 40260     2   163    17     0     0\n",
            "    0     0     0   616 10540   765   620   525  1827   212   612   337   207  1281   103   586    68    27   371    66  8958   107    74    18   107  3229     2     0     2     0\n",
            "    0     0     0   490  1752   724   532    31   399   807   517   251   402    61   669  1131   238   695     3   506     5   180   133   196   545     0 11256     0     2     0\n",
            "    0     0     0   487  1423   521   246    99   142    29    94   166   107   111    10   352    23    85    25     7     4   142   557     9  3607     0    41     8     0     0\n",
            "    0     0     0    24   211    61    68    20    47    73   438    39    35     9   643    78     2    28     4    55     1    12     0   443     1     0     6     1   206     0\n",
            "    0     0     0    79   174    16    30     5    24    45    44     6     3     5   920    25     5    15     7    12     4    41     1    76     3    28     0     0     0    22\n"
          ]
        }
      ]
    },
    {
      "cell_type": "code",
      "source": [
        "test_loss, acc = evaluate(model2, test_iter, criterian2)\n",
        "print(f'Test Loss: {test_loss:.3f} | Test Accuracy : {acc: .3f}%')"
      ],
      "metadata": {
        "colab": {
          "base_uri": "https://localhost:8080/"
        },
        "id": "-XcJHsibZsNi",
        "outputId": "9f61cc2a-32dc-4815-f909-e35a9c4ed708"
      },
      "execution_count": 61,
      "outputs": [
        {
          "output_type": "stream",
          "name": "stdout",
          "text": [
            "Test Loss: 0.684 | Test Accuracy :  78.317%\n"
          ]
        }
      ]
    },
    {
      "cell_type": "code",
      "source": [],
      "metadata": {
        "id": "1QK8BTK8ZvRM"
      },
      "execution_count": null,
      "outputs": []
    }
  ]
}