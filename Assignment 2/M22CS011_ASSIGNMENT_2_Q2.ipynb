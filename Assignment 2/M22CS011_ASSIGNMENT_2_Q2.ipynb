{
  "nbformat": 4,
  "nbformat_minor": 0,
  "metadata": {
    "colab": {
      "provenance": [],
      "gpuType": "T4"
    },
    "kernelspec": {
      "name": "python3",
      "display_name": "Python 3"
    },
    "language_info": {
      "name": "python"
    },
    "accelerator": "GPU",
    "gpuClass": "standard"
  },
  "cells": [
    {
      "cell_type": "markdown",
      "source": [
        "# Importing the libraries"
      ],
      "metadata": {
        "id": "8FuFZTv2eazj"
      }
    },
    {
      "cell_type": "code",
      "execution_count": 101,
      "metadata": {
        "id": "Vfpi5_Fo4pP_"
      },
      "outputs": [],
      "source": [
        "import torch\n",
        "import numpy as np\n",
        "import torch.nn as nn\n",
        "import torch.nn.functional as func\n",
        "from torch.utils.data import Dataset, DataLoader, TensorDataset, random_split\n",
        "import io\n",
        "import os\n",
        "import zipfile\n",
        "import random \n",
        "import math\n",
        "import unicodedata\n",
        "import matplotlib.pyplot as plt\n",
        "import pandas as pd\n",
        "from sklearn.model_selection import train_test_split"
      ]
    },
    {
      "cell_type": "markdown",
      "source": [
        "# Load File in Drive"
      ],
      "metadata": {
        "id": "dhpjC7TT2eLW"
      }
    },
    {
      "cell_type": "code",
      "source": [
        "!wget 'http://archive.ics.uci.edu/ml/machine-learning-databases/00235/household_power_consumption.zip'\n",
        "\n",
        "!unzip 'household_power_consumption.zip'"
      ],
      "metadata": {
        "colab": {
          "base_uri": "https://localhost:8080/"
        },
        "id": "yxe7JTIB2gkd",
        "outputId": "a312956c-914f-4f6b-d4bc-c9afd02c5049"
      },
      "execution_count": 63,
      "outputs": [
        {
          "output_type": "stream",
          "name": "stdout",
          "text": [
            "--2023-04-07 14:19:54--  http://archive.ics.uci.edu/ml/machine-learning-databases/00235/household_power_consumption.zip\n",
            "Resolving archive.ics.uci.edu (archive.ics.uci.edu)... 128.195.10.252\n",
            "Connecting to archive.ics.uci.edu (archive.ics.uci.edu)|128.195.10.252|:80... connected.\n",
            "HTTP request sent, awaiting response... 200 OK\n",
            "Length: 20640916 (20M) [application/x-httpd-php]\n",
            "Saving to: ‘household_power_consumption.zip.1’\n",
            "\n",
            "household_power_con 100%[===================>]  19.68M  8.79MB/s    in 2.2s    \n",
            "\n",
            "2023-04-07 14:19:57 (8.79 MB/s) - ‘household_power_consumption.zip.1’ saved [20640916/20640916]\n",
            "\n",
            "Archive:  household_power_consumption.zip\n",
            "replace household_power_consumption.txt? [y]es, [n]o, [A]ll, [N]one, [r]ename: "
          ]
        }
      ]
    },
    {
      "cell_type": "markdown",
      "source": [
        "# Loading the dataset"
      ],
      "metadata": {
        "id": "pfp1fxF-c5It"
      }
    },
    {
      "cell_type": "code",
      "source": [
        "path = '/content/household_power_consumption.txt'\n",
        "df = pd.read_csv(path, delimiter=';', \n",
        "                  infer_datetime_format=True, \n",
        "                 na_values=['nan','?'])"
      ],
      "metadata": {
        "id": "i3ZxbAdog25t"
      },
      "execution_count": 102,
      "outputs": []
    },
    {
      "cell_type": "code",
      "source": [
        "df.head()"
      ],
      "metadata": {
        "id": "odFh-f88pmXj",
        "colab": {
          "base_uri": "https://localhost:8080/",
          "height": 206
        },
        "outputId": "5e6caa64-9f5f-4043-9b69-20d77640ea8a"
      },
      "execution_count": 103,
      "outputs": [
        {
          "output_type": "execute_result",
          "data": {
            "text/plain": [
              "         Date      Time  Global_active_power  Global_reactive_power  Voltage  \\\n",
              "0  16/12/2006  17:24:00                4.216                  0.418   234.84   \n",
              "1  16/12/2006  17:25:00                5.360                  0.436   233.63   \n",
              "2  16/12/2006  17:26:00                5.374                  0.498   233.29   \n",
              "3  16/12/2006  17:27:00                5.388                  0.502   233.74   \n",
              "4  16/12/2006  17:28:00                3.666                  0.528   235.68   \n",
              "\n",
              "   Global_intensity  Sub_metering_1  Sub_metering_2  Sub_metering_3  \n",
              "0              18.4             0.0             1.0            17.0  \n",
              "1              23.0             0.0             1.0            16.0  \n",
              "2              23.0             0.0             2.0            17.0  \n",
              "3              23.0             0.0             1.0            17.0  \n",
              "4              15.8             0.0             1.0            17.0  "
            ],
            "text/html": [
              "\n",
              "  <div id=\"df-cd4e7d49-463d-4b56-b20c-9d064c2e740c\">\n",
              "    <div class=\"colab-df-container\">\n",
              "      <div>\n",
              "<style scoped>\n",
              "    .dataframe tbody tr th:only-of-type {\n",
              "        vertical-align: middle;\n",
              "    }\n",
              "\n",
              "    .dataframe tbody tr th {\n",
              "        vertical-align: top;\n",
              "    }\n",
              "\n",
              "    .dataframe thead th {\n",
              "        text-align: right;\n",
              "    }\n",
              "</style>\n",
              "<table border=\"1\" class=\"dataframe\">\n",
              "  <thead>\n",
              "    <tr style=\"text-align: right;\">\n",
              "      <th></th>\n",
              "      <th>Date</th>\n",
              "      <th>Time</th>\n",
              "      <th>Global_active_power</th>\n",
              "      <th>Global_reactive_power</th>\n",
              "      <th>Voltage</th>\n",
              "      <th>Global_intensity</th>\n",
              "      <th>Sub_metering_1</th>\n",
              "      <th>Sub_metering_2</th>\n",
              "      <th>Sub_metering_3</th>\n",
              "    </tr>\n",
              "  </thead>\n",
              "  <tbody>\n",
              "    <tr>\n",
              "      <th>0</th>\n",
              "      <td>16/12/2006</td>\n",
              "      <td>17:24:00</td>\n",
              "      <td>4.216</td>\n",
              "      <td>0.418</td>\n",
              "      <td>234.84</td>\n",
              "      <td>18.4</td>\n",
              "      <td>0.0</td>\n",
              "      <td>1.0</td>\n",
              "      <td>17.0</td>\n",
              "    </tr>\n",
              "    <tr>\n",
              "      <th>1</th>\n",
              "      <td>16/12/2006</td>\n",
              "      <td>17:25:00</td>\n",
              "      <td>5.360</td>\n",
              "      <td>0.436</td>\n",
              "      <td>233.63</td>\n",
              "      <td>23.0</td>\n",
              "      <td>0.0</td>\n",
              "      <td>1.0</td>\n",
              "      <td>16.0</td>\n",
              "    </tr>\n",
              "    <tr>\n",
              "      <th>2</th>\n",
              "      <td>16/12/2006</td>\n",
              "      <td>17:26:00</td>\n",
              "      <td>5.374</td>\n",
              "      <td>0.498</td>\n",
              "      <td>233.29</td>\n",
              "      <td>23.0</td>\n",
              "      <td>0.0</td>\n",
              "      <td>2.0</td>\n",
              "      <td>17.0</td>\n",
              "    </tr>\n",
              "    <tr>\n",
              "      <th>3</th>\n",
              "      <td>16/12/2006</td>\n",
              "      <td>17:27:00</td>\n",
              "      <td>5.388</td>\n",
              "      <td>0.502</td>\n",
              "      <td>233.74</td>\n",
              "      <td>23.0</td>\n",
              "      <td>0.0</td>\n",
              "      <td>1.0</td>\n",
              "      <td>17.0</td>\n",
              "    </tr>\n",
              "    <tr>\n",
              "      <th>4</th>\n",
              "      <td>16/12/2006</td>\n",
              "      <td>17:28:00</td>\n",
              "      <td>3.666</td>\n",
              "      <td>0.528</td>\n",
              "      <td>235.68</td>\n",
              "      <td>15.8</td>\n",
              "      <td>0.0</td>\n",
              "      <td>1.0</td>\n",
              "      <td>17.0</td>\n",
              "    </tr>\n",
              "  </tbody>\n",
              "</table>\n",
              "</div>\n",
              "      <button class=\"colab-df-convert\" onclick=\"convertToInteractive('df-cd4e7d49-463d-4b56-b20c-9d064c2e740c')\"\n",
              "              title=\"Convert this dataframe to an interactive table.\"\n",
              "              style=\"display:none;\">\n",
              "        \n",
              "  <svg xmlns=\"http://www.w3.org/2000/svg\" height=\"24px\"viewBox=\"0 0 24 24\"\n",
              "       width=\"24px\">\n",
              "    <path d=\"M0 0h24v24H0V0z\" fill=\"none\"/>\n",
              "    <path d=\"M18.56 5.44l.94 2.06.94-2.06 2.06-.94-2.06-.94-.94-2.06-.94 2.06-2.06.94zm-11 1L8.5 8.5l.94-2.06 2.06-.94-2.06-.94L8.5 2.5l-.94 2.06-2.06.94zm10 10l.94 2.06.94-2.06 2.06-.94-2.06-.94-.94-2.06-.94 2.06-2.06.94z\"/><path d=\"M17.41 7.96l-1.37-1.37c-.4-.4-.92-.59-1.43-.59-.52 0-1.04.2-1.43.59L10.3 9.45l-7.72 7.72c-.78.78-.78 2.05 0 2.83L4 21.41c.39.39.9.59 1.41.59.51 0 1.02-.2 1.41-.59l7.78-7.78 2.81-2.81c.8-.78.8-2.07 0-2.86zM5.41 20L4 18.59l7.72-7.72 1.47 1.35L5.41 20z\"/>\n",
              "  </svg>\n",
              "      </button>\n",
              "      \n",
              "  <style>\n",
              "    .colab-df-container {\n",
              "      display:flex;\n",
              "      flex-wrap:wrap;\n",
              "      gap: 12px;\n",
              "    }\n",
              "\n",
              "    .colab-df-convert {\n",
              "      background-color: #E8F0FE;\n",
              "      border: none;\n",
              "      border-radius: 50%;\n",
              "      cursor: pointer;\n",
              "      display: none;\n",
              "      fill: #1967D2;\n",
              "      height: 32px;\n",
              "      padding: 0 0 0 0;\n",
              "      width: 32px;\n",
              "    }\n",
              "\n",
              "    .colab-df-convert:hover {\n",
              "      background-color: #E2EBFA;\n",
              "      box-shadow: 0px 1px 2px rgba(60, 64, 67, 0.3), 0px 1px 3px 1px rgba(60, 64, 67, 0.15);\n",
              "      fill: #174EA6;\n",
              "    }\n",
              "\n",
              "    [theme=dark] .colab-df-convert {\n",
              "      background-color: #3B4455;\n",
              "      fill: #D2E3FC;\n",
              "    }\n",
              "\n",
              "    [theme=dark] .colab-df-convert:hover {\n",
              "      background-color: #434B5C;\n",
              "      box-shadow: 0px 1px 3px 1px rgba(0, 0, 0, 0.15);\n",
              "      filter: drop-shadow(0px 1px 2px rgba(0, 0, 0, 0.3));\n",
              "      fill: #FFFFFF;\n",
              "    }\n",
              "  </style>\n",
              "\n",
              "      <script>\n",
              "        const buttonEl =\n",
              "          document.querySelector('#df-cd4e7d49-463d-4b56-b20c-9d064c2e740c button.colab-df-convert');\n",
              "        buttonEl.style.display =\n",
              "          google.colab.kernel.accessAllowed ? 'block' : 'none';\n",
              "\n",
              "        async function convertToInteractive(key) {\n",
              "          const element = document.querySelector('#df-cd4e7d49-463d-4b56-b20c-9d064c2e740c');\n",
              "          const dataTable =\n",
              "            await google.colab.kernel.invokeFunction('convertToInteractive',\n",
              "                                                     [key], {});\n",
              "          if (!dataTable) return;\n",
              "\n",
              "          const docLinkHtml = 'Like what you see? Visit the ' +\n",
              "            '<a target=\"_blank\" href=https://colab.research.google.com/notebooks/data_table.ipynb>data table notebook</a>'\n",
              "            + ' to learn more about interactive tables.';\n",
              "          element.innerHTML = '';\n",
              "          dataTable['output_type'] = 'display_data';\n",
              "          await google.colab.output.renderOutput(dataTable, element);\n",
              "          const docLink = document.createElement('div');\n",
              "          docLink.innerHTML = docLinkHtml;\n",
              "          element.appendChild(docLink);\n",
              "        }\n",
              "      </script>\n",
              "    </div>\n",
              "  </div>\n",
              "  "
            ]
          },
          "metadata": {},
          "execution_count": 103
        }
      ]
    },
    {
      "cell_type": "code",
      "source": [
        "df.dropna(inplace=True)"
      ],
      "metadata": {
        "id": "QpufrHDqKPtG"
      },
      "execution_count": 66,
      "outputs": []
    },
    {
      "cell_type": "code",
      "source": [
        "# Extract the input features and target variable from the dataframe\n",
        "X = df.iloc[:,3:].values\n",
        "y = df.iloc[:, 2:3].values"
      ],
      "metadata": {
        "id": "k4qjiST77RzF"
      },
      "execution_count": 67,
      "outputs": []
    },
    {
      "cell_type": "markdown",
      "source": [
        "# Dataset Split"
      ],
      "metadata": {
        "id": "Q0pZi3sE7_DR"
      }
    },
    {
      "cell_type": "code",
      "source": [
        "def splitDataset(X, y, test_size):\n",
        "  X_train, X_test, y_train, y_test = train_test_split(X, y, test_size=test_size, random_state=0)\n",
        "\n",
        "  return X_train, X_test, y_train, y_test"
      ],
      "metadata": {
        "id": "2bnR1BXY7otv"
      },
      "execution_count": 68,
      "outputs": []
    },
    {
      "cell_type": "markdown",
      "source": [
        "# Convert dataset to tensor"
      ],
      "metadata": {
        "id": "xTR1-COG8Ay6"
      }
    },
    {
      "cell_type": "code",
      "source": [
        "def convertToTonsor(x):\n",
        "  return torch.tensor(x, dtype=torch.float32)"
      ],
      "metadata": {
        "id": "aspxksoZ7WZs"
      },
      "execution_count": 69,
      "outputs": []
    },
    {
      "cell_type": "markdown",
      "source": [
        "# Hyperparamater"
      ],
      "metadata": {
        "id": "zmIYSq5VC59b"
      }
    },
    {
      "cell_type": "code",
      "source": [
        "input_size = X.shape[1]\n",
        "hidden_size = 64\n",
        "num_layers = 2\n",
        "output_size = 1\n",
        "learning_rate = 0.0001\n",
        "batch_size = 32\n",
        "num_epochs = 10"
      ],
      "metadata": {
        "id": "J_f9Ss_VC885"
      },
      "execution_count": 70,
      "outputs": []
    },
    {
      "cell_type": "markdown",
      "source": [
        "# for 80:20"
      ],
      "metadata": {
        "id": "1W5ihNVVClSS"
      }
    },
    {
      "cell_type": "markdown",
      "source": [
        "## Split dataset 80:20"
      ],
      "metadata": {
        "id": "lrmdJyGgCaG5"
      }
    },
    {
      "cell_type": "code",
      "source": [
        "# Split dataset into 80:20\n",
        "X_train, X_test, y_train, y_test = splitDataset(X, y, 0.2)\n",
        "print(type(X_train), len(X_train))\n",
        "print(type(X_test), len(X_test))\n",
        "print(type(y_train), len(y_train))\n",
        "print(type(y_test), len(y_test))\n",
        "\n",
        "\n",
        "# Convert the input features and target variable into PyTorch tensors\n",
        "\n",
        "X_train = convertToTonsor(X_train)\n",
        "print(type(X_train), len(X_train))\n",
        "\n",
        "\n",
        "y_train = convertToTonsor(y_train)\n",
        "print(type(y_train), len(y_train))\n",
        "\n",
        "X_test = convertToTonsor(X_test)\n",
        "print(type(X_test), len(X_test))\n",
        "\n",
        "y_test = convertToTonsor(y_test)\n",
        "print(type(y_test), len(y_test))"
      ],
      "metadata": {
        "colab": {
          "base_uri": "https://localhost:8080/"
        },
        "id": "AdO_5VeN8fCO",
        "outputId": "adb8d0f8-70c1-4d4a-bb5d-85e823312fc8"
      },
      "execution_count": 71,
      "outputs": [
        {
          "output_type": "stream",
          "name": "stdout",
          "text": [
            "<class 'numpy.ndarray'> 1639424\n",
            "<class 'numpy.ndarray'> 409856\n",
            "<class 'numpy.ndarray'> 1639424\n",
            "<class 'numpy.ndarray'> 409856\n",
            "<class 'torch.Tensor'> 1639424\n",
            "<class 'torch.Tensor'> 1639424\n",
            "<class 'torch.Tensor'> 409856\n",
            "<class 'torch.Tensor'> 409856\n"
          ]
        }
      ]
    },
    {
      "cell_type": "markdown",
      "source": [
        "## Create dataset for 80:20"
      ],
      "metadata": {
        "id": "_e7Cf49m9RYt"
      }
    },
    {
      "cell_type": "code",
      "source": [
        "train_dataset = TensorDataset(X_train, y_train)\n",
        "test_dataset = TensorDataset(X_test, y_test)"
      ],
      "metadata": {
        "id": "14br1iR19bjz"
      },
      "execution_count": 72,
      "outputs": []
    },
    {
      "cell_type": "code",
      "source": [
        "print(\"Len of train : \",len(train_dataset))\n",
        "print(\"Len of test : \",len(test_dataset))"
      ],
      "metadata": {
        "colab": {
          "base_uri": "https://localhost:8080/"
        },
        "id": "w7bCgWwa9eRu",
        "outputId": "3fc13f64-390e-411a-8ef0-315e5628559b"
      },
      "execution_count": 73,
      "outputs": [
        {
          "output_type": "stream",
          "name": "stdout",
          "text": [
            "Len of train :  1639424\n",
            "Len of test :  409856\n"
          ]
        }
      ]
    },
    {
      "cell_type": "markdown",
      "source": [
        "## data preprocessing for 80:20"
      ],
      "metadata": {
        "id": "KicKPtqC_Q_7"
      }
    },
    {
      "cell_type": "code",
      "source": [
        "def msn(x):\n",
        "  x_mean = x.mean(dim=0)\n",
        "  x_std  = x.std(dim=0)\n",
        "  return x_mean, x_std, (x - x_mean) / x_std"
      ],
      "metadata": {
        "id": "0eBL3Gxb9_3C"
      },
      "execution_count": 74,
      "outputs": []
    },
    {
      "cell_type": "code",
      "source": [
        "X_train_mean, X_train_std, X_train_norm = msn(X_train)\n",
        "\n",
        "print(X_train_mean)\n",
        "print(X_train_std)\n",
        "print(X_train_norm)"
      ],
      "metadata": {
        "colab": {
          "base_uri": "https://localhost:8080/"
        },
        "id": "jN_b8tYu96ZU",
        "outputId": "384af25f-baee-48ca-a5a2-902f8df9785f"
      },
      "execution_count": 75,
      "outputs": [
        {
          "output_type": "stream",
          "name": "stdout",
          "text": [
            "tensor([1.2377e-01, 2.4084e+02, 4.6292e+00, 1.1250e+00, 1.2984e+00, 6.4584e+00])\n",
            "tensor([0.1128, 3.2398, 4.4464, 6.1619, 5.8209, 8.4381])\n",
            "tensor([[-0.4237,  0.7841,  0.3533, -0.0203, -0.0513,  1.3678],\n",
            "        [ 0.8712, -1.0062,  0.6232, -0.1826, -0.0513,  1.2493],\n",
            "        [-1.0977,  1.7070, -0.8162, -0.1826, -0.2231, -0.7654],\n",
            "        ...,\n",
            "        [ 0.5342,  0.5557, -0.5913, -0.1826, -0.2231, -0.7654],\n",
            "        [-0.1399, -0.9568, -0.7712, -0.1826, -0.2231, -0.7654],\n",
            "        [-0.6188, -0.5401, -0.6813, -0.1826, -0.2231, -0.7654]])\n"
          ]
        }
      ]
    },
    {
      "cell_type": "code",
      "source": [
        "X_test_mean, X_test_std, X_test_norm = msn(X_test)\n",
        "\n",
        "print(X_test_mean)\n",
        "print(X_test_std)\n",
        "print(X_test_norm)"
      ],
      "metadata": {
        "colab": {
          "base_uri": "https://localhost:8080/"
        },
        "id": "8OgrY8hm-4fC",
        "outputId": "912f73b9-42fa-4628-ea07-fa117b73fa59"
      },
      "execution_count": 76,
      "outputs": [
        {
          "output_type": "stream",
          "name": "stdout",
          "text": [
            "tensor([1.2348e-01, 2.4084e+02, 4.6222e+00, 1.1097e+00, 1.2989e+00, 6.4585e+00])\n",
            "tensor([0.1126, 3.2409, 4.4365, 6.1174, 5.8264, 8.4334])\n",
            "tensor([[ 1.4789, -1.6694,  3.6916, -0.1814,  4.0679,  1.3685],\n",
            "        [-1.0967,  1.6044, -0.9968, -0.1814, -0.2229, -0.7658],\n",
            "        [ 1.4256, -1.4380,  1.4376, -0.1814,  0.2920,  1.2500],\n",
            "        ...,\n",
            "        [ 0.8217, -1.3701,  1.0769, -0.1814, -0.2229,  2.4357],\n",
            "        [ 0.3243,  0.0740, -0.6812, -0.1814, -0.2229, -0.6472],\n",
            "        [-1.0967,  1.3576, -0.8164, -0.1814, -0.2229, -0.7658]])\n"
          ]
        }
      ]
    },
    {
      "cell_type": "code",
      "source": [
        "y_train_mean, y_train_std, y_train_norm = msn(y_train)\n",
        "\n",
        "print(y_train_mean)\n",
        "print(y_train_std)\n",
        "print(y_train_norm)"
      ],
      "metadata": {
        "colab": {
          "base_uri": "https://localhost:8080/"
        },
        "id": "_JBSkPvi-4Vz",
        "outputId": "11a59dbb-f335-49bb-a9f6-05af1e814fb4"
      },
      "execution_count": 77,
      "outputs": [
        {
          "output_type": "stream",
          "name": "stdout",
          "text": [
            "tensor([1.0919])\n",
            "tensor([1.0577])\n",
            "tensor([[ 0.3896],\n",
            "        [ 0.6335],\n",
            "        [-0.8092],\n",
            "        ...,\n",
            "        [-0.5653],\n",
            "        [-0.7846],\n",
            "        [-0.6750]])\n"
          ]
        }
      ]
    },
    {
      "cell_type": "code",
      "source": [
        "y_test_mean, y_test_std, y_test_norm = msn(y_test)\n",
        "\n",
        "print(y_test_mean)\n",
        "print(y_test_std)\n",
        "print(y_test_norm)"
      ],
      "metadata": {
        "colab": {
          "base_uri": "https://localhost:8080/"
        },
        "id": "PUcfkkVf-4IQ",
        "outputId": "6a58deeb-ff58-45a3-81ee-6771a7fa70de"
      },
      "execution_count": 78,
      "outputs": [
        {
          "output_type": "stream",
          "name": "stdout",
          "text": [
            "tensor([1.0904])\n",
            "tensor([1.0556])\n",
            "tensor([[ 3.6318],\n",
            "        [-0.9534],\n",
            "        [ 1.4415],\n",
            "        ...,\n",
            "        [ 1.0702],\n",
            "        [-0.7469],\n",
            "        [-0.8132]])\n"
          ]
        }
      ]
    },
    {
      "cell_type": "markdown",
      "source": [
        "## dataloader for 80:20"
      ],
      "metadata": {
        "id": "CbGDqDwZvY1D"
      }
    },
    {
      "cell_type": "code",
      "source": [
        "\n",
        "# Create training dataloader\n",
        "train_dataloader = DataLoader(train_dataset, batch_size=batch_size, shuffle=True)\n",
        "\n",
        "# Create testing dataloader\n",
        "test_dataloader = DataLoader(test_dataset, batch_size=batch_size, shuffle=False)\n"
      ],
      "metadata": {
        "id": "_QiKP6uupC2i"
      },
      "execution_count": 79,
      "outputs": []
    },
    {
      "cell_type": "markdown",
      "source": [
        "# Cuda device"
      ],
      "metadata": {
        "id": "RsxyYA_Mx0a3"
      }
    },
    {
      "cell_type": "code",
      "source": [
        "device= 'cuda' if torch.cuda.is_available() else 'cpu'\n",
        "device"
      ],
      "metadata": {
        "colab": {
          "base_uri": "https://localhost:8080/",
          "height": 0
        },
        "id": "4S880p-7xzx-",
        "outputId": "e040a1e6-c0c5-474c-a3dd-28851b7f2454"
      },
      "execution_count": 80,
      "outputs": [
        {
          "output_type": "execute_result",
          "data": {
            "text/plain": [
              "'cuda'"
            ],
            "application/vnd.google.colaboratory.intrinsic+json": {
              "type": "string"
            }
          },
          "metadata": {},
          "execution_count": 80
        }
      ]
    },
    {
      "cell_type": "markdown",
      "source": [
        "# LSTM Model"
      ],
      "metadata": {
        "id": "L9ozbR_cwQFX"
      }
    },
    {
      "cell_type": "code",
      "source": [
        "class CustomLSTM(nn.Module):\n",
        "    def __init__(self, input_sz, hidden_sz):\n",
        "        super().__init__()\n",
        "        self.input_sz = input_sz\n",
        "        self.hidden_size = hidden_sz\n",
        "        self.W = nn.Parameter(torch.Tensor(input_sz, hidden_sz * 4))\n",
        "        self.U = nn.Parameter(torch.Tensor(hidden_sz, hidden_sz * 4))\n",
        "        self.bias = nn.Parameter(torch.Tensor(hidden_sz * 4))\n",
        "        self.init_weights()\n",
        "        self.fc = nn.Linear(hidden_size, output_size)\n",
        "                \n",
        "    def init_weights(self):\n",
        "        stdv = 1.0 / math.sqrt(self.hidden_size)\n",
        "        for weight in self.parameters():\n",
        "            weight.data.uniform_(-stdv, stdv)\n",
        "         \n",
        "    def forward(self, x, init_states=None):\n",
        "        \"\"\"Assumes x is of shape (batch, sequence, feature)\"\"\"\n",
        "        bs, seq_sz = x.size()\n",
        "        hidden_seq = []\n",
        "        if init_states is None:\n",
        "            h_t, c_t = (torch.zeros(bs, self.hidden_size).to(x.device), \n",
        "                        torch.zeros(bs, self.hidden_size).to(x.device))\n",
        "        else:\n",
        "            h_t, c_t = init_states\n",
        "         \n",
        "        HS = self.hidden_size\n",
        "        for t in range(seq_sz):\n",
        "            # print(x.shape)\n",
        "            x_t = x[t, :]\n",
        "            # batch the computations into a single matrix multiplication\n",
        "            gates = x_t @ self.W + h_t @ self.U + self.bias\n",
        "            i_t, f_t, g_t, o_t = (\n",
        "                torch.sigmoid(gates[:, :HS]), # input\n",
        "                torch.sigmoid(gates[:, HS:HS*2]), # forget\n",
        "                torch.tanh(gates[:, HS*2:HS*3]),\n",
        "                torch.sigmoid(gates[:, HS*3:]), # output\n",
        "            )\n",
        "            c_t = f_t * c_t + i_t * g_t\n",
        "            h_t = o_t * torch.tanh(c_t)\n",
        "            hidden_seq.append(h_t.unsqueeze(0))\n",
        "        hidden_seq = torch.cat(hidden_seq, dim=0)\n",
        "        # reshape from shape (sequence, batch, feature) to (batch, sequence, feature)\n",
        "        hidden_seq = hidden_seq.transpose(0, 1).contiguous()\n",
        "        hidden_seq, (h_t, c_t)\n",
        "\n",
        "        hidden_seq = self.fc(hidden_seq[:, -1, :])\n",
        "        return hidden_seq\n",
        "\n",
        "# Initialize the model, loss function, and optimizer\n",
        "model = CustomLSTM(input_size, hidden_size)"
      ],
      "metadata": {
        "id": "nxJr5nQ9jV6Q"
      },
      "execution_count": 81,
      "outputs": []
    },
    {
      "cell_type": "markdown",
      "source": [
        "# Define the loss function and optimizer"
      ],
      "metadata": {
        "id": "EzPpR3Uayeab"
      }
    },
    {
      "cell_type": "code",
      "source": [
        "criterion = nn.MSELoss()\n",
        "optimizer = torch.optim.SGD(model.parameters(), lr=learning_rate)"
      ],
      "metadata": {
        "id": "A2rrZZtEyfNR"
      },
      "execution_count": 82,
      "outputs": []
    },
    {
      "cell_type": "markdown",
      "source": [
        "# Train the model"
      ],
      "metadata": {
        "id": "z_McjiVkyNi5"
      }
    },
    {
      "cell_type": "code",
      "source": [
        "train_loss_list = []\n",
        "\n",
        "for epoch in range(num_epochs):\n",
        "    train_loss = 0.0\n",
        "    for i, (inputs, targets) in enumerate(train_dataloader):\n",
        "        inputs = (inputs - X_train_mean) / X_train_std # normalize the inputs\n",
        "\n",
        "        optimizer.zero_grad()\n",
        "        outputs = model(inputs)\n",
        "        loss = criterion(outputs, targets)\n",
        "        loss.backward()\n",
        "        optimizer.step()\n",
        "        train_loss += loss.item()\n",
        "\n",
        "        if (i + 1) % batch_size == 0: # Update the model after every batch_size iterations\n",
        "            optimizer.step()\n",
        "            optimizer.zero_grad()\n",
        "\n",
        "        train_loss /= len(train_dataloader)\n",
        "    train_loss_list.append(train_loss)\n",
        "    print('Epoch [{}/{}], Step [{}/{}], Loss: {:.4f}'.format(epoch+1, num_epochs, i+1, len(train_dataloader), loss.item()))\n"
      ],
      "metadata": {
        "colab": {
          "base_uri": "https://localhost:8080/"
        },
        "id": "BsmVPAp8P3de",
        "outputId": "e20db0b9-bf67-488b-cd9a-227362c4a481"
      },
      "execution_count": 83,
      "outputs": [
        {
          "output_type": "stream",
          "name": "stdout",
          "text": [
            "Epoch [1/10], Step [51232/51232], Loss: 0.6400\n",
            "Epoch [2/10], Step [51232/51232], Loss: 1.1213\n",
            "Epoch [3/10], Step [51232/51232], Loss: 1.3863\n",
            "Epoch [4/10], Step [51232/51232], Loss: 1.1861\n",
            "Epoch [5/10], Step [51232/51232], Loss: 1.1500\n",
            "Epoch [6/10], Step [51232/51232], Loss: 0.7950\n",
            "Epoch [7/10], Step [51232/51232], Loss: 0.8015\n",
            "Epoch [8/10], Step [51232/51232], Loss: 0.7779\n",
            "Epoch [9/10], Step [51232/51232], Loss: 1.2693\n",
            "Epoch [10/10], Step [51232/51232], Loss: 1.0491\n"
          ]
        }
      ]
    },
    {
      "cell_type": "code",
      "source": [
        "print(len(train_loss_list))"
      ],
      "metadata": {
        "id": "FuO3V4M109Fv",
        "colab": {
          "base_uri": "https://localhost:8080/"
        },
        "outputId": "340b8373-b4a4-45d5-c867-9238eb07d43b"
      },
      "execution_count": 84,
      "outputs": [
        {
          "output_type": "stream",
          "name": "stdout",
          "text": [
            "10\n"
          ]
        }
      ]
    },
    {
      "cell_type": "markdown",
      "source": [
        "# Plot the loss"
      ],
      "metadata": {
        "id": "lDg7ZZkUVv9n"
      }
    },
    {
      "cell_type": "code",
      "source": [
        "epoch = [epoch for epoch in range(num_epochs)]\n",
        "plt.plot(epoch,train_loss_list, color='magenta', marker='o',mfc='pink' )\n",
        "plt.ylabel('train_loss_82') #set the label for x-axis\n",
        "plt.xlabel('no_of_epochs') #set the label for y axis\n",
        "plt.title(\"Plotting a list\") #set the title of the graph\n",
        "plt.show() #display the graph"
      ],
      "metadata": {
        "id": "KIzoAzgjlTFg",
        "colab": {
          "base_uri": "https://localhost:8080/",
          "height": 472
        },
        "outputId": "47df14b6-2e86-4e88-d574-3a04d9dc433e"
      },
      "execution_count": 85,
      "outputs": [
        {
          "output_type": "display_data",
          "data": {
            "text/plain": [
              "<Figure size 640x480 with 1 Axes>"
            ],
            "image/png": "[encoded data removed]"
          },
          "metadata": {}
        }
      ]
    },
    {
      "cell_type": "markdown",
      "source": [
        "# Test the model and get the predicted value"
      ],
      "metadata": {
        "id": "nHygklxRV5nD"
      }
    },
    {
      "cell_type": "code",
      "source": [
        "# Set model to evaluation mode\n",
        "model.eval()\n",
        "\n",
        "# Initialize lists to store real and predicted global active power\n",
        "real_global_active_power = []\n",
        "predicted_global_active_power = []\n",
        "\n",
        "# Iterate over the testing dataloader\n",
        "for i, (inputs, targets) in enumerate(test_dataloader):\n",
        "    inputs = (inputs - X_test_mean) / X_test_std # normalize the inputs\n",
        "\n",
        "    # Forward pass to get predicted global active power\n",
        "    outputs = model(inputs)\n",
        "    predicted_global_active_power.extend(outputs.detach().numpy().tolist())\n",
        "\n",
        "    # Append real global active power to list\n",
        "    real_global_active_power.extend(targets.numpy().tolist())\n",
        "\n",
        "# Convert the lists to numpy arrays for plotting\n",
        "real_global_active_power = np.array(real_global_active_power)\n",
        "predicted_global_active_power = np.array(predicted_global_active_power)\n",
        "\n",
        "# Plot the real and predicted global active power\n",
        "plt.figure(figsize=(10, 5))\n",
        "plt.plot(real_global_active_power, label='Real Global Active Power')\n",
        "plt.plot(predicted_global_active_power, label='Predicted Global Active Power')\n",
        "plt.xlabel('Testing Days')\n",
        "plt.ylabel('Global Active Power_82')\n",
        "plt.legend()\n",
        "plt.title('Real vs Predicted Global Active Power')\n",
        "plt.show()\n"
      ],
      "metadata": {
        "colab": {
          "base_uri": "https://localhost:8080/",
          "height": 487
        },
        "id": "Jv8OTdxhxKtm",
        "outputId": "947dd5d7-f19d-4068-f942-1b7b69fa56a9"
      },
      "execution_count": 86,
      "outputs": [
        {
          "output_type": "display_data",
          "data": {
            "text/plain": [
              "<Figure size 1000x500 with 1 Axes>"
            ],
            "image/png": "[encoded data removed]"
          },
          "metadata": {}
        }
      ]
    },
    {
      "cell_type": "markdown",
      "source": [
        "# For 70:30"
      ],
      "metadata": {
        "id": "HzRf1npjDJc1"
      }
    },
    {
      "cell_type": "markdown",
      "source": [
        "## Splitting into 70:30"
      ],
      "metadata": {
        "id": "ef5rKFL9VAHB"
      }
    },
    {
      "cell_type": "code",
      "source": [
        "# Split dataset into 70:30\n",
        "X_train, X_test, y_train, y_test = splitDataset(X, y, 0.3)\n",
        "print(type(X_train), len(X_train))\n",
        "print(type(X_test), len(X_test))\n",
        "print(type(y_train), len(y_train))\n",
        "print(type(y_test), len(y_test))\n",
        "\n",
        "\n",
        "# Convert the input features and target variable into PyTorch tensors\n",
        "\n",
        "X_train = convertToTonsor(X_train)\n",
        "print(type(X_train), len(X_train))\n",
        "\n",
        "\n",
        "y_train = convertToTonsor(y_train)\n",
        "print(type(y_train), len(y_train))\n",
        "\n",
        "X_test = convertToTonsor(X_test)\n",
        "print(type(X_test), len(X_test))\n",
        "\n",
        "y_test = convertToTonsor(y_test)\n",
        "print(type(y_test), len(y_test))\n"
      ],
      "metadata": {
        "id": "PHfjG3JM4Oqu",
        "colab": {
          "base_uri": "https://localhost:8080/"
        },
        "outputId": "f514b502-75e1-4a19-dde5-f551fe3f2b53"
      },
      "execution_count": 87,
      "outputs": [
        {
          "output_type": "stream",
          "name": "stdout",
          "text": [
            "<class 'numpy.ndarray'> 1434496\n",
            "<class 'numpy.ndarray'> 614784\n",
            "<class 'numpy.ndarray'> 1434496\n",
            "<class 'numpy.ndarray'> 614784\n",
            "<class 'torch.Tensor'> 1434496\n",
            "<class 'torch.Tensor'> 1434496\n",
            "<class 'torch.Tensor'> 614784\n",
            "<class 'torch.Tensor'> 614784\n"
          ]
        }
      ]
    },
    {
      "cell_type": "markdown",
      "source": [
        "## Create dataset for 70:30"
      ],
      "metadata": {
        "id": "NpgabIEzEGs8"
      }
    },
    {
      "cell_type": "code",
      "source": [
        "train_dataset = TensorDataset(X_train, y_train)\n",
        "test_dataset = TensorDataset(X_test, y_test)"
      ],
      "metadata": {
        "id": "Ek9SVrWTCKRh"
      },
      "execution_count": 88,
      "outputs": []
    },
    {
      "cell_type": "code",
      "source": [
        "print(\"Len of train : \",len(train_dataset))\n",
        "print(\"Len of test : \",len(test_dataset))"
      ],
      "metadata": {
        "colab": {
          "base_uri": "https://localhost:8080/"
        },
        "id": "zBJfPlmkEAbE",
        "outputId": "469f6885-107a-44bd-a821-50b3057258aa"
      },
      "execution_count": 89,
      "outputs": [
        {
          "output_type": "stream",
          "name": "stdout",
          "text": [
            "Len of train :  1434496\n",
            "Len of test :  614784\n"
          ]
        }
      ]
    },
    {
      "cell_type": "markdown",
      "source": [
        "## Data preprocessing for 70;30"
      ],
      "metadata": {
        "id": "78MosrK-ENmw"
      }
    },
    {
      "cell_type": "code",
      "source": [
        "def msn(x):\n",
        "  x_mean = x.mean(dim=0)\n",
        "  x_std  = x.std(dim=0)\n",
        "  return x_mean, x_std, (x - x_mean) / x_std"
      ],
      "metadata": {
        "id": "jZ2KUwwKCSju"
      },
      "execution_count": 90,
      "outputs": []
    },
    {
      "cell_type": "code",
      "source": [
        "X_train_mean, X_train_std, X_train_norm = msn(X_train)\n",
        "\n",
        "print(X_train_mean)\n",
        "print(X_train_std)\n",
        "print(X_train_norm)"
      ],
      "metadata": {
        "colab": {
          "base_uri": "https://localhost:8080/"
        },
        "id": "Dl_7dLGsD1qo",
        "outputId": "27b347b4-7971-4598-bbc9-48608d8e135c"
      },
      "execution_count": 91,
      "outputs": [
        {
          "output_type": "stream",
          "name": "stdout",
          "text": [
            "tensor([1.2373e-01, 2.4084e+02, 4.6285e+00, 1.1215e+00, 1.3008e+00, 6.4550e+00])\n",
            "tensor([0.1127, 3.2406, 4.4466, 6.1514, 5.8311, 8.4369])\n",
            "tensor([[ 0.7832, -0.0650,  0.7133,  0.1428, -0.2231,  1.3684],\n",
            "        [-0.1396, -0.0033,  0.2185, -0.1823, -0.2231,  1.3684],\n",
            "        [ 1.6350,  1.8729,  0.4434, -0.1823,  0.1199,  1.4869],\n",
            "        ...,\n",
            "        [ 0.5348,  0.5552, -0.5911, -0.1823, -0.2231, -0.7651],\n",
            "        [-0.1396, -0.9568, -0.7710, -0.1823, -0.2231, -0.7651],\n",
            "        [-0.6187, -0.5403, -0.6811, -0.1823, -0.2231, -0.7651]])\n"
          ]
        }
      ]
    },
    {
      "cell_type": "code",
      "source": [
        "X_test_mean, X_test_std, X_test_norm = msn(X_test)\n",
        "\n",
        "print(X_test_mean)\n",
        "print(X_test_std)\n",
        "print(X_test_norm)"
      ],
      "metadata": {
        "colab": {
          "base_uri": "https://localhost:8080/"
        },
        "id": "7cORYYpQD2si",
        "outputId": "70e702a3-23a6-4b8c-a9f2-cdd638a69209"
      },
      "execution_count": 92,
      "outputs": [
        {
          "output_type": "stream",
          "name": "stdout",
          "text": [
            "tensor([1.2368e-01, 2.4084e+02, 4.6261e+00, 1.1229e+00, 1.2931e+00, 6.4664e+00])\n",
            "tensor([0.1128, 3.2386, 4.4394, 6.1569, 5.8009, 8.4378])\n",
            "tensor([[ 1.4750, -1.6698,  3.6884, -0.1824,  4.0868,  1.3669],\n",
            "        [-1.0969,  1.6064, -0.9970, -0.1824, -0.2229, -0.7664],\n",
            "        [ 1.4218, -1.4382,  1.4358, -0.1824,  0.2942,  1.2484],\n",
            "        ...,\n",
            "        [-0.6180, -0.1691,  0.2194, -0.1824, -0.2229,  1.3669],\n",
            "        [-1.0969,  0.2508, -0.9069, -0.1824, -0.2229, -0.7664],\n",
            "        [ 1.1735, -0.7805,  0.4446, -0.0200, -0.2229,  1.2484]])\n"
          ]
        }
      ]
    },
    {
      "cell_type": "code",
      "source": [
        "y_train_mean, y_train_std, y_train_norm = msn(y_train)\n",
        "\n",
        "print(y_train_mean)\n",
        "print(y_train_std)\n",
        "print(y_train_norm)"
      ],
      "metadata": {
        "colab": {
          "base_uri": "https://localhost:8080/"
        },
        "id": "ktkUtKTRD2ev",
        "outputId": "f9c50cb4-b3fc-40e1-e166-996cf1b2ccc6"
      },
      "execution_count": 93,
      "outputs": [
        {
          "output_type": "stream",
          "name": "stdout",
          "text": [
            "tensor([1.0918])\n",
            "tensor([1.0578])\n",
            "tensor([[ 0.7319],\n",
            "        [ 0.2649],\n",
            "        [ 0.5145],\n",
            "        ...,\n",
            "        [-0.5651],\n",
            "        [-0.7844],\n",
            "        [-0.6748]])\n"
          ]
        }
      ]
    },
    {
      "cell_type": "code",
      "source": [
        "y_test_mean, y_test_std, y_test_norm = msn(y_test)\n",
        "\n",
        "print(y_test_mean)\n",
        "print(y_test_std)\n",
        "print(y_test_norm)"
      ],
      "metadata": {
        "colab": {
          "base_uri": "https://localhost:8080/"
        },
        "id": "M9yy95fXD2b8",
        "outputId": "0d5ddc99-1a72-4399-95f1-fc3ae5fde202"
      },
      "execution_count": 94,
      "outputs": [
        {
          "output_type": "stream",
          "name": "stdout",
          "text": [
            "tensor([1.0912])\n",
            "tensor([1.0561])\n",
            "tensor([[ 3.6291],\n",
            "        [-0.9537],\n",
            "        [ 1.4400],\n",
            "        ...,\n",
            "        [ 0.2431],\n",
            "        [-0.8760],\n",
            "        [ 0.4382]])\n"
          ]
        }
      ]
    },
    {
      "cell_type": "markdown",
      "source": [
        "## Dataloader for 70:30"
      ],
      "metadata": {
        "id": "Ybd9qfGNEV9n"
      }
    },
    {
      "cell_type": "code",
      "source": [
        "# Create training dataloader\n",
        "train_dataloader = DataLoader(train_dataset, batch_size=batch_size, shuffle=True)\n",
        "\n",
        "# Create testing dataloader\n",
        "test_dataloader = DataLoader(test_dataset, batch_size=batch_size, shuffle=False)\n"
      ],
      "metadata": {
        "id": "PYobG6q6EZLN"
      },
      "execution_count": 95,
      "outputs": []
    },
    {
      "cell_type": "markdown",
      "source": [
        "# Train the model"
      ],
      "metadata": {
        "id": "dF7ORMuMVkWf"
      }
    },
    {
      "cell_type": "code",
      "source": [
        "model = CustomLSTM(input_size, hidden_size)"
      ],
      "metadata": {
        "id": "tZDqZBUhFgTZ"
      },
      "execution_count": 96,
      "outputs": []
    },
    {
      "cell_type": "code",
      "source": [
        "train_loss_list = []\n",
        "\n",
        "for epoch in range(num_epochs):\n",
        "    train_loss = 0.0\n",
        "    for i, (inputs, targets) in enumerate(train_dataloader):\n",
        "        inputs = (inputs - X_test_mean) / X_test_std # normalize the inputs\n",
        "\n",
        "        optimizer.zero_grad()\n",
        "        outputs = model(inputs)\n",
        "        loss = criterion(outputs, targets)\n",
        "        loss.backward()\n",
        "        optimizer.step()\n",
        "        train_loss += loss.item()\n",
        "\n",
        "        if (i + 1) % batch_size == 0: # Update the model after every batch_size iterations\n",
        "            optimizer.step()\n",
        "            optimizer.zero_grad()\n",
        "\n",
        "        train_loss /= len(train_dataloader)\n",
        "    train_loss_list.append(train_loss)\n",
        "    print('Epoch [{}/{}], Step [{}/{}], Loss: {:.4f}'.format(epoch+1, num_epochs, i+1, len(train_dataloader), loss.item()))\n"
      ],
      "metadata": {
        "id": "dNOz-UYIVmFu",
        "colab": {
          "base_uri": "https://localhost:8080/"
        },
        "outputId": "d40b03de-65bf-4ac9-c8a3-2116c1af8220"
      },
      "execution_count": 97,
      "outputs": [
        {
          "output_type": "stream",
          "name": "stdout",
          "text": [
            "Epoch [1/10], Step [44828/44828], Loss: 3.5047\n",
            "Epoch [2/10], Step [44828/44828], Loss: 2.3128\n",
            "Epoch [3/10], Step [44828/44828], Loss: 1.7739\n",
            "Epoch [4/10], Step [44828/44828], Loss: 3.0116\n",
            "Epoch [5/10], Step [44828/44828], Loss: 2.1622\n",
            "Epoch [6/10], Step [44828/44828], Loss: 2.1707\n",
            "Epoch [7/10], Step [44828/44828], Loss: 2.1443\n",
            "Epoch [8/10], Step [44828/44828], Loss: 4.1425\n",
            "Epoch [9/10], Step [44828/44828], Loss: 2.0127\n",
            "Epoch [10/10], Step [44828/44828], Loss: 4.1061\n"
          ]
        }
      ]
    },
    {
      "cell_type": "markdown",
      "source": [
        "# Plot the loss"
      ],
      "metadata": {
        "id": "PrcHj68FVqGS"
      }
    },
    {
      "cell_type": "code",
      "source": [
        "epoch = [epoch for epoch in range(num_epochs)]\n",
        "plt.plot(epoch,train_loss_list, color='magenta', marker='o',mfc='pink' )\n",
        "plt.ylabel('train_loss_7_3') #set the label for x-axis\n",
        "plt.xlabel('no_of_epochs') #set the label for y axis\n",
        "plt.title(\"Plotting a list\") #set the title of the graph\n",
        "plt.show() #display the graph"
      ],
      "metadata": {
        "colab": {
          "base_uri": "https://localhost:8080/",
          "height": 472
        },
        "id": "OukePZEKyPTC",
        "outputId": "9960a26a-cab9-499c-95fb-b8c6a35348d6"
      },
      "execution_count": 98,
      "outputs": [
        {
          "output_type": "display_data",
          "data": {
            "text/plain": [
              "<Figure size 640x480 with 1 Axes>"
            ],
            "image/png": "[encoded data removed]"
          },
          "metadata": {}
        }
      ]
    },
    {
      "cell_type": "markdown",
      "source": [
        "# Test the model and get the predicted model\n"
      ],
      "metadata": {
        "id": "4YDt-aZgVzo6"
      }
    },
    {
      "cell_type": "code",
      "source": [
        "import matplotlib.pyplot as plt\n",
        "\n",
        "# Set model to evaluation mode\n",
        "model.eval()\n",
        "\n",
        "# Initialize lists to store real and predicted global active power\n",
        "real_global_active_power = []\n",
        "predicted_global_active_power = []\n",
        "\n",
        "# Iterate over the testing dataloader\n",
        "for i, (inputs, targets) in enumerate(test_dataloader):\n",
        "    inputs = (inputs - X_test_mean) / X_test_std # normalize the inputs\n",
        "\n",
        "    # Forward pass to get predicted global active power\n",
        "    outputs = model(inputs)\n",
        "    predicted_global_active_power.extend(outputs.detach().numpy().tolist())\n",
        "\n",
        "    # Append real global active power to list\n",
        "    real_global_active_power.extend(targets.numpy().tolist())\n",
        "\n",
        "# Convert the lists to numpy arrays for plotting\n",
        "real_global_active_power = np.array(real_global_active_power)\n",
        "predicted_global_active_power = np.array(predicted_global_active_power)\n",
        "\n",
        "# Plot the real and predicted global active power\n",
        "plt.figure(figsize=(10, 5))\n",
        "plt.plot(real_global_active_power, label='Real Global Active Power')\n",
        "plt.plot(predicted_global_active_power, label='Predicted Global Active Power')\n",
        "plt.xlabel('Testing Days')\n",
        "plt.ylabel('Global Active Power_73')\n",
        "plt.legend()\n",
        "plt.title('Real vs Predicted Global Active Power')\n",
        "plt.show()\n"
      ],
      "metadata": {
        "id": "lr99bZHRV3e6",
        "colab": {
          "base_uri": "https://localhost:8080/",
          "height": 487
        },
        "outputId": "f3647070-30a4-4e3c-c9bf-a29c532eec87"
      },
      "execution_count": 99,
      "outputs": [
        {
          "output_type": "display_data",
          "data": {
            "text/plain": [
              "<Figure size 1000x500 with 1 Axes>"
            ],
            "image/png": "[encoded data removed]"
          },
          "metadata": {}
        }
      ]
    },
    {
      "cell_type": "code",
      "source": [],
      "metadata": {
        "id": "JDApx2XrykHU"
      },
      "execution_count": 99,
      "outputs": []
    }
  ]
}