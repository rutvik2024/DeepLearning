{
  "nbformat": 4,
  "nbformat_minor": 0,
  "metadata": {
    "colab": {
      "provenance": []
    },
    "kernelspec": {
      "name": "python3",
      "display_name": "Python 3"
    },
    "language_info": {
      "name": "python"
    },
    "gpuClass": "standard",
    "widgets": {
      "application/vnd.jupyter.widget-state+json": {
        "da322cc0f9554416a15f16dd0ea89bcf": {
          "model_module": "@jupyter-widgets/controls",
          "model_name": "HBoxModel",
          "model_module_version": "1.5.0",
          "state": {
            "_dom_classes": [],
            "_model_module": "@jupyter-widgets/controls",
            "_model_module_version": "1.5.0",
            "_model_name": "HBoxModel",
            "_view_count": null,
            "_view_module": "@jupyter-widgets/controls",
            "_view_module_version": "1.5.0",
            "_view_name": "HBoxView",
            "box_style": "",
            "children": [
              "IPY_MODEL_232dd68e4b9d4229966ca18396a39f94",
              "IPY_MODEL_92aff37993234af697a9aa878f3d8583",
              "IPY_MODEL_2284eb71de4047c1ac64660426a24bd7"
            ],
            "layout": "IPY_MODEL_95015f9d69944db993ee6bfe1b047d15"
          }
        },
        "232dd68e4b9d4229966ca18396a39f94": {
          "model_module": "@jupyter-widgets/controls",
          "model_name": "HTMLModel",
          "model_module_version": "1.5.0",
          "state": {
            "_dom_classes": [],
            "_model_module": "@jupyter-widgets/controls",
            "_model_module_version": "1.5.0",
            "_model_name": "HTMLModel",
            "_view_count": null,
            "_view_module": "@jupyter-widgets/controls",
            "_view_module_version": "1.5.0",
            "_view_name": "HTMLView",
            "description": "",
            "description_tooltip": null,
            "layout": "IPY_MODEL_d6c38a8381d24c528b93d7345a34887c",
            "placeholder": "​",
            "style": "IPY_MODEL_c3828f90c38c4c8a88d237f497a19bf5",
            "value": "100%"
          }
        },
        "92aff37993234af697a9aa878f3d8583": {
          "model_module": "@jupyter-widgets/controls",
          "model_name": "FloatProgressModel",
          "model_module_version": "1.5.0",
          "state": {
            "_dom_classes": [],
            "_model_module": "@jupyter-widgets/controls",
            "_model_module_version": "1.5.0",
            "_model_name": "FloatProgressModel",
            "_view_count": null,
            "_view_module": "@jupyter-widgets/controls",
            "_view_module_version": "1.5.0",
            "_view_name": "ProgressView",
            "bar_style": "success",
            "description": "",
            "description_tooltip": null,
            "layout": "IPY_MODEL_634c3c09344a4c08b1a8fab448fa9a23",
            "max": 170498071,
            "min": 0,
            "orientation": "horizontal",
            "style": "IPY_MODEL_af14e8404523441981562ebf2b6f13b9",
            "value": 170498071
          }
        },
        "2284eb71de4047c1ac64660426a24bd7": {
          "model_module": "@jupyter-widgets/controls",
          "model_name": "HTMLModel",
          "model_module_version": "1.5.0",
          "state": {
            "_dom_classes": [],
            "_model_module": "@jupyter-widgets/controls",
            "_model_module_version": "1.5.0",
            "_model_name": "HTMLModel",
            "_view_count": null,
            "_view_module": "@jupyter-widgets/controls",
            "_view_module_version": "1.5.0",
            "_view_name": "HTMLView",
            "description": "",
            "description_tooltip": null,
            "layout": "IPY_MODEL_0b270448f38549b0884c9f2c9cca7a6b",
            "placeholder": "​",
            "style": "IPY_MODEL_6d5c99394fb5471e9eafab6809db142d",
            "value": " 170498071/170498071 [00:04&lt;00:00, 37228772.51it/s]"
          }
        },
        "95015f9d69944db993ee6bfe1b047d15": {
          "model_module": "@jupyter-widgets/base",
          "model_name": "LayoutModel",
          "model_module_version": "1.2.0",
          "state": {
            "_model_module": "@jupyter-widgets/base",
            "_model_module_version": "1.2.0",
            "_model_name": "LayoutModel",
            "_view_count": null,
            "_view_module": "@jupyter-widgets/base",
            "_view_module_version": "1.2.0",
            "_view_name": "LayoutView",
            "align_content": null,
            "align_items": null,
            "align_self": null,
            "border": null,
            "bottom": null,
            "display": null,
            "flex": null,
            "flex_flow": null,
            "grid_area": null,
            "grid_auto_columns": null,
            "grid_auto_flow": null,
            "grid_auto_rows": null,
            "grid_column": null,
            "grid_gap": null,
            "grid_row": null,
            "grid_template_areas": null,
            "grid_template_columns": null,
            "grid_template_rows": null,
            "height": null,
            "justify_content": null,
            "justify_items": null,
            "left": null,
            "margin": null,
            "max_height": null,
            "max_width": null,
            "min_height": null,
            "min_width": null,
            "object_fit": null,
            "object_position": null,
            "order": null,
            "overflow": null,
            "overflow_x": null,
            "overflow_y": null,
            "padding": null,
            "right": null,
            "top": null,
            "visibility": null,
            "width": null
          }
        },
        "d6c38a8381d24c528b93d7345a34887c": {
          "model_module": "@jupyter-widgets/base",
          "model_name": "LayoutModel",
          "model_module_version": "1.2.0",
          "state": {
            "_model_module": "@jupyter-widgets/base",
            "_model_module_version": "1.2.0",
            "_model_name": "LayoutModel",
            "_view_count": null,
            "_view_module": "@jupyter-widgets/base",
            "_view_module_version": "1.2.0",
            "_view_name": "LayoutView",
            "align_content": null,
            "align_items": null,
            "align_self": null,
            "border": null,
            "bottom": null,
            "display": null,
            "flex": null,
            "flex_flow": null,
            "grid_area": null,
            "grid_auto_columns": null,
            "grid_auto_flow": null,
            "grid_auto_rows": null,
            "grid_column": null,
            "grid_gap": null,
            "grid_row": null,
            "grid_template_areas": null,
            "grid_template_columns": null,
            "grid_template_rows": null,
            "height": null,
            "justify_content": null,
            "justify_items": null,
            "left": null,
            "margin": null,
            "max_height": null,
            "max_width": null,
            "min_height": null,
            "min_width": null,
            "object_fit": null,
            "object_position": null,
            "order": null,
            "overflow": null,
            "overflow_x": null,
            "overflow_y": null,
            "padding": null,
            "right": null,
            "top": null,
            "visibility": null,
            "width": null
          }
        },
        "c3828f90c38c4c8a88d237f497a19bf5": {
          "model_module": "@jupyter-widgets/controls",
          "model_name": "DescriptionStyleModel",
          "model_module_version": "1.5.0",
          "state": {
            "_model_module": "@jupyter-widgets/controls",
            "_model_module_version": "1.5.0",
            "_model_name": "DescriptionStyleModel",
            "_view_count": null,
            "_view_module": "@jupyter-widgets/base",
            "_view_module_version": "1.2.0",
            "_view_name": "StyleView",
            "description_width": ""
          }
        },
        "634c3c09344a4c08b1a8fab448fa9a23": {
          "model_module": "@jupyter-widgets/base",
          "model_name": "LayoutModel",
          "model_module_version": "1.2.0",
          "state": {
            "_model_module": "@jupyter-widgets/base",
            "_model_module_version": "1.2.0",
            "_model_name": "LayoutModel",
            "_view_count": null,
            "_view_module": "@jupyter-widgets/base",
            "_view_module_version": "1.2.0",
            "_view_name": "LayoutView",
            "align_content": null,
            "align_items": null,
            "align_self": null,
            "border": null,
            "bottom": null,
            "display": null,
            "flex": null,
            "flex_flow": null,
            "grid_area": null,
            "grid_auto_columns": null,
            "grid_auto_flow": null,
            "grid_auto_rows": null,
            "grid_column": null,
            "grid_gap": null,
            "grid_row": null,
            "grid_template_areas": null,
            "grid_template_columns": null,
            "grid_template_rows": null,
            "height": null,
            "justify_content": null,
            "justify_items": null,
            "left": null,
            "margin": null,
            "max_height": null,
            "max_width": null,
            "min_height": null,
            "min_width": null,
            "object_fit": null,
            "object_position": null,
            "order": null,
            "overflow": null,
            "overflow_x": null,
            "overflow_y": null,
            "padding": null,
            "right": null,
            "top": null,
            "visibility": null,
            "width": null
          }
        },
        "af14e8404523441981562ebf2b6f13b9": {
          "model_module": "@jupyter-widgets/controls",
          "model_name": "ProgressStyleModel",
          "model_module_version": "1.5.0",
          "state": {
            "_model_module": "@jupyter-widgets/controls",
            "_model_module_version": "1.5.0",
            "_model_name": "ProgressStyleModel",
            "_view_count": null,
            "_view_module": "@jupyter-widgets/base",
            "_view_module_version": "1.2.0",
            "_view_name": "StyleView",
            "bar_color": null,
            "description_width": ""
          }
        },
        "0b270448f38549b0884c9f2c9cca7a6b": {
          "model_module": "@jupyter-widgets/base",
          "model_name": "LayoutModel",
          "model_module_version": "1.2.0",
          "state": {
            "_model_module": "@jupyter-widgets/base",
            "_model_module_version": "1.2.0",
            "_model_name": "LayoutModel",
            "_view_count": null,
            "_view_module": "@jupyter-widgets/base",
            "_view_module_version": "1.2.0",
            "_view_name": "LayoutView",
            "align_content": null,
            "align_items": null,
            "align_self": null,
            "border": null,
            "bottom": null,
            "display": null,
            "flex": null,
            "flex_flow": null,
            "grid_area": null,
            "grid_auto_columns": null,
            "grid_auto_flow": null,
            "grid_auto_rows": null,
            "grid_column": null,
            "grid_gap": null,
            "grid_row": null,
            "grid_template_areas": null,
            "grid_template_columns": null,
            "grid_template_rows": null,
            "height": null,
            "justify_content": null,
            "justify_items": null,
            "left": null,
            "margin": null,
            "max_height": null,
            "max_width": null,
            "min_height": null,
            "min_width": null,
            "object_fit": null,
            "object_position": null,
            "order": null,
            "overflow": null,
            "overflow_x": null,
            "overflow_y": null,
            "padding": null,
            "right": null,
            "top": null,
            "visibility": null,
            "width": null
          }
        },
        "6d5c99394fb5471e9eafab6809db142d": {
          "model_module": "@jupyter-widgets/controls",
          "model_name": "DescriptionStyleModel",
          "model_module_version": "1.5.0",
          "state": {
            "_model_module": "@jupyter-widgets/controls",
            "_model_module_version": "1.5.0",
            "_model_name": "DescriptionStyleModel",
            "_view_count": null,
            "_view_module": "@jupyter-widgets/base",
            "_view_module_version": "1.2.0",
            "_view_name": "StyleView",
            "description_width": ""
          }
        }
      }
    }
  },
  "cells": [
    {
      "cell_type": "markdown",
      "source": [
        "## Libraries"
      ],
      "metadata": {
        "id": "HjrUSaqs-gT3"
      }
    },
    {
      "cell_type": "code",
      "execution_count": null,
      "metadata": {
        "id": "k54rcNIDiUy4"
      },
      "outputs": [],
      "source": [
        "import torch\n",
        "import torchvision\n",
        "import torchvision.transforms as transforms\n",
        "import torch.nn.functional as func\n",
        "import numpy as np\n",
        "import matplotlib.pyplot as plt\n",
        "import torch.nn as nn\n",
        "import math"
      ]
    },
    {
      "cell_type": "markdown",
      "source": [
        "## Device Config"
      ],
      "metadata": {
        "id": "pukL2w5r-Ysa"
      }
    },
    {
      "cell_type": "code",
      "source": [
        "device = torch.device(\"cude\" if torch.cuda.is_available() else \"cpu\")\n",
        "device"
      ],
      "metadata": {
        "colab": {
          "base_uri": "https://localhost:8080/"
        },
        "id": "p6ercE7ZN_ng",
        "outputId": "784bfbe8-139e-46ee-86c3-0af0d07779e0"
      },
      "execution_count": null,
      "outputs": [
        {
          "output_type": "execute_result",
          "data": {
            "text/plain": [
              "device(type='cpu')"
            ]
          },
          "metadata": {},
          "execution_count": 2
        }
      ]
    },
    {
      "cell_type": "markdown",
      "source": [
        "## Hyperparameters define"
      ],
      "metadata": {
        "id": "zlA9D0n4-cWG"
      }
    },
    {
      "cell_type": "code",
      "source": [
        "num_epochs= 5\n",
        "batch_size = 100\n",
        "lr = 0.001\n",
        "input_size = 3*32*32 # 3*32*32 pixel size\n",
        "hidden_size1 = 100\n",
        "hidden_size2 = 100\n",
        "hidden_size3 = 100\n",
        "# num_classes = 10\n",
        "output_size = 10\n"
      ],
      "metadata": {
        "id": "lba_7reKONR1"
      },
      "execution_count": null,
      "outputs": []
    },
    {
      "cell_type": "markdown",
      "source": [
        "## Composed Tranform"
      ],
      "metadata": {
        "id": "CzzNf3yvT1bW"
      }
    },
    {
      "cell_type": "code",
      "source": [
        "transform = transforms.Compose(\n",
        "    [transforms.ToTensor(),\n",
        "     transforms.Normalize((0.5, 0.5, 0.5), (0.5, 0.5, 0.5))])"
      ],
      "metadata": {
        "id": "Qfc7TBeHT47B"
      },
      "execution_count": null,
      "outputs": []
    },
    {
      "cell_type": "markdown",
      "source": [
        "## Import CIFAR10 Dataset"
      ],
      "metadata": {
        "id": "tog--1Nn-zS5"
      }
    },
    {
      "cell_type": "code",
      "source": [
        "train_dataset = torchvision.datasets.CIFAR10(root='./data', train= True, download=True, transform = transform)\n",
        "train_loader = torch.utils.data.DataLoader(dataset=train_dataset, shuffle=True, batch_size=batch_size,)\n",
        "\n",
        "test_dataset = torchvision.datasets.CIFAR10(root='./data', train= False, transform = transform)\n",
        "test_loader = torch.utils.data.DataLoader(dataset=test_dataset, batch_size=batch_size,)"
      ],
      "metadata": {
        "colab": {
          "base_uri": "https://localhost:8080/",
          "height": 84,
          "referenced_widgets": [
            "da322cc0f9554416a15f16dd0ea89bcf",
            "232dd68e4b9d4229966ca18396a39f94",
            "92aff37993234af697a9aa878f3d8583",
            "2284eb71de4047c1ac64660426a24bd7",
            "95015f9d69944db993ee6bfe1b047d15",
            "d6c38a8381d24c528b93d7345a34887c",
            "c3828f90c38c4c8a88d237f497a19bf5",
            "634c3c09344a4c08b1a8fab448fa9a23",
            "af14e8404523441981562ebf2b6f13b9",
            "0b270448f38549b0884c9f2c9cca7a6b",
            "6d5c99394fb5471e9eafab6809db142d"
          ]
        },
        "id": "4qnBsGhO-y8c",
        "outputId": "d0d82ef7-edc9-468a-c1d1-26210b506a29"
      },
      "execution_count": null,
      "outputs": [
        {
          "output_type": "stream",
          "name": "stdout",
          "text": [
            "Downloading https://www.cs.toronto.edu/~kriz/cifar-10-python.tar.gz to ./data/cifar-10-python.tar.gz\n"
          ]
        },
        {
          "output_type": "display_data",
          "data": {
            "text/plain": [
              "  0%|          | 0/170498071 [00:00<?, ?it/s]"
            ],
            "application/vnd.jupyter.widget-view+json": {
              "version_major": 2,
              "version_minor": 0,
              "model_id": "da322cc0f9554416a15f16dd0ea89bcf"
            }
          },
          "metadata": {}
        },
        {
          "output_type": "stream",
          "name": "stdout",
          "text": [
            "Extracting ./data/cifar-10-python.tar.gz to ./data\n"
          ]
        }
      ]
    },
    {
      "cell_type": "markdown",
      "source": [
        "## Verify"
      ],
      "metadata": {
        "id": "SmF5HIO-_lpg"
      }
    },
    {
      "cell_type": "code",
      "source": [
        "example = iter(train_loader)\n",
        "# print(type(example))\n",
        "sample, label = next(example)\n",
        "print(sample.shape, label.shape)\n",
        "sample = sample.view(-1, 3*32*32)\n",
        "print(sample)\n",
        "# for i in range(6):\n",
        "#   plt.subplot(2, 3, i+1)\n",
        "#   plt.imshow(sample[i][0])\n",
        "#   print(label[i])\n",
        "\n",
        "# plt.show()"
      ],
      "metadata": {
        "colab": {
          "base_uri": "https://localhost:8080/"
        },
        "id": "wmGo0VsM_lPP",
        "outputId": "a6c59153-7bc7-4e4f-91dd-736cd3efc9a0"
      },
      "execution_count": null,
      "outputs": [
        {
          "output_type": "stream",
          "name": "stdout",
          "text": [
            "torch.Size([100, 3, 32, 32]) torch.Size([100])\n",
            "tensor([[-0.1686, -0.2078, -0.0039,  ...,  0.2000,  0.2078,  0.2549],\n",
            "        [ 0.0902,  0.1216,  0.1294,  ..., -0.0902, -0.1059,  0.1843],\n",
            "        [ 0.8667,  0.9608,  0.9765,  ...,  0.8353,  0.7647,  0.4902],\n",
            "        ...,\n",
            "        [-0.7176, -0.7098, -0.7255,  ..., -0.3569, -0.3725, -0.3725],\n",
            "        [ 0.8902,  0.8667,  0.9294,  ..., -0.8118, -0.8196, -0.9373],\n",
            "        [-0.3725, -0.5294, -0.5216,  ..., -0.4588, -0.4824, -0.4824]])\n"
          ]
        }
      ]
    },
    {
      "cell_type": "markdown",
      "source": [
        "#-----------------------------------------------------------------------------------------------------------------------------"
      ],
      "metadata": {
        "id": "_DrWuD-Gs1uL"
      }
    },
    {
      "cell_type": "markdown",
      "source": [
        "# Question 1: Utilize various activation functions like sigmoid, tanh and critique the performance in each case."
      ],
      "metadata": {
        "id": "yd_kjg52sXXx"
      }
    },
    {
      "cell_type": "markdown",
      "source": [
        "## Create a Neural Network with Sigmoid Activation funtion without vanish gradient problem"
      ],
      "metadata": {
        "id": "NiKQWN8Plhx9"
      }
    },
    {
      "cell_type": "markdown",
      "source": [
        "### Neural Netwrok With Sigmoid"
      ],
      "metadata": {
        "id": "4hq6oxAdslBJ"
      }
    },
    {
      "cell_type": "code",
      "source": [
        "class NeuralNetSigmoid(nn.Module):\n",
        "  def __init__(self, input_size, hidden_size1, output_size):\n",
        "    super(NeuralNetSigmoid, self).__init__()\n",
        "    self.l1 = nn.Linear(input_size, hidden_size1)\n",
        "    self.sigmoid = nn.Sigmoid()\n",
        "    self.l2 = nn.Linear(hidden_size1, output_size)\n",
        "\n",
        "\n",
        "  def forward(self, x):\n",
        "    x = x.view(-1, 32*32*3)\n",
        "    out = self.l1(x)\n",
        "    out = self.sigmoid(out)\n",
        "    out = self.l2(out)\n",
        "    return out\n",
        "\n",
        "\n",
        "sigmoid_model = NeuralNetSigmoid(input_size=input_size, hidden_size1=hidden_size1, output_size=output_size)\n",
        "sigmoid_model\n",
        "# print(sigmoid_model.state_dict())"
      ],
      "metadata": {
        "colab": {
          "base_uri": "https://localhost:8080/"
        },
        "id": "w4F6Civ2lhcW",
        "outputId": "b99d5f4f-b0eb-4f31-d793-355d94815ea2"
      },
      "execution_count": null,
      "outputs": [
        {
          "output_type": "execute_result",
          "data": {
            "text/plain": [
              "NeuralNetSigmoid(\n",
              "  (l1): Linear(in_features=3072, out_features=100, bias=True)\n",
              "  (sigmoid): Sigmoid()\n",
              "  (l2): Linear(in_features=100, out_features=10, bias=True)\n",
              ")"
            ]
          },
          "metadata": {},
          "execution_count": 7
        }
      ]
    },
    {
      "cell_type": "markdown",
      "source": [
        "### Loss function for sigmoid"
      ],
      "metadata": {
        "id": "hFGl-3kaLGdG"
      }
    },
    {
      "cell_type": "code",
      "source": [
        "loss_sigmoid = nn.CrossEntropyLoss()\n",
        "loss_sigmoid"
      ],
      "metadata": {
        "colab": {
          "base_uri": "https://localhost:8080/"
        },
        "id": "6CQzWY6PLJ2b",
        "outputId": "52e151c6-bcde-4d25-e623-98b0536531e7"
      },
      "execution_count": null,
      "outputs": [
        {
          "output_type": "execute_result",
          "data": {
            "text/plain": [
              "CrossEntropyLoss()"
            ]
          },
          "metadata": {},
          "execution_count": 8
        }
      ]
    },
    {
      "cell_type": "markdown",
      "source": [
        "### Optimizer function for sigmoid"
      ],
      "metadata": {
        "id": "Qo2tZ2rELUu0"
      }
    },
    {
      "cell_type": "code",
      "source": [
        "optimizer_sigmoid = torch.optim.SGD(sigmoid_model.parameters(), lr=lr)\n",
        "optimizer_sigmoid"
      ],
      "metadata": {
        "colab": {
          "base_uri": "https://localhost:8080/"
        },
        "id": "u566b30jLQO9",
        "outputId": "0cc002ea-b0df-409e-e390-8b08bc355b46"
      },
      "execution_count": null,
      "outputs": [
        {
          "output_type": "execute_result",
          "data": {
            "text/plain": [
              "SGD (\n",
              "Parameter Group 0\n",
              "    dampening: 0\n",
              "    differentiable: False\n",
              "    foreach: None\n",
              "    lr: 0.001\n",
              "    maximize: False\n",
              "    momentum: 0\n",
              "    nesterov: False\n",
              "    weight_decay: 0\n",
              ")"
            ]
          },
          "metadata": {},
          "execution_count": 9
        }
      ]
    },
    {
      "cell_type": "markdown",
      "source": [
        "### Training Loop for sigmoid function"
      ],
      "metadata": {
        "id": "hfmvcYpRNQ2e"
      }
    },
    {
      "cell_type": "code",
      "source": [
        "n_step = len(train_loader)\n",
        "sig_loss = []\n",
        "sig_acc = []\n",
        "sig_epoch = []\n",
        "\n",
        "for epoch in range(num_epochs):\n",
        "  sig_epoch.append(epoch+1)\n",
        "\n",
        "  epoch_loss = 0.0\n",
        "  epoch_acc = 0\n",
        "\n",
        "  n_correct = 0 # number of correct prediction\n",
        "  n_samples = 0 # number of total sample\n",
        "\n",
        "  for i ,(image, label) in enumerate(train_loader):\n",
        "    \n",
        "    # image = image.reshape(-1,1024).to(device)\n",
        "    image = image.to(device)\n",
        "    label = label.to(device)\n",
        "\n",
        "    # Forward pass\n",
        "    label_predict = sigmoid_model(image)\n",
        "\n",
        "\n",
        "    # Tracking correct predictions\n",
        "    _, predict = torch.max(label_predict,1)\n",
        "    n_samples += label.shape[0]\n",
        "    n_correct += (predict == label).sum().item()\n",
        "\n",
        "    # loss\n",
        "    l = loss_sigmoid(label_predict, label)\n",
        "\n",
        "    # backward\n",
        "    optimizer_sigmoid.zero_grad()\n",
        "    l.backward()\n",
        "\n",
        "    # Upate weights\n",
        "    optimizer_sigmoid.step()\n",
        "\n",
        "    if (i+1)%100 == 0:\n",
        "      print(f\"epoch : {epoch+1}/{num_epochs} | step : {i+1}/{n_step} | loss : {l.item(): .4f}\")\n",
        "\n",
        "\n",
        "    # Store each epoch total loss\n",
        "    epoch_loss += l.item()\n",
        "\n",
        "\n",
        "    # Store each epoch total loss into empty list\n",
        "  sig_loss.append(epoch_loss)\n",
        "\n",
        "  # Accuracy calculation\n",
        "  acc = 100.0*(n_correct/n_samples)\n",
        "  sig_acc.append(acc)\n",
        "  \n",
        "\n",
        "\n",
        "print(sig_loss)\n",
        "\n",
        "print(sig_acc)"
      ],
      "metadata": {
        "colab": {
          "base_uri": "https://localhost:8080/"
        },
        "id": "ilURUq-SNTPU",
        "outputId": "a10e7726-c27f-459b-9f6d-1a4a6c59eed6"
      },
      "execution_count": null,
      "outputs": [
        {
          "output_type": "stream",
          "name": "stdout",
          "text": [
            "epoch : 1/5 | step : 100/500 | loss :  2.3029\n",
            "epoch : 1/5 | step : 200/500 | loss :  2.2553\n",
            "epoch : 1/5 | step : 300/500 | loss :  2.2890\n",
            "epoch : 1/5 | step : 400/500 | loss :  2.2344\n",
            "epoch : 1/5 | step : 500/500 | loss :  2.2679\n",
            "epoch : 2/5 | step : 100/500 | loss :  2.2511\n",
            "epoch : 2/5 | step : 200/500 | loss :  2.2485\n",
            "epoch : 2/5 | step : 300/500 | loss :  2.2345\n",
            "epoch : 2/5 | step : 400/500 | loss :  2.2212\n",
            "epoch : 2/5 | step : 500/500 | loss :  2.2121\n",
            "epoch : 3/5 | step : 100/500 | loss :  2.1812\n",
            "epoch : 3/5 | step : 200/500 | loss :  2.2175\n",
            "epoch : 3/5 | step : 300/500 | loss :  2.1870\n",
            "epoch : 3/5 | step : 400/500 | loss :  2.1751\n",
            "epoch : 3/5 | step : 500/500 | loss :  2.1883\n",
            "epoch : 4/5 | step : 100/500 | loss :  2.1666\n",
            "epoch : 4/5 | step : 200/500 | loss :  2.1683\n",
            "epoch : 4/5 | step : 300/500 | loss :  2.1757\n",
            "epoch : 4/5 | step : 400/500 | loss :  2.1912\n",
            "epoch : 4/5 | step : 500/500 | loss :  2.1979\n",
            "epoch : 5/5 | step : 100/500 | loss :  2.1942\n",
            "epoch : 5/5 | step : 200/500 | loss :  2.1941\n",
            "epoch : 5/5 | step : 300/500 | loss :  2.1519\n",
            "epoch : 5/5 | step : 400/500 | loss :  2.1332\n",
            "epoch : 5/5 | step : 500/500 | loss :  2.1416\n",
            "[1143.9245898723602, 1119.8094000816345, 1103.3172557353973, 1089.5540635585785, 1077.4732818603516]\n",
            "[13.336, 22.154, 23.638, 24.901999999999997, 25.7]\n"
          ]
        }
      ]
    },
    {
      "cell_type": "markdown",
      "source": [
        "### Accuracy Calculation on test dataset"
      ],
      "metadata": {
        "id": "qYOOChw6Doq2"
      }
    },
    {
      "cell_type": "code",
      "source": [
        "with torch.no_grad():\n",
        "  n_correct = 0\n",
        "  n_samples = 0\n",
        "\n",
        "  for image, label in test_loader:\n",
        "    image = image.to(device)\n",
        "    label = label.to(device)\n",
        "\n",
        "    output = sigmoid_model(image)\n",
        "\n",
        "    # value, index\n",
        "    _, predictions = torch.max(output, 1)\n",
        "    n_samples += label.shape[0]\n",
        "    n_correct += (predictions == label).sum().item()\n",
        "\n",
        "\n",
        "  acc = 100.0 * (n_correct/n_samples)\n",
        "\n",
        "print(\"Accuracy of Sigmoid : \",acc)"
      ],
      "metadata": {
        "colab": {
          "base_uri": "https://localhost:8080/"
        },
        "id": "Uoc4uSj-Zs2B",
        "outputId": "01165db3-c138-419c-af43-f3c85ac1168e"
      },
      "execution_count": null,
      "outputs": [
        {
          "output_type": "stream",
          "name": "stdout",
          "text": [
            "Accuracy of Sigmoid :  26.700000000000003\n"
          ]
        }
      ]
    },
    {
      "cell_type": "markdown",
      "source": [
        "### Plot Graph"
      ],
      "metadata": {
        "id": "Jv27Ssp9Dt0p"
      }
    },
    {
      "cell_type": "code",
      "source": [
        "# Convert list to numpy array\n",
        "x = np.array(sig_loss)\n",
        "y = np.array(sig_acc)\n",
        "z = np.array(sig_epoch)\n",
        "# chart show\n",
        "\n",
        "# set chart Size\n",
        "fig = plt.figure()  \n",
        "  \n",
        "fig.set_figheight(5)  \n",
        "fig.set_figwidth(10)  \n",
        "\n",
        "#plot 1: Loss vs Accuracy\n",
        "plt.title(\"Loss vs Accuracy\")\n",
        "plt.xlabel(\"Loss\")\n",
        "plt.ylabel(\"Accuracy\")\n",
        "# plt.subplot(1, 4, 1)\n",
        "plt.plot(x,y)\n",
        "plt.show()"
      ],
      "metadata": {
        "colab": {
          "base_uri": "https://localhost:8080/",
          "height": 350
        },
        "id": "LvuQ8-blDECV",
        "outputId": "a7ff8375-94ef-4a30-9ef7-bfca070b438f"
      },
      "execution_count": null,
      "outputs": [
        {
          "output_type": "display_data",
          "data": {
            "text/plain": [
              "<Figure size 720x360 with 1 Axes>"
            ],
            "image/png": "[encoded data removed]"
          },
          "metadata": {
            "needs_background": "light"
          }
        }
      ]
    },
    {
      "cell_type": "code",
      "source": [
        "#plot 2: Accuracy vs Epoch\n",
        "\n",
        "fig = plt.figure()  \n",
        "  \n",
        "fig.set_figheight(5)  \n",
        "fig.set_figwidth(10) \n",
        "\n",
        "\n",
        "plt.title(\"Accuracy vs Epoch\")\n",
        "plt.xlabel(\"Accuracy\")\n",
        "plt.ylabel(\"Epoch\")\n",
        "# plt.subplot(1, 4, 2)\n",
        "plt.plot(y,z)\n",
        "plt.show()"
      ],
      "metadata": {
        "colab": {
          "base_uri": "https://localhost:8080/",
          "height": 350
        },
        "id": "yUcuqZR5Dzik",
        "outputId": "f0ca23e4-dd4f-4d66-98ab-94b935a4eede"
      },
      "execution_count": null,
      "outputs": [
        {
          "output_type": "display_data",
          "data": {
            "text/plain": [
              "<Figure size 720x360 with 1 Axes>"
            ],
            "image/png": "[encoded data removed]"
          },
          "metadata": {
            "needs_background": "light"
          }
        }
      ]
    },
    {
      "cell_type": "code",
      "source": [
        "#plot 3: Loss vs Epoch\n",
        "\n",
        "fig = plt.figure()  \n",
        "  \n",
        "fig.set_figheight(5)  \n",
        "fig.set_figwidth(10) \n",
        "\n",
        "\n",
        "plt.title(\"Loss vs Epoch\")\n",
        "plt.xlabel(\"Loss\")\n",
        "plt.ylabel(\"Epoch\")\n",
        "# plt.subplot(1, 4, 3)\n",
        "plt.plot(x,z)\n",
        "\n",
        "plt.show()"
      ],
      "metadata": {
        "colab": {
          "base_uri": "https://localhost:8080/",
          "height": 350
        },
        "id": "oegc18KOEB3m",
        "outputId": "3981a890-1a5e-4755-9e33-e3cf32d73029"
      },
      "execution_count": null,
      "outputs": [
        {
          "output_type": "display_data",
          "data": {
            "text/plain": [
              "<Figure size 720x360 with 1 Axes>"
            ],
            "image/png": "[encoded data removed]"
          },
          "metadata": {
            "needs_background": "light"
          }
        }
      ]
    },
    {
      "cell_type": "markdown",
      "source": [
        "##-------------------------------------------------------------------------------------------------------------"
      ],
      "metadata": {
        "id": "33KkEUkHtXE_"
      }
    },
    {
      "cell_type": "markdown",
      "source": [
        "## Neural Netrwork using tanh activation function without vanishing gradient problem"
      ],
      "metadata": {
        "id": "BgYcyT69byx8"
      }
    },
    {
      "cell_type": "markdown",
      "source": [
        "### Neural Network with tanh function"
      ],
      "metadata": {
        "id": "zytfRB6XtItO"
      }
    },
    {
      "cell_type": "code",
      "source": [
        "class NeuralNetTanh(nn.Module):\n",
        "  def __init__(self, input_size, hidden_size1, output_size):\n",
        "    super(NeuralNetTanh, self).__init__()\n",
        "    self.l1 = nn.Linear(input_size, hidden_size1)\n",
        "    self.tanh = nn.Tanh()\n",
        "    self.l2 = nn.Linear(hidden_size1, output_size)\n",
        "\n",
        "  def forward(self, x):\n",
        "    x = x.view(-1, 3*32*32)\n",
        "    out = self.l1(x)\n",
        "    out = self.tanh(out)\n",
        "    out = self.l2(out)\n",
        "    \n",
        "    return out\n",
        "\n",
        "\n",
        "tanh_model = NeuralNetTanh(input_size=input_size, hidden_size1=hidden_size1, output_size=output_size)\n",
        "tanh_model\n",
        "\n",
        "# print(tanh_model.state_dict())\n"
      ],
      "metadata": {
        "colab": {
          "base_uri": "https://localhost:8080/"
        },
        "id": "Ns_XeWXfb2ww",
        "outputId": "d324854d-52e4-4c30-ce23-ad0b1c1a2890"
      },
      "execution_count": null,
      "outputs": [
        {
          "output_type": "execute_result",
          "data": {
            "text/plain": [
              "NeuralNetTanh(\n",
              "  (l1): Linear(in_features=3072, out_features=100, bias=True)\n",
              "  (tanh): Tanh()\n",
              "  (l2): Linear(in_features=100, out_features=10, bias=True)\n",
              ")"
            ]
          },
          "metadata": {},
          "execution_count": 15
        }
      ]
    },
    {
      "cell_type": "markdown",
      "source": [
        "### Loss function for tanh"
      ],
      "metadata": {
        "id": "qUPSjGCIc9Y6"
      }
    },
    {
      "cell_type": "code",
      "source": [
        "loss_tanh = nn.CrossEntropyLoss()\n",
        "loss_tanh"
      ],
      "metadata": {
        "colab": {
          "base_uri": "https://localhost:8080/"
        },
        "id": "v4MW74Mvc6_k",
        "outputId": "b45998a6-bd12-4510-c56e-6db135c0d91a"
      },
      "execution_count": null,
      "outputs": [
        {
          "output_type": "execute_result",
          "data": {
            "text/plain": [
              "CrossEntropyLoss()"
            ]
          },
          "metadata": {},
          "execution_count": 16
        }
      ]
    },
    {
      "cell_type": "markdown",
      "source": [
        "### Optimizer function for tanh"
      ],
      "metadata": {
        "id": "PRlerS5wc8rW"
      }
    },
    {
      "cell_type": "code",
      "source": [
        "optimizer_tanh = torch.optim.SGD(tanh_model.parameters(), lr= lr)\n",
        "optimizer_tanh"
      ],
      "metadata": {
        "colab": {
          "base_uri": "https://localhost:8080/"
        },
        "id": "VoIKD6ajd4-x",
        "outputId": "189a29f4-c9f1-4eeb-df48-087f8e893ae6"
      },
      "execution_count": null,
      "outputs": [
        {
          "output_type": "execute_result",
          "data": {
            "text/plain": [
              "SGD (\n",
              "Parameter Group 0\n",
              "    dampening: 0\n",
              "    differentiable: False\n",
              "    foreach: None\n",
              "    lr: 0.001\n",
              "    maximize: False\n",
              "    momentum: 0\n",
              "    nesterov: False\n",
              "    weight_decay: 0\n",
              ")"
            ]
          },
          "metadata": {},
          "execution_count": 17
        }
      ]
    },
    {
      "cell_type": "markdown",
      "source": [
        "### Taining Loop for tanh"
      ],
      "metadata": {
        "id": "qoOwFHFOj49Y"
      }
    },
    {
      "cell_type": "code",
      "source": [
        "n_steps = len(train_loader)\n",
        "tanh_loss = []\n",
        "tanh_acc = []\n",
        "tanh_epoch = []\n",
        "\n",
        "\n",
        "for epoch in range(num_epochs):\n",
        "  tanh_epoch.append(epoch+1)\n",
        "  \n",
        "  epoch_loss = 0.0\n",
        "  epoch_acc = 0\n",
        "\n",
        "\n",
        "  n_correct = 0 # number of correct prediction\n",
        "  n_samples = 0 # number of total sample\n",
        "\n",
        "  for i, (image, label) in enumerate(train_loader):\n",
        "\n",
        "    # If device uses GPU then store data to GPU\n",
        "    image = image.to(device)\n",
        "    label = label.to(device)\n",
        "    \n",
        "    # foraward pass\n",
        "    output = tanh_model(image)\n",
        "\n",
        "    # Tracking correct predictions\n",
        "    _, predict = torch.max(output,1)\n",
        "    n_samples += label.shape[0]\n",
        "    n_correct += (predict == label).sum().item()\n",
        "\n",
        "\n",
        "    # loss\n",
        "    l = loss_tanh(output, label)\n",
        "\n",
        "    # backward pass\n",
        "    optimizer_tanh.zero_grad()\n",
        "\n",
        "    l.backward()\n",
        "\n",
        "    optimizer_tanh.step()\n",
        "\n",
        "\n",
        "    if (i+1)%100 == 0:\n",
        "      print(f\"epoch : {epoch+1}/{num_epochs} | step : {i+1}/{n_step} | loss : {l.item(): .4f}\")\n",
        "    \n",
        "    # Store each epoch total loss\n",
        "    epoch_loss += l.item()\n",
        "\n",
        "  # Store each epoch total loss into empty list\n",
        "  tanh_loss.append(epoch_loss)\n",
        "\n",
        "  # Accuracy calculation\n",
        "  acc = 100.0*(n_correct/n_samples)\n",
        "  tanh_acc.append(acc)\n",
        "  \n",
        "\n",
        "\n",
        "print(tanh_loss)\n",
        "\n",
        "print(tanh_acc)"
      ],
      "metadata": {
        "colab": {
          "base_uri": "https://localhost:8080/"
        },
        "id": "pmRHFlDYi-r9",
        "outputId": "095895f7-8c62-46d3-db5e-37e7b3f498ac"
      },
      "execution_count": null,
      "outputs": [
        {
          "output_type": "stream",
          "name": "stdout",
          "text": [
            "epoch : 1/5 | step : 100/500 | loss :  2.2230\n",
            "epoch : 1/5 | step : 200/500 | loss :  2.1564\n",
            "epoch : 1/5 | step : 300/500 | loss :  2.0876\n",
            "epoch : 1/5 | step : 400/500 | loss :  2.0204\n",
            "epoch : 1/5 | step : 500/500 | loss :  2.1645\n",
            "epoch : 2/5 | step : 100/500 | loss :  1.9973\n",
            "epoch : 2/5 | step : 200/500 | loss :  2.0320\n",
            "epoch : 2/5 | step : 300/500 | loss :  1.9711\n",
            "epoch : 2/5 | step : 400/500 | loss :  2.0302\n",
            "epoch : 2/5 | step : 500/500 | loss :  1.9809\n",
            "epoch : 3/5 | step : 100/500 | loss :  1.9844\n",
            "epoch : 3/5 | step : 200/500 | loss :  1.9397\n",
            "epoch : 3/5 | step : 300/500 | loss :  1.9016\n",
            "epoch : 3/5 | step : 400/500 | loss :  2.0447\n",
            "epoch : 3/5 | step : 500/500 | loss :  1.8973\n",
            "epoch : 4/5 | step : 100/500 | loss :  1.9377\n",
            "epoch : 4/5 | step : 200/500 | loss :  1.9381\n",
            "epoch : 4/5 | step : 300/500 | loss :  1.8528\n",
            "epoch : 4/5 | step : 400/500 | loss :  1.8996\n",
            "epoch : 4/5 | step : 500/500 | loss :  2.0140\n",
            "epoch : 5/5 | step : 100/500 | loss :  1.7833\n",
            "epoch : 5/5 | step : 200/500 | loss :  1.9671\n",
            "epoch : 5/5 | step : 300/500 | loss :  1.7414\n",
            "epoch : 5/5 | step : 400/500 | loss :  1.8975\n",
            "epoch : 5/5 | step : 500/500 | loss :  1.8818\n",
            "[1065.5030331611633, 1004.3196793794632, 976.3641585111618, 958.0654727220535, 944.818271279335]\n",
            "[25.718000000000004, 31.352000000000004, 33.226, 34.616, 35.532000000000004]\n"
          ]
        }
      ]
    },
    {
      "cell_type": "markdown",
      "source": [
        "### Plot Graph"
      ],
      "metadata": {
        "id": "_jFbZwZC3JBF"
      }
    },
    {
      "cell_type": "code",
      "source": [
        "# Convert list to numpy array\n",
        "x = np.array(tanh_loss)\n",
        "y = np.array(tanh_acc)\n",
        "z = np.array(tanh_epoch)\n",
        "# chart show\n",
        "\n",
        "# set chart Size\n",
        "fig = plt.figure()  \n",
        "  \n",
        "fig.set_figheight(5)  \n",
        "fig.set_figwidth(10)  \n",
        "\n",
        "#plot 1: Loss vs Accuracy\n",
        "plt.title(\"Loss vs Accuracy\")\n",
        "plt.xlabel(\"Loss\")\n",
        "plt.ylabel(\"Accuracy\")\n",
        "# plt.subplot(1, 4, 1)\n",
        "plt.plot(x,y)\n",
        "plt.show()\n",
        "\n"
      ],
      "metadata": {
        "colab": {
          "base_uri": "https://localhost:8080/"
        },
        "id": "N6vMQJJOw9DE",
        "outputId": "7646405f-6a88-4de6-e080-773faf5bd7b6"
      },
      "execution_count": null,
      "outputs": [
        {
          "output_type": "display_data",
          "data": {
            "text/plain": [
              "<Figure size 720x360 with 1 Axes>"
            ],
            "image/png": "[encoded data removed]"
          },
          "metadata": {
            "needs_background": "light"
          }
        }
      ]
    },
    {
      "cell_type": "code",
      "source": [
        "\n",
        "#plot 2: Accuracy vs Epoch\n",
        "\n",
        "fig = plt.figure()  \n",
        "  \n",
        "fig.set_figheight(5)  \n",
        "fig.set_figwidth(10) \n",
        "\n",
        "\n",
        "plt.title(\"Accuracy vs Epoch\")\n",
        "plt.xlabel(\"Accuracy\")\n",
        "plt.ylabel(\"Epoch\")\n",
        "# plt.subplot(1, 4, 2)\n",
        "plt.plot(y,z)\n",
        "plt.show()"
      ],
      "metadata": {
        "colab": {
          "base_uri": "https://localhost:8080/"
        },
        "id": "Ifb4LSa49ore",
        "outputId": "41a358b6-e6cf-4aac-dffc-34bd4de31a64"
      },
      "execution_count": null,
      "outputs": [
        {
          "output_type": "display_data",
          "data": {
            "text/plain": [
              "<Figure size 720x360 with 1 Axes>"
            ],
            "image/png": "[encoded data removed]"
          },
          "metadata": {
            "needs_background": "light"
          }
        }
      ]
    },
    {
      "cell_type": "code",
      "source": [
        "#plot 3: Loss vs Epoch\n",
        "\n",
        "fig = plt.figure()  \n",
        "  \n",
        "fig.set_figheight(5)  \n",
        "fig.set_figwidth(10) \n",
        "\n",
        "\n",
        "plt.title(\"Loss vs Epoch\")\n",
        "plt.xlabel(\"Loss\")\n",
        "plt.ylabel(\"Epoch\")\n",
        "# plt.subplot(1, 4, 3)\n",
        "plt.plot(x,z)\n",
        "\n",
        "plt.show()"
      ],
      "metadata": {
        "colab": {
          "base_uri": "https://localhost:8080/"
        },
        "id": "ZY387keG9pGj",
        "outputId": "e09f4ed5-370f-4495-a1f3-d619c24131b6"
      },
      "execution_count": null,
      "outputs": [
        {
          "output_type": "display_data",
          "data": {
            "text/plain": [
              "<Figure size 720x360 with 1 Axes>"
            ],
            "image/png": "[encoded data removed]"
          },
          "metadata": {
            "needs_background": "light"
          }
        }
      ]
    },
    {
      "cell_type": "markdown",
      "source": [
        "### Accuracy calculation"
      ],
      "metadata": {
        "id": "31D4DItRl1f8"
      }
    },
    {
      "cell_type": "code",
      "source": [
        "with torch.no_grad():\n",
        "  n_correct = 0\n",
        "  n_samples = 0\n",
        "\n",
        "  for image,label in test_loader:\n",
        "    image = image.to(device)\n",
        "    label = label.to(device)\n",
        "\n",
        "    output = tanh_model(image)\n",
        "\n",
        "    _,predictions = torch.max(output, 1)\n",
        "    n_samples += label.shape[0]\n",
        "    n_correct += (predictions == label).sum().item()\n",
        "\n",
        "  acc = 100.0*(n_correct/n_samples)\n",
        "\n",
        "print(\"Accuracy of Tanh : \",acc)"
      ],
      "metadata": {
        "id": "3q6Hqh3Flxwz",
        "colab": {
          "base_uri": "https://localhost:8080/"
        },
        "outputId": "25c7ac34-d9b3-4787-abd5-02090b4884f5"
      },
      "execution_count": null,
      "outputs": [
        {
          "output_type": "stream",
          "name": "stdout",
          "text": [
            "Accuracy of Tanh :  36.02\n"
          ]
        }
      ]
    },
    {
      "cell_type": "markdown",
      "source": [
        "#-----------------------------------------------------------------------------------------------------------------------------"
      ],
      "metadata": {
        "id": "iHeNK8S0tTXU"
      }
    },
    {
      "cell_type": "markdown",
      "source": [
        "# Question 2:Increase the depth of the given network by adding more Fully-Connected layers till the point you encounter the vanishing gradient problem. With the help of the results, mention how to identify it."
      ],
      "metadata": {
        "id": "1GWYYMpAnXtW"
      }
    },
    {
      "cell_type": "markdown",
      "source": [
        "## Neural Network with Sigmoid activation function Which has vanish gradient problem"
      ],
      "metadata": {
        "id": "gkoM6RBCLjOY"
      }
    },
    {
      "cell_type": "markdown",
      "source": [
        "### Create Neural Network with Sigmoid function"
      ],
      "metadata": {
        "id": "-_9kmbP9uWcE"
      }
    },
    {
      "cell_type": "code",
      "source": [
        "class NeuralNetSigmoidVanish(nn.Module):\n",
        "  def __init__(self, input_size, hidden_size1, hidden_size2, hidden_size3, output_size):\n",
        "    super(NeuralNetSigmoidVanish, self).__init__()\n",
        "    self.l1 = nn.Linear(input_size, hidden_size1)\n",
        "    self.sigmoid = nn.Sigmoid()\n",
        "    self.l2 = nn.Linear(hidden_size1, hidden_size2)\n",
        "    self.l3 = nn.Linear(hidden_size2, hidden_size3)\n",
        "    self.l4 = nn.Linear(hidden_size3, output_size)\n",
        "\n",
        "\n",
        "  def forward(self, x):\n",
        "    x = x.view(-1, 32*32*3)\n",
        "    out = self.l1(x)\n",
        "    out = self.sigmoid(out)\n",
        "    out = self.l2(out)\n",
        "    out = self.sigmoid(out)\n",
        "    out = self.l3(out)\n",
        "    out = self.sigmoid(out)\n",
        "    out = self.l4(out)\n",
        "\n",
        "    return out\n",
        "\n",
        "\n",
        "sigmoid_model_vanish = NeuralNetSigmoidVanish(input_size=input_size, hidden_size1=hidden_size1, hidden_size2=hidden_size2, hidden_size3=hidden_size3, output_size=output_size)\n",
        "sigmoid_model_vanish\n",
        "# print(sigmoid_model.state_dict())"
      ],
      "metadata": {
        "colab": {
          "base_uri": "https://localhost:8080/"
        },
        "id": "gYxZQ-ZwLiGm",
        "outputId": "ae2850ba-5ef6-4a72-aad4-e2140f047896"
      },
      "execution_count": null,
      "outputs": [
        {
          "output_type": "execute_result",
          "data": {
            "text/plain": [
              "NeuralNetSigmoidVanish(\n",
              "  (l1): Linear(in_features=3072, out_features=100, bias=True)\n",
              "  (sigmoid): Sigmoid()\n",
              "  (l2): Linear(in_features=100, out_features=100, bias=True)\n",
              "  (l3): Linear(in_features=100, out_features=100, bias=True)\n",
              "  (l4): Linear(in_features=100, out_features=10, bias=True)\n",
              ")"
            ]
          },
          "metadata": {},
          "execution_count": 23
        }
      ]
    },
    {
      "cell_type": "markdown",
      "source": [
        "### Loss function for sigmoid"
      ],
      "metadata": {
        "id": "Xvhv6zA3w578"
      }
    },
    {
      "cell_type": "code",
      "source": [
        "loss_sigmoid = nn.CrossEntropyLoss()\n",
        "loss_sigmoid"
      ],
      "metadata": {
        "colab": {
          "base_uri": "https://localhost:8080/"
        },
        "outputId": "86b5f231-8cb1-470b-afb2-e7c564526d3b",
        "id": "6m0Dh5fLw579"
      },
      "execution_count": null,
      "outputs": [
        {
          "output_type": "execute_result",
          "data": {
            "text/plain": [
              "CrossEntropyLoss()"
            ]
          },
          "metadata": {},
          "execution_count": 24
        }
      ]
    },
    {
      "cell_type": "markdown",
      "source": [
        "### Optimizer function for sigmoid"
      ],
      "metadata": {
        "id": "AG3FlYC5xPrg"
      }
    },
    {
      "cell_type": "code",
      "source": [
        "optimizer_sigmoid = torch.optim.SGD(sigmoid_model_vanish.parameters(), lr=lr)\n",
        "optimizer_sigmoid"
      ],
      "metadata": {
        "colab": {
          "base_uri": "https://localhost:8080/"
        },
        "outputId": "37c14584-4f59-411e-fe47-eaf9abda6f87",
        "id": "fsVC7wQVxPrh"
      },
      "execution_count": null,
      "outputs": [
        {
          "output_type": "execute_result",
          "data": {
            "text/plain": [
              "SGD (\n",
              "Parameter Group 0\n",
              "    dampening: 0\n",
              "    differentiable: False\n",
              "    foreach: None\n",
              "    lr: 0.001\n",
              "    maximize: False\n",
              "    momentum: 0\n",
              "    nesterov: False\n",
              "    weight_decay: 0\n",
              ")"
            ]
          },
          "metadata": {},
          "execution_count": 25
        }
      ]
    },
    {
      "cell_type": "markdown",
      "source": [
        "### Training Loop for sigmoid function"
      ],
      "metadata": {
        "id": "5FjIuRUbxc88"
      }
    },
    {
      "cell_type": "code",
      "source": [
        "n_step = len(train_loader)\n",
        "sig_loss = []\n",
        "sig_acc = []\n",
        "sig_epoch = []\n",
        "\n",
        "for epoch in range(num_epochs):\n",
        "  sig_epoch.append(epoch+1)\n",
        "\n",
        "  epoch_loss = 0.0\n",
        "  epoch_acc = 0\n",
        "\n",
        "  n_correct = 0 # number of correct prediction\n",
        "  n_samples = 0 # number of total sample\n",
        "\n",
        "  for i ,(image, label) in enumerate(train_loader):\n",
        "    \n",
        "    # image = image.reshape(-1,1024).to(device)\n",
        "    image = image.to(device)\n",
        "    label = label.to(device)\n",
        "\n",
        "    # Forward pass\n",
        "    label_predict = sigmoid_model_vanish(image)\n",
        "\n",
        "\n",
        "    # Tracking correct predictions\n",
        "    _, predict = torch.max(label_predict,1)\n",
        "    n_samples += label.shape[0]\n",
        "    n_correct += (predict == label).sum().item()\n",
        "\n",
        "    # loss\n",
        "    l = loss_sigmoid(label_predict, label)\n",
        "\n",
        "    # backward\n",
        "    optimizer_sigmoid.zero_grad()\n",
        "    l.backward()\n",
        "\n",
        "    # Upate weights\n",
        "    optimizer_sigmoid.step()\n",
        "\n",
        "    if (i+1)%100 == 0:\n",
        "      print(f\"epoch : {epoch+1}/{num_epochs} | step : {i+1}/{n_step} | loss : {l.item(): .4f}\")\n",
        "\n",
        "\n",
        "    # Store each epoch total loss\n",
        "    epoch_loss += l.item()\n",
        "\n",
        "\n",
        "    # Store each epoch total loss into empty list\n",
        "  sig_loss.append(epoch_loss)\n",
        "\n",
        "  # Accuracy calculation\n",
        "  acc = 100.0*(n_correct/n_samples)\n",
        "  sig_acc.append(acc)\n",
        "  \n",
        "\n",
        "\n",
        "print(sig_loss)\n",
        "\n",
        "print(sig_acc)"
      ],
      "metadata": {
        "colab": {
          "base_uri": "https://localhost:8080/"
        },
        "outputId": "78c0e3a5-b1f9-4c28-8e96-8efd45ddec41",
        "id": "NmekdrSxxc89"
      },
      "execution_count": null,
      "outputs": [
        {
          "output_type": "stream",
          "name": "stdout",
          "text": [
            "epoch : 1/5 | step : 100/500 | loss :  2.2897\n",
            "epoch : 1/5 | step : 200/500 | loss :  2.3136\n",
            "epoch : 1/5 | step : 300/500 | loss :  2.2977\n",
            "epoch : 1/5 | step : 400/500 | loss :  2.3209\n",
            "epoch : 1/5 | step : 500/500 | loss :  2.3103\n",
            "epoch : 2/5 | step : 100/500 | loss :  2.3067\n",
            "epoch : 2/5 | step : 200/500 | loss :  2.3020\n",
            "epoch : 2/5 | step : 300/500 | loss :  2.3052\n",
            "epoch : 2/5 | step : 400/500 | loss :  2.2998\n",
            "epoch : 2/5 | step : 500/500 | loss :  2.3025\n",
            "epoch : 3/5 | step : 100/500 | loss :  2.3028\n",
            "epoch : 3/5 | step : 200/500 | loss :  2.3042\n",
            "epoch : 3/5 | step : 300/500 | loss :  2.3024\n",
            "epoch : 3/5 | step : 400/500 | loss :  2.3034\n",
            "epoch : 3/5 | step : 500/500 | loss :  2.3030\n",
            "epoch : 4/5 | step : 100/500 | loss :  2.3021\n",
            "epoch : 4/5 | step : 200/500 | loss :  2.3026\n",
            "epoch : 4/5 | step : 300/500 | loss :  2.3036\n",
            "epoch : 4/5 | step : 400/500 | loss :  2.3036\n",
            "epoch : 4/5 | step : 500/500 | loss :  2.3020\n",
            "epoch : 5/5 | step : 100/500 | loss :  2.3024\n",
            "epoch : 5/5 | step : 200/500 | loss :  2.3022\n",
            "epoch : 5/5 | step : 300/500 | loss :  2.3025\n",
            "epoch : 5/5 | step : 400/500 | loss :  2.3022\n",
            "epoch : 5/5 | step : 500/500 | loss :  2.3026\n",
            "[1156.506310224533, 1151.731022119522, 1151.3671119213104, 1151.3382086753845, 1151.3270809650421]\n",
            "[10.016, 9.786, 9.84, 9.454, 10.145999999999999]\n"
          ]
        }
      ]
    },
    {
      "cell_type": "markdown",
      "source": [
        "### Accuracy Calculation on test dataset"
      ],
      "metadata": {
        "id": "A0Z4pLfjzEFb"
      }
    },
    {
      "cell_type": "code",
      "source": [
        "with torch.no_grad():\n",
        "  n_correct = 0\n",
        "  n_samples = 0\n",
        "\n",
        "  for image, label in test_loader:\n",
        "    image = image.to(device)\n",
        "    label = label.to(device)\n",
        "\n",
        "    output = sigmoid_model(image)\n",
        "\n",
        "    # value, index\n",
        "    _, predictions = torch.max(output, 1)\n",
        "    n_samples += label.shape[0]\n",
        "    n_correct += (predictions == label).sum().item()\n",
        "\n",
        "\n",
        "  acc = 100.0 * (n_correct/n_samples)\n",
        "\n",
        "print(\"Accuracy of Sigmoid : \",acc)"
      ],
      "metadata": {
        "colab": {
          "base_uri": "https://localhost:8080/"
        },
        "outputId": "e528a0ca-e0a8-43a7-9e58-3fe282c371fa",
        "id": "Wxla0z3ezEFc"
      },
      "execution_count": null,
      "outputs": [
        {
          "output_type": "stream",
          "name": "stdout",
          "text": [
            "Accuracy of Sigmoid :  26.700000000000003\n"
          ]
        }
      ]
    },
    {
      "cell_type": "markdown",
      "source": [
        "### Plot Graph"
      ],
      "metadata": {
        "id": "WBNqxndKzMEN"
      }
    },
    {
      "cell_type": "code",
      "source": [
        "# Convert list to numpy array\n",
        "x = np.array(sig_loss)\n",
        "y = np.array(sig_acc)\n",
        "z = np.array(sig_epoch)\n",
        "# chart show\n",
        "\n",
        "# set chart Size\n",
        "fig = plt.figure()  \n",
        "  \n",
        "fig.set_figheight(5)  \n",
        "fig.set_figwidth(10)  \n",
        "\n",
        "#plot 1: Loss vs Accuracy\n",
        "plt.title(\"Loss vs Accuracy\")\n",
        "plt.xlabel(\"Loss\")\n",
        "plt.ylabel(\"Accuracy\")\n",
        "# plt.subplot(1, 4, 1)\n",
        "plt.plot(x,y)\n",
        "plt.show()"
      ],
      "metadata": {
        "colab": {
          "base_uri": "https://localhost:8080/"
        },
        "outputId": "19cf8322-ce98-49b2-b669-b940c2c7bc4b",
        "id": "-qclm2UEzMEO"
      },
      "execution_count": null,
      "outputs": [
        {
          "output_type": "display_data",
          "data": {
            "text/plain": [
              "<Figure size 720x360 with 1 Axes>"
            ],
            "image/png": "[encoded data removed]"
          },
          "metadata": {
            "needs_background": "light"
          }
        }
      ]
    },
    {
      "cell_type": "code",
      "source": [
        "#plot 2: Accuracy vs Epoch\n",
        "\n",
        "fig = plt.figure()  \n",
        "  \n",
        "fig.set_figheight(5)  \n",
        "fig.set_figwidth(10) \n",
        "\n",
        "\n",
        "plt.title(\"Accuracy vs Epoch\")\n",
        "plt.xlabel(\"Accuracy\")\n",
        "plt.ylabel(\"Epoch\")\n",
        "# plt.subplot(1, 4, 2)\n",
        "plt.plot(y,z)\n",
        "plt.show()"
      ],
      "metadata": {
        "colab": {
          "base_uri": "https://localhost:8080/"
        },
        "outputId": "a913b6cc-bc10-4e08-9838-7c061e5977e8",
        "id": "CWdBFNu4zMEP"
      },
      "execution_count": null,
      "outputs": [
        {
          "output_type": "display_data",
          "data": {
            "text/plain": [
              "<Figure size 720x360 with 1 Axes>"
            ],
            "image/png": "[encoded data removed]"
          },
          "metadata": {
            "needs_background": "light"
          }
        }
      ]
    },
    {
      "cell_type": "code",
      "source": [
        "#plot 3: Loss vs Epoch\n",
        "\n",
        "fig = plt.figure()  \n",
        "  \n",
        "fig.set_figheight(5)  \n",
        "fig.set_figwidth(10) \n",
        "\n",
        "\n",
        "plt.title(\"Loss vs Epoch\")\n",
        "plt.xlabel(\"Loss\")\n",
        "plt.ylabel(\"Epoch\")\n",
        "# plt.subplot(1, 4, 3)\n",
        "plt.plot(x,z)\n",
        "\n",
        "plt.show()"
      ],
      "metadata": {
        "colab": {
          "base_uri": "https://localhost:8080/"
        },
        "outputId": "e1604485-ccca-4293-de82-d08fc682758d",
        "id": "P5uox58tzMEQ"
      },
      "execution_count": null,
      "outputs": [
        {
          "output_type": "display_data",
          "data": {
            "text/plain": [
              "<Figure size 720x360 with 1 Axes>"
            ],
            "image/png": "[encoded data removed]"
          },
          "metadata": {
            "needs_background": "light"
          }
        }
      ]
    },
    {
      "cell_type": "markdown",
      "source": [
        "##-------------------------------------------------------------------------------------------------------------"
      ],
      "metadata": {
        "id": "GXszJcqc0Eyj"
      }
    },
    {
      "cell_type": "markdown",
      "source": [
        "## Neural Network using **tanh activation** function with vanishing gradient problem"
      ],
      "metadata": {
        "id": "toaklxmGnmUc"
      }
    },
    {
      "cell_type": "markdown",
      "source": [
        "### Neural Network with tanh"
      ],
      "metadata": {
        "id": "HB9k3j-5zXnh"
      }
    },
    {
      "cell_type": "code",
      "source": [
        "class NeuralNetTanhVanish(nn.Module):\n",
        "  def __init__(self, input_size, hidden_size1, hidden_size2, hidden_size3, output_size):\n",
        "    super(NeuralNetTanhVanish, self).__init__()\n",
        "    self.l1 = nn.Linear(input_size, hidden_size1)\n",
        "    self.tanh = nn.Tanh()\n",
        "    self.l2 = nn.Linear(hidden_size1, hidden_size2)\n",
        "    self.l3 = nn.Linear(hidden_size2, hidden_size3)\n",
        "    self.l4 = nn.Linear(hidden_size3, output_size)\n",
        "\n",
        "  def forward(self, x):\n",
        "    x = x.view(-1, 3*32*32)\n",
        "    out = self.l1(x)\n",
        "    out = self.tanh(out)\n",
        "    out = self.l2(out)\n",
        "    out = self.tanh(out)\n",
        "    out = self.l3(out)\n",
        "    out = self.tanh(out)\n",
        "    out = self.l4(out)\n",
        "    return out\n",
        "\n",
        "\n",
        "tanh_model_vanish = NeuralNetTanhVanish(input_size=input_size, hidden_size1=hidden_size1, hidden_size2=hidden_size2, hidden_size3=hidden_size3, output_size=output_size)\n",
        "tanh_model_vanish\n",
        "\n",
        "# print(tanh_model.state_dict())"
      ],
      "metadata": {
        "colab": {
          "base_uri": "https://localhost:8080/"
        },
        "id": "J7MFY1IRnfw_",
        "outputId": "24c3f935-693b-436e-b111-35c3047838ad"
      },
      "execution_count": null,
      "outputs": [
        {
          "output_type": "execute_result",
          "data": {
            "text/plain": [
              "NeuralNetTanhVanish(\n",
              "  (l1): Linear(in_features=3072, out_features=100, bias=True)\n",
              "  (tanh): Tanh()\n",
              "  (l2): Linear(in_features=100, out_features=100, bias=True)\n",
              "  (l3): Linear(in_features=100, out_features=100, bias=True)\n",
              "  (l4): Linear(in_features=100, out_features=10, bias=True)\n",
              ")"
            ]
          },
          "metadata": {},
          "execution_count": 31
        }
      ]
    },
    {
      "cell_type": "markdown",
      "source": [
        "### Tanh Loss with vanish gradient decent "
      ],
      "metadata": {
        "id": "_uPRSyy-ueMC"
      }
    },
    {
      "cell_type": "code",
      "source": [
        "loss = nn.CrossEntropyLoss()\n",
        "loss"
      ],
      "metadata": {
        "colab": {
          "base_uri": "https://localhost:8080/"
        },
        "id": "TgPP97IIoBu7",
        "outputId": "30639fff-be9f-4030-efd8-e075e2a7ce2a"
      },
      "execution_count": null,
      "outputs": [
        {
          "output_type": "execute_result",
          "data": {
            "text/plain": [
              "CrossEntropyLoss()"
            ]
          },
          "metadata": {},
          "execution_count": 32
        }
      ]
    },
    {
      "cell_type": "markdown",
      "source": [
        "### Optimizer with tanh function"
      ],
      "metadata": {
        "id": "4unLe2uszg27"
      }
    },
    {
      "cell_type": "code",
      "source": [
        "optimizer = torch.optim.SGD(tanh_model_vanish.parameters(), lr=lr)\n",
        "optimizer"
      ],
      "metadata": {
        "colab": {
          "base_uri": "https://localhost:8080/"
        },
        "id": "Nt4f3sLSoHZf",
        "outputId": "c22a9690-dd32-4230-8365-beb3a6ebe5e2"
      },
      "execution_count": null,
      "outputs": [
        {
          "output_type": "execute_result",
          "data": {
            "text/plain": [
              "SGD (\n",
              "Parameter Group 0\n",
              "    dampening: 0\n",
              "    differentiable: False\n",
              "    foreach: None\n",
              "    lr: 0.001\n",
              "    maximize: False\n",
              "    momentum: 0\n",
              "    nesterov: False\n",
              "    weight_decay: 0\n",
              ")"
            ]
          },
          "metadata": {},
          "execution_count": 33
        }
      ]
    },
    {
      "cell_type": "code",
      "source": [
        "n_steps = len(train_loader)\n",
        "tanh_loss = []\n",
        "tanh_acc = []\n",
        "tanh_epoch = []\n",
        "\n",
        "\n",
        "for epoch in range(num_epochs):\n",
        "  tanh_epoch.append(epoch+1)\n",
        "  \n",
        "  epoch_loss = 0.0\n",
        "  epoch_acc = 0\n",
        "\n",
        "\n",
        "  n_correct = 0 # number of correct prediction\n",
        "  n_samples = 0 # number of total sample\n",
        "\n",
        "  for i, (image, label) in enumerate(train_loader):\n",
        "\n",
        "    # If device uses GPU then store data to GPU\n",
        "    image = image.to(device)\n",
        "    label = label.to(device)\n",
        "    \n",
        "    # foraward pass\n",
        "    output = tanh_model_vanish(image)\n",
        "\n",
        "    # Tracking correct predictions\n",
        "    _, predict = torch.max(output,1)\n",
        "    n_samples += label.shape[0]\n",
        "    n_correct += (predict == label).sum().item()\n",
        "\n",
        "\n",
        "    # loss\n",
        "    l = loss_tanh(output, label)\n",
        "\n",
        "    # backward pass\n",
        "    optimizer_tanh.zero_grad()\n",
        "\n",
        "    l.backward()\n",
        "\n",
        "    optimizer_tanh.step()\n",
        "\n",
        "\n",
        "    if (i+1)%100 == 0:\n",
        "      print(f\"epoch : {epoch+1}/{num_epochs} | step : {i+1}/{n_step} | loss : {l.item(): .4f}\")\n",
        "    \n",
        "    # Store each epoch total loss\n",
        "    epoch_loss += l.item()\n",
        "\n",
        "  # Store each epoch total loss into empty list\n",
        "  tanh_loss.append(epoch_loss)\n",
        "\n",
        "  # Accuracy calculation\n",
        "  acc = 100.0*(n_correct/n_samples)\n",
        "  tanh_acc.append(acc)\n",
        "  \n",
        "\n",
        "\n",
        "print(tanh_loss)\n",
        "\n",
        "print(tanh_acc)"
      ],
      "metadata": {
        "colab": {
          "base_uri": "https://localhost:8080/"
        },
        "id": "1uKcZ0beodIy",
        "outputId": "defd55b0-14f4-456e-d460-abf93fc069a9"
      },
      "execution_count": null,
      "outputs": [
        {
          "output_type": "stream",
          "name": "stdout",
          "text": [
            "epoch : 1/5 | step : 100/500 | loss :  2.3111\n",
            "epoch : 1/5 | step : 200/500 | loss :  2.3050\n",
            "epoch : 1/5 | step : 300/500 | loss :  2.3123\n",
            "epoch : 1/5 | step : 400/500 | loss :  2.3023\n",
            "epoch : 1/5 | step : 500/500 | loss :  2.3056\n",
            "epoch : 2/5 | step : 100/500 | loss :  2.3038\n",
            "epoch : 2/5 | step : 200/500 | loss :  2.3141\n",
            "epoch : 2/5 | step : 300/500 | loss :  2.2982\n",
            "epoch : 2/5 | step : 400/500 | loss :  2.2992\n",
            "epoch : 2/5 | step : 500/500 | loss :  2.3018\n",
            "epoch : 3/5 | step : 100/500 | loss :  2.3080\n",
            "epoch : 3/5 | step : 200/500 | loss :  2.3185\n",
            "epoch : 3/5 | step : 300/500 | loss :  2.3062\n",
            "epoch : 3/5 | step : 400/500 | loss :  2.2962\n",
            "epoch : 3/5 | step : 500/500 | loss :  2.3004\n",
            "epoch : 4/5 | step : 100/500 | loss :  2.3092\n",
            "epoch : 4/5 | step : 200/500 | loss :  2.3107\n",
            "epoch : 4/5 | step : 300/500 | loss :  2.3007\n",
            "epoch : 4/5 | step : 400/500 | loss :  2.2969\n",
            "epoch : 4/5 | step : 500/500 | loss :  2.3058\n",
            "epoch : 5/5 | step : 100/500 | loss :  2.3060\n",
            "epoch : 5/5 | step : 200/500 | loss :  2.2999\n",
            "epoch : 5/5 | step : 300/500 | loss :  2.2946\n",
            "epoch : 5/5 | step : 400/500 | loss :  2.3001\n",
            "epoch : 5/5 | step : 500/500 | loss :  2.2996\n",
            "[1150.809490442276, 1150.8094882965088, 1150.8094918727875, 1150.809491634369, 1150.8094837665558]\n",
            "[9.316, 9.316, 9.316, 9.316, 9.316]\n"
          ]
        }
      ]
    },
    {
      "cell_type": "markdown",
      "source": [
        "### Accuracy calculation"
      ],
      "metadata": {
        "id": "Axpl4Cu3qEBW"
      }
    },
    {
      "cell_type": "code",
      "source": [
        "with torch.no_grad():\n",
        "  n_correct = 0\n",
        "  n_samples = 0\n",
        "\n",
        "  for image,label in test_loader:\n",
        "    image = image.to(device)\n",
        "    label = label.to(device)\n",
        "\n",
        "    output = tanh_model(image)\n",
        "\n",
        "    _,predictions = torch.max(output, 1)\n",
        "    n_samples += label.shape[0]\n",
        "    n_correct += (predictions == label).sum().item()\n",
        "\n",
        "  acc = 100.0*(n_correct/n_samples)\n",
        "\n",
        "print(\"Accuracy of Tanh : \",acc)"
      ],
      "metadata": {
        "colab": {
          "base_uri": "https://localhost:8080/"
        },
        "outputId": "d55424b9-6083-47e3-b094-e01b7d8a0a5b",
        "id": "t_Bm5yj0qEBW"
      },
      "execution_count": null,
      "outputs": [
        {
          "output_type": "stream",
          "name": "stdout",
          "text": [
            "Accuracy of Tanh :  36.02\n"
          ]
        }
      ]
    },
    {
      "cell_type": "code",
      "source": [],
      "metadata": {
        "id": "Yp5O4QPMqEBX"
      },
      "execution_count": null,
      "outputs": []
    },
    {
      "cell_type": "markdown",
      "source": [
        "### Plot Graph"
      ],
      "metadata": {
        "id": "sjpvD8rfqEBT"
      }
    },
    {
      "cell_type": "code",
      "source": [
        "# Convert list to numpy array\n",
        "x = np.array(tanh_loss)\n",
        "y = np.array(tanh_acc)\n",
        "z = np.array(tanh_epoch)\n",
        "# chart show\n",
        "\n",
        "# set chart Size\n",
        "fig = plt.figure()  \n",
        "  \n",
        "fig.set_figheight(5)  \n",
        "fig.set_figwidth(10)  \n",
        "\n",
        "#plot 1: Loss vs Accuracy\n",
        "plt.title(\"Loss vs Accuracy\")\n",
        "plt.xlabel(\"Loss\")\n",
        "plt.ylabel(\"Accuracy\")\n",
        "# plt.subplot(1, 4, 1)\n",
        "plt.plot(x,y)\n",
        "plt.show()\n",
        "\n"
      ],
      "metadata": {
        "colab": {
          "base_uri": "https://localhost:8080/"
        },
        "outputId": "80d737e0-056f-4e51-dafb-f093137f2a84",
        "id": "310pq0_lqEBU"
      },
      "execution_count": null,
      "outputs": [
        {
          "output_type": "display_data",
          "data": {
            "text/plain": [
              "<Figure size 720x360 with 1 Axes>"
            ],
            "image/png": "[encoded data removed]"
          },
          "metadata": {
            "needs_background": "light"
          }
        }
      ]
    },
    {
      "cell_type": "code",
      "source": [
        "\n",
        "#plot 2: Accuracy vs Epoch\n",
        "\n",
        "fig = plt.figure()  \n",
        "  \n",
        "fig.set_figheight(5)  \n",
        "fig.set_figwidth(10) \n",
        "\n",
        "\n",
        "plt.title(\"Accuracy vs Epoch\")\n",
        "plt.xlabel(\"Accuracy\")\n",
        "plt.ylabel(\"Epoch\")\n",
        "# plt.subplot(1, 4, 2)\n",
        "plt.plot(y,z)\n",
        "plt.show()"
      ],
      "metadata": {
        "colab": {
          "base_uri": "https://localhost:8080/"
        },
        "outputId": "d78f76fb-f2ab-491a-f0d7-1696e907a56a",
        "id": "-0_oc17UqEBV"
      },
      "execution_count": null,
      "outputs": [
        {
          "output_type": "display_data",
          "data": {
            "text/plain": [
              "<Figure size 720x360 with 1 Axes>"
            ],
            "image/png": "[encoded data removed]"
          },
          "metadata": {
            "needs_background": "light"
          }
        }
      ]
    },
    {
      "cell_type": "code",
      "source": [
        "#plot 3: Loss vs Epoch\n",
        "\n",
        "fig = plt.figure()  \n",
        "  \n",
        "fig.set_figheight(5)  \n",
        "fig.set_figwidth(10) \n",
        "\n",
        "\n",
        "plt.title(\"Loss vs Epoch\")\n",
        "plt.xlabel(\"Loss\")\n",
        "plt.ylabel(\"Epoch\")\n",
        "# plt.subplot(1, 4, 3)\n",
        "plt.plot(x,z)\n",
        "\n",
        "plt.show()"
      ],
      "metadata": {
        "colab": {
          "base_uri": "https://localhost:8080/"
        },
        "outputId": "d90f5b7f-ed4b-413a-b06f-7918b75ec074",
        "id": "6CWHFXZsqEBV"
      },
      "execution_count": null,
      "outputs": [
        {
          "output_type": "display_data",
          "data": {
            "text/plain": [
              "<Figure size 720x360 with 1 Axes>"
            ],
            "image/png": "[encoded data removed]"
          },
          "metadata": {
            "needs_background": "light"
          }
        }
      ]
    },
    {
      "cell_type": "markdown",
      "source": [
        "#-----------------------------------------------------------------------------------------------------------------------------"
      ],
      "metadata": {
        "id": "MNT56-VW0w6K"
      }
    },
    {
      "cell_type": "markdown",
      "source": [
        "# Question 3:Suggest and implement methods to overcome the above problem."
      ],
      "metadata": {
        "id": "dUoxpUa21zbE"
      }
    },
    {
      "cell_type": "markdown",
      "source": [
        "## We can remove by using relu function"
      ],
      "metadata": {
        "id": "EA8mb9Rp182c"
      }
    },
    {
      "cell_type": "markdown",
      "source": [
        "### Relu Neural Network"
      ],
      "metadata": {
        "id": "UGBi86fd3byk"
      }
    },
    {
      "cell_type": "code",
      "source": [
        "class NeuralNetRelu(nn.Module):\n",
        "  def __init__(self, input_size, hidden_size1, hidden_size2, hidden_size3, output_size):\n",
        "    super(NeuralNetRelu, self).__init__()\n",
        "    self.l1 = nn.Linear(input_size, hidden_size1)\n",
        "    self.relu = nn.ReLU()\n",
        "    self.l2 = nn.Linear(hidden_size1, hidden_size2)\n",
        "    self.l3 = nn.Linear(hidden_size2, hidden_size3)\n",
        "    self.l4 = nn.Linear(hidden_size3, output_size)\n",
        "\n",
        "\n",
        "  def forward(self, x):\n",
        "    x = x.view(-1, 32*32*3)\n",
        "    out = self.l1(x)\n",
        "    out = self.relu(out)\n",
        "    out = self.l2(out)\n",
        "    out = self.relu(out)\n",
        "    out = self.l3(out)\n",
        "    out = self.relu(out)\n",
        "    out = self.l4(out)\n",
        "\n",
        "    return out\n",
        "\n",
        "\n",
        "relu_model_vanish = NeuralNetRelu(input_size=input_size, hidden_size1=hidden_size1, hidden_size2=hidden_size2, hidden_size3=hidden_size3, output_size=output_size)\n",
        "relu_model_vanish\n",
        "# print(sigmoid_model.state_dict())"
      ],
      "metadata": {
        "colab": {
          "base_uri": "https://localhost:8080/"
        },
        "id": "hHgVVJkg13i9",
        "outputId": "a911b434-59a6-414e-9c76-e1c6e9bcdc33"
      },
      "execution_count": null,
      "outputs": [
        {
          "output_type": "execute_result",
          "data": {
            "text/plain": [
              "NeuralNetRelu(\n",
              "  (l1): Linear(in_features=3072, out_features=100, bias=True)\n",
              "  (relu): ReLU()\n",
              "  (l2): Linear(in_features=100, out_features=100, bias=True)\n",
              "  (l3): Linear(in_features=100, out_features=100, bias=True)\n",
              "  (l4): Linear(in_features=100, out_features=10, bias=True)\n",
              ")"
            ]
          },
          "metadata": {},
          "execution_count": 39
        }
      ]
    },
    {
      "cell_type": "markdown",
      "source": [
        "### Loss function for Relu"
      ],
      "metadata": {
        "id": "1pkc85bB3EB3"
      }
    },
    {
      "cell_type": "code",
      "source": [
        "loss_relu = nn.CrossEntropyLoss()\n",
        "loss_relu"
      ],
      "metadata": {
        "colab": {
          "base_uri": "https://localhost:8080/"
        },
        "outputId": "d1ad70e0-3c12-42a5-bd35-2f4e7dc47432",
        "id": "QSRyTd3a3EB4"
      },
      "execution_count": null,
      "outputs": [
        {
          "output_type": "execute_result",
          "data": {
            "text/plain": [
              "CrossEntropyLoss()"
            ]
          },
          "metadata": {},
          "execution_count": 40
        }
      ]
    },
    {
      "cell_type": "markdown",
      "source": [
        "### Optimizer function for sigmoid"
      ],
      "metadata": {
        "id": "szo5mDvI3Rqg"
      }
    },
    {
      "cell_type": "code",
      "source": [
        "optimizer_relu = torch.optim.SGD(relu_model_vanish.parameters(), lr=lr)\n",
        "optimizer_relu"
      ],
      "metadata": {
        "colab": {
          "base_uri": "https://localhost:8080/"
        },
        "outputId": "8e260154-c8ae-454d-c3dd-0bab43783f7e",
        "id": "TIQrRFDE3Rqh"
      },
      "execution_count": null,
      "outputs": [
        {
          "output_type": "execute_result",
          "data": {
            "text/plain": [
              "SGD (\n",
              "Parameter Group 0\n",
              "    dampening: 0\n",
              "    differentiable: False\n",
              "    foreach: None\n",
              "    lr: 0.001\n",
              "    maximize: False\n",
              "    momentum: 0\n",
              "    nesterov: False\n",
              "    weight_decay: 0\n",
              ")"
            ]
          },
          "metadata": {},
          "execution_count": 41
        }
      ]
    },
    {
      "cell_type": "markdown",
      "source": [
        "### Training Loop for relu function"
      ],
      "metadata": {
        "id": "OFhWpobZ3ov4"
      }
    },
    {
      "cell_type": "code",
      "source": [
        "n_step = len(train_loader)\n",
        "relu_loss = []\n",
        "relu_acc = []\n",
        "relu_epoch = []\n",
        "\n",
        "for epoch in range(num_epochs):\n",
        "  relu_epoch.append(epoch+1)\n",
        "\n",
        "  epoch_loss = 0.0\n",
        "  epoch_acc = 0\n",
        "\n",
        "  n_correct = 0 # number of correct prediction\n",
        "  n_samples = 0 # number of total sample\n",
        "\n",
        "  for i ,(image, label) in enumerate(train_loader):\n",
        "    \n",
        "    # image = image.reshape(-1,1024).to(device)\n",
        "    image = image.to(device)\n",
        "    label = label.to(device)\n",
        "\n",
        "    # Forward pass\n",
        "    label_predict = relu_model_vanish(image)\n",
        "\n",
        "\n",
        "    # Tracking correct predictions\n",
        "    _, predict = torch.max(label_predict,1)\n",
        "    n_samples += label.shape[0]\n",
        "    n_correct += (predict == label).sum().item()\n",
        "\n",
        "    # loss\n",
        "    l = loss_relu(label_predict, label)\n",
        "\n",
        "    # backward\n",
        "    optimizer_relu.zero_grad()\n",
        "    l.backward()\n",
        "\n",
        "    # Upate weights\n",
        "    optimizer_relu.step()\n",
        "\n",
        "    if (i+1)%100 == 0:\n",
        "      print(f\"epoch : {epoch+1}/{num_epochs} | step : {i+1}/{n_step} | loss : {l.item(): .4f}\")\n",
        "\n",
        "\n",
        "    # Store each epoch total loss\n",
        "    epoch_loss += l.item()\n",
        "\n",
        "\n",
        "    # Store each epoch total loss into empty list\n",
        "  relu_loss.append(epoch_loss)\n",
        "\n",
        "  # Accuracy calculation\n",
        "  acc = 100.0*(n_correct/n_samples)\n",
        "  relu_acc.append(acc)\n",
        "  \n",
        "\n",
        "\n",
        "print(relu_loss)\n",
        "\n",
        "print(relu_acc)"
      ],
      "metadata": {
        "colab": {
          "base_uri": "https://localhost:8080/"
        },
        "outputId": "88448b31-c773-4eaf-96d2-f20d9e7c3e0c",
        "id": "BDSfVKFj3ov5"
      },
      "execution_count": null,
      "outputs": [
        {
          "output_type": "stream",
          "name": "stdout",
          "text": [
            "epoch : 1/5 | step : 100/500 | loss :  2.3009\n",
            "epoch : 1/5 | step : 200/500 | loss :  2.3033\n",
            "epoch : 1/5 | step : 300/500 | loss :  2.3042\n",
            "epoch : 1/5 | step : 400/500 | loss :  2.3025\n",
            "epoch : 1/5 | step : 500/500 | loss :  2.2931\n",
            "epoch : 2/5 | step : 100/500 | loss :  2.3002\n",
            "epoch : 2/5 | step : 200/500 | loss :  2.2957\n",
            "epoch : 2/5 | step : 300/500 | loss :  2.2934\n",
            "epoch : 2/5 | step : 400/500 | loss :  2.2917\n",
            "epoch : 2/5 | step : 500/500 | loss :  2.2885\n",
            "epoch : 3/5 | step : 100/500 | loss :  2.2956\n",
            "epoch : 3/5 | step : 200/500 | loss :  2.2987\n",
            "epoch : 3/5 | step : 300/500 | loss :  2.2946\n",
            "epoch : 3/5 | step : 400/500 | loss :  2.2833\n",
            "epoch : 3/5 | step : 500/500 | loss :  2.2863\n",
            "epoch : 4/5 | step : 100/500 | loss :  2.2733\n",
            "epoch : 4/5 | step : 200/500 | loss :  2.2781\n",
            "epoch : 4/5 | step : 300/500 | loss :  2.2841\n",
            "epoch : 4/5 | step : 400/500 | loss :  2.2923\n",
            "epoch : 4/5 | step : 500/500 | loss :  2.2760\n",
            "epoch : 5/5 | step : 100/500 | loss :  2.2681\n",
            "epoch : 5/5 | step : 200/500 | loss :  2.2687\n",
            "epoch : 5/5 | step : 300/500 | loss :  2.2614\n",
            "epoch : 5/5 | step : 400/500 | loss :  2.2563\n",
            "epoch : 5/5 | step : 500/500 | loss :  2.2530\n",
            "[1151.6167206764221, 1148.6329264640808, 1145.5035738945007, 1141.834571838379, 1137.2026715278625]\n",
            "[9.592, 10.14, 11.08, 13.772, 15.728]\n"
          ]
        }
      ]
    },
    {
      "cell_type": "markdown",
      "source": [
        "### Accuracy Calculation on test dataset"
      ],
      "metadata": {
        "id": "je0L07RA4XGk"
      }
    },
    {
      "cell_type": "code",
      "source": [
        "with torch.no_grad():\n",
        "  n_correct = 0\n",
        "  n_samples = 0\n",
        "\n",
        "  for image, label in test_loader:\n",
        "    image = image.to(device)\n",
        "    label = label.to(device)\n",
        "\n",
        "    output = relu_model_vanish(image)\n",
        "\n",
        "    # value, index\n",
        "    _, predictions = torch.max(output, 1)\n",
        "    n_samples += label.shape[0]\n",
        "    n_correct += (predictions == label).sum().item()\n",
        "\n",
        "\n",
        "  acc = 100.0 * (n_correct/n_samples)\n",
        "\n",
        "print(\"Accuracy of Relu : \",acc)"
      ],
      "metadata": {
        "colab": {
          "base_uri": "https://localhost:8080/"
        },
        "outputId": "f4b8becc-a1dc-4fbe-c415-e4096cf78f48",
        "id": "9m80_1A44XGl"
      },
      "execution_count": null,
      "outputs": [
        {
          "output_type": "stream",
          "name": "stdout",
          "text": [
            "Accuracy of Relu :  16.509999999999998\n"
          ]
        }
      ]
    },
    {
      "cell_type": "markdown",
      "source": [
        "### Plot Graph"
      ],
      "metadata": {
        "id": "THekKhgC4kL6"
      }
    },
    {
      "cell_type": "code",
      "source": [
        "# Convert list to numpy array\n",
        "x = np.array(relu_loss)\n",
        "y = np.array(relu_acc)\n",
        "z = np.array(relu_epoch)\n",
        "# chart show\n",
        "\n",
        "# set chart Size\n",
        "fig = plt.figure()  \n",
        "  \n",
        "fig.set_figheight(5)  \n",
        "fig.set_figwidth(10)  \n",
        "\n",
        "#plot 1: Loss vs Accuracy\n",
        "plt.title(\"Loss vs Accuracy\")\n",
        "plt.xlabel(\"Loss\")\n",
        "plt.ylabel(\"Accuracy\")\n",
        "# plt.subplot(1, 4, 1)\n",
        "plt.plot(x,y)\n",
        "plt.show()"
      ],
      "metadata": {
        "colab": {
          "base_uri": "https://localhost:8080/"
        },
        "outputId": "689ca8e6-c6da-4aa9-b950-cb0a5584659f",
        "id": "2NIakU4Z4kL7"
      },
      "execution_count": null,
      "outputs": [
        {
          "output_type": "display_data",
          "data": {
            "text/plain": [
              "<Figure size 720x360 with 1 Axes>"
            ],
            "image/png": "[encoded data removed]"
          },
          "metadata": {
            "needs_background": "light"
          }
        }
      ]
    },
    {
      "cell_type": "code",
      "source": [
        "#plot 2: Accuracy vs Epoch\n",
        "\n",
        "fig = plt.figure()  \n",
        "  \n",
        "fig.set_figheight(5)  \n",
        "fig.set_figwidth(10) \n",
        "\n",
        "\n",
        "plt.title(\"Accuracy vs Epoch\")\n",
        "plt.xlabel(\"Accuracy\")\n",
        "plt.ylabel(\"Epoch\")\n",
        "# plt.subplot(1, 4, 2)\n",
        "plt.plot(y,z)\n",
        "plt.show()"
      ],
      "metadata": {
        "colab": {
          "base_uri": "https://localhost:8080/"
        },
        "outputId": "775e4a89-1a49-45b9-de66-bb68973034c1",
        "id": "Dq7brnRI4kL7"
      },
      "execution_count": null,
      "outputs": [
        {
          "output_type": "display_data",
          "data": {
            "text/plain": [
              "<Figure size 720x360 with 1 Axes>"
            ],
            "image/png": "[encoded data removed]"
          },
          "metadata": {
            "needs_background": "light"
          }
        }
      ]
    },
    {
      "cell_type": "code",
      "source": [
        "#plot 3: Loss vs Epoch\n",
        "\n",
        "fig = plt.figure()  \n",
        "  \n",
        "fig.set_figheight(5)  \n",
        "fig.set_figwidth(10) \n",
        "\n",
        "\n",
        "plt.title(\"Loss vs Epoch\")\n",
        "plt.xlabel(\"Loss\")\n",
        "plt.ylabel(\"Epoch\")\n",
        "# plt.subplot(1, 4, 3)\n",
        "plt.plot(x,z)\n",
        "\n",
        "plt.show()"
      ],
      "metadata": {
        "colab": {
          "base_uri": "https://localhost:8080/"
        },
        "outputId": "92f5f7ce-13de-4925-9707-5da9a469ec59",
        "id": "38B6jnz24kL8"
      },
      "execution_count": null,
      "outputs": [
        {
          "output_type": "display_data",
          "data": {
            "text/plain": [
              "<Figure size 720x360 with 1 Axes>"
            ],
            "image/png": "[encoded data removed]"
          },
          "metadata": {
            "needs_background": "light"
          }
        }
      ]
    },
    {
      "cell_type": "markdown",
      "source": [
        "## We can also remove vanishing gradient problem by using Adam Optimizer instead of SGD"
      ],
      "metadata": {
        "id": "z92OJRuPCHuP"
      }
    },
    {
      "cell_type": "markdown",
      "source": [
        "### Create Neural Network with Sigmoid function"
      ],
      "metadata": {
        "id": "xc4mntuOCHuP"
      }
    },
    {
      "cell_type": "code",
      "source": [
        "class NeuralNetSigmoidVanish(nn.Module):\n",
        "  def __init__(self, input_size, hidden_size1, hidden_size2, hidden_size3, output_size):\n",
        "    super(NeuralNetSigmoidVanish, self).__init__()\n",
        "    self.l1 = nn.Linear(input_size, hidden_size1)\n",
        "    self.sigmoid = nn.Sigmoid()\n",
        "    self.l2 = nn.Linear(hidden_size1, hidden_size2)\n",
        "    self.l3 = nn.Linear(hidden_size2, hidden_size3)\n",
        "    self.l4 = nn.Linear(hidden_size3, output_size)\n",
        "\n",
        "\n",
        "  def forward(self, x):\n",
        "    x = x.view(-1, 32*32*3)\n",
        "    out = self.l1(x)\n",
        "    out = self.sigmoid(out)\n",
        "    out = self.l2(out)\n",
        "    out = self.sigmoid(out)\n",
        "    out = self.l3(out)\n",
        "    out = self.sigmoid(out)\n",
        "    out = self.l4(out)\n",
        "\n",
        "    return out\n",
        "\n",
        "\n",
        "sigmoid_model_vanish = NeuralNetSigmoidVanish(input_size=input_size, hidden_size1=hidden_size1, hidden_size2=hidden_size2, hidden_size3=hidden_size3, output_size=output_size)\n",
        "sigmoid_model_vanish\n",
        "# print(sigmoid_model.state_dict())"
      ],
      "metadata": {
        "colab": {
          "base_uri": "https://localhost:8080/"
        },
        "outputId": "7e4cb29e-45a9-4daf-ae58-7010dfc70005",
        "id": "SbW08E6ECHuQ"
      },
      "execution_count": null,
      "outputs": [
        {
          "output_type": "execute_result",
          "data": {
            "text/plain": [
              "NeuralNetSigmoidVanish(\n",
              "  (l1): Linear(in_features=3072, out_features=100, bias=True)\n",
              "  (sigmoid): Sigmoid()\n",
              "  (l2): Linear(in_features=100, out_features=100, bias=True)\n",
              "  (l3): Linear(in_features=100, out_features=100, bias=True)\n",
              "  (l4): Linear(in_features=100, out_features=10, bias=True)\n",
              ")"
            ]
          },
          "metadata": {},
          "execution_count": 47
        }
      ]
    },
    {
      "cell_type": "markdown",
      "source": [
        "### Loss function for sigmoid"
      ],
      "metadata": {
        "id": "ioe0XSJYCHuR"
      }
    },
    {
      "cell_type": "code",
      "source": [
        "loss_sigmoid = nn.CrossEntropyLoss()\n",
        "loss_sigmoid"
      ],
      "metadata": {
        "colab": {
          "base_uri": "https://localhost:8080/"
        },
        "outputId": "017d2e9b-e908-4b21-91b6-4ca91a0a18fa",
        "id": "B6qLRiJLCHuR"
      },
      "execution_count": null,
      "outputs": [
        {
          "output_type": "execute_result",
          "data": {
            "text/plain": [
              "CrossEntropyLoss()"
            ]
          },
          "metadata": {},
          "execution_count": 48
        }
      ]
    },
    {
      "cell_type": "markdown",
      "source": [
        "### Optimizer function for sigmoid"
      ],
      "metadata": {
        "id": "h674NTZRCHuS"
      }
    },
    {
      "cell_type": "code",
      "source": [
        "optimizer_sigmoid = torch.optim.Adam(sigmoid_model_vanish.parameters(), lr=lr)\n",
        "optimizer_sigmoid"
      ],
      "metadata": {
        "colab": {
          "base_uri": "https://localhost:8080/"
        },
        "outputId": "06057c78-9900-46f2-bef2-1cd03b1efd78",
        "id": "rM4OLc3pCHuS"
      },
      "execution_count": null,
      "outputs": [
        {
          "output_type": "execute_result",
          "data": {
            "text/plain": [
              "Adam (\n",
              "Parameter Group 0\n",
              "    amsgrad: False\n",
              "    betas: (0.9, 0.999)\n",
              "    capturable: False\n",
              "    differentiable: False\n",
              "    eps: 1e-08\n",
              "    foreach: None\n",
              "    fused: False\n",
              "    lr: 0.001\n",
              "    maximize: False\n",
              "    weight_decay: 0\n",
              ")"
            ]
          },
          "metadata": {},
          "execution_count": 49
        }
      ]
    },
    {
      "cell_type": "markdown",
      "source": [
        "### Training Loop for sigmoid function"
      ],
      "metadata": {
        "id": "2AnCuBgDCHuT"
      }
    },
    {
      "cell_type": "code",
      "source": [
        "n_step = len(train_loader)\n",
        "sig_loss = []\n",
        "sig_acc = []\n",
        "sig_epoch = []\n",
        "\n",
        "for epoch in range(num_epochs):\n",
        "  sig_epoch.append(epoch+1)\n",
        "\n",
        "  epoch_loss = 0.0\n",
        "  epoch_acc = 0\n",
        "\n",
        "  n_correct = 0 # number of correct prediction\n",
        "  n_samples = 0 # number of total sample\n",
        "\n",
        "  for i ,(image, label) in enumerate(train_loader):\n",
        "    \n",
        "    # image = image.reshape(-1,1024).to(device)\n",
        "    image = image.to(device)\n",
        "    label = label.to(device)\n",
        "\n",
        "    # Forward pass\n",
        "    label_predict = sigmoid_model_vanish(image)\n",
        "\n",
        "\n",
        "    # Tracking correct predictions\n",
        "    _, predict = torch.max(label_predict,1)\n",
        "    n_samples += label.shape[0]\n",
        "    n_correct += (predict == label).sum().item()\n",
        "\n",
        "    # loss\n",
        "    l = loss_sigmoid(label_predict, label)\n",
        "\n",
        "    # backward\n",
        "    optimizer_sigmoid.zero_grad()\n",
        "    l.backward()\n",
        "\n",
        "    # Upate weights\n",
        "    optimizer_sigmoid.step()\n",
        "\n",
        "    if (i+1)%100 == 0:\n",
        "      print(f\"epoch : {epoch+1}/{num_epochs} | step : {i+1}/{n_step} | loss : {l.item(): .4f}\")\n",
        "\n",
        "\n",
        "    # Store each epoch total loss\n",
        "    epoch_loss += l.item()\n",
        "\n",
        "\n",
        "    # Store each epoch total loss into empty list\n",
        "  sig_loss.append(epoch_loss)\n",
        "\n",
        "  # Accuracy calculation\n",
        "  acc = 100.0*(n_correct/n_samples)\n",
        "  sig_acc.append(acc)\n",
        "  \n",
        "\n",
        "\n",
        "print(sig_loss)\n",
        "\n",
        "print(sig_acc)"
      ],
      "metadata": {
        "colab": {
          "base_uri": "https://localhost:8080/"
        },
        "outputId": "52ba359d-339f-44f0-8d2a-fc5a0f451c7f",
        "id": "YbI8f87dCHuT"
      },
      "execution_count": null,
      "outputs": [
        {
          "output_type": "stream",
          "name": "stdout",
          "text": [
            "epoch : 1/5 | step : 100/500 | loss :  2.0314\n",
            "epoch : 1/5 | step : 200/500 | loss :  1.9164\n",
            "epoch : 1/5 | step : 300/500 | loss :  1.8963\n",
            "epoch : 1/5 | step : 400/500 | loss :  1.9118\n",
            "epoch : 1/5 | step : 500/500 | loss :  1.7524\n",
            "epoch : 2/5 | step : 100/500 | loss :  1.8860\n",
            "epoch : 2/5 | step : 200/500 | loss :  1.6935\n",
            "epoch : 2/5 | step : 300/500 | loss :  1.6815\n",
            "epoch : 2/5 | step : 400/500 | loss :  1.8151\n",
            "epoch : 2/5 | step : 500/500 | loss :  1.5361\n",
            "epoch : 3/5 | step : 100/500 | loss :  1.7547\n",
            "epoch : 3/5 | step : 200/500 | loss :  1.7270\n",
            "epoch : 3/5 | step : 300/500 | loss :  1.5735\n",
            "epoch : 3/5 | step : 400/500 | loss :  1.5365\n",
            "epoch : 3/5 | step : 500/500 | loss :  1.7187\n",
            "epoch : 4/5 | step : 100/500 | loss :  1.5898\n",
            "epoch : 4/5 | step : 200/500 | loss :  1.5667\n",
            "epoch : 4/5 | step : 300/500 | loss :  1.6716\n",
            "epoch : 4/5 | step : 400/500 | loss :  1.6341\n",
            "epoch : 4/5 | step : 500/500 | loss :  1.3959\n",
            "epoch : 5/5 | step : 100/500 | loss :  1.6125\n",
            "epoch : 5/5 | step : 200/500 | loss :  1.5503\n",
            "epoch : 5/5 | step : 300/500 | loss :  1.5166\n",
            "epoch : 5/5 | step : 400/500 | loss :  1.5057\n",
            "epoch : 5/5 | step : 500/500 | loss :  1.5719\n",
            "[984.8093013763428, 876.2628412246704, 827.297550201416, 790.469886302948, 762.625034570694]\n",
            "[26.892, 36.57, 40.276, 43.336000000000006, 45.192]\n"
          ]
        }
      ]
    },
    {
      "cell_type": "markdown",
      "source": [
        "### Accuracy Calculation on test dataset"
      ],
      "metadata": {
        "id": "PXiJUDJfCHuU"
      }
    },
    {
      "cell_type": "code",
      "source": [
        "with torch.no_grad():\n",
        "  n_correct = 0\n",
        "  n_samples = 0\n",
        "\n",
        "  for image, label in test_loader:\n",
        "    image = image.to(device)\n",
        "    label = label.to(device)\n",
        "\n",
        "    output = sigmoid_model(image)\n",
        "\n",
        "    # value, index\n",
        "    _, predictions = torch.max(output, 1)\n",
        "    n_samples += label.shape[0]\n",
        "    n_correct += (predictions == label).sum().item()\n",
        "\n",
        "\n",
        "  acc = 100.0 * (n_correct/n_samples)\n",
        "\n",
        "print(\"Accuracy of Sigmoid : \",acc)"
      ],
      "metadata": {
        "colab": {
          "base_uri": "https://localhost:8080/"
        },
        "outputId": "1369e6bf-e438-42a9-cab0-673047da916f",
        "id": "TBk3Oi1SCHuU"
      },
      "execution_count": null,
      "outputs": [
        {
          "output_type": "stream",
          "name": "stdout",
          "text": [
            "Accuracy of Sigmoid :  26.700000000000003\n"
          ]
        }
      ]
    },
    {
      "cell_type": "markdown",
      "source": [
        "### Plot Graph"
      ],
      "metadata": {
        "id": "EzDKIoqfCHuV"
      }
    },
    {
      "cell_type": "code",
      "source": [
        "# Convert list to numpy array\n",
        "x = np.array(sig_loss)\n",
        "y = np.array(sig_acc)\n",
        "z = np.array(sig_epoch)\n",
        "# chart show\n",
        "\n",
        "# set chart Size\n",
        "fig = plt.figure()  \n",
        "  \n",
        "fig.set_figheight(5)  \n",
        "fig.set_figwidth(10)  \n",
        "\n",
        "#plot 1: Loss vs Accuracy\n",
        "plt.title(\"Loss vs Accuracy\")\n",
        "plt.xlabel(\"Loss\")\n",
        "plt.ylabel(\"Accuracy\")\n",
        "# plt.subplot(1, 4, 1)\n",
        "plt.plot(x,y)\n",
        "plt.show()"
      ],
      "metadata": {
        "colab": {
          "base_uri": "https://localhost:8080/"
        },
        "outputId": "dd46ce1c-ed86-4d6f-c9e0-3984b7f92208",
        "id": "EpsnT2DKCHuV"
      },
      "execution_count": null,
      "outputs": [
        {
          "output_type": "display_data",
          "data": {
            "text/plain": [
              "<Figure size 720x360 with 1 Axes>"
            ],
            "image/png": "[encoded data removed]"
          },
          "metadata": {
            "needs_background": "light"
          }
        }
      ]
    },
    {
      "cell_type": "code",
      "source": [
        "#plot 2: Accuracy vs Epoch\n",
        "\n",
        "fig = plt.figure()  \n",
        "  \n",
        "fig.set_figheight(5)  \n",
        "fig.set_figwidth(10) \n",
        "\n",
        "\n",
        "plt.title(\"Accuracy vs Epoch\")\n",
        "plt.xlabel(\"Accuracy\")\n",
        "plt.ylabel(\"Epoch\")\n",
        "# plt.subplot(1, 4, 2)\n",
        "plt.plot(y,z)\n",
        "plt.show()"
      ],
      "metadata": {
        "colab": {
          "base_uri": "https://localhost:8080/"
        },
        "outputId": "8fccf27e-93e1-4015-ab12-0e1689b6f270",
        "id": "gauqM5RsCHuW"
      },
      "execution_count": null,
      "outputs": [
        {
          "output_type": "display_data",
          "data": {
            "text/plain": [
              "<Figure size 720x360 with 1 Axes>"
            ],
            "image/png": "[encoded data removed]"
          },
          "metadata": {
            "needs_background": "light"
          }
        }
      ]
    },
    {
      "cell_type": "code",
      "source": [
        "#plot 3: Loss vs Epoch\n",
        "\n",
        "fig = plt.figure()  \n",
        "  \n",
        "fig.set_figheight(5)  \n",
        "fig.set_figwidth(10) \n",
        "\n",
        "\n",
        "plt.title(\"Loss vs Epoch\")\n",
        "plt.xlabel(\"Loss\")\n",
        "plt.ylabel(\"Epoch\")\n",
        "# plt.subplot(1, 4, 3)\n",
        "plt.plot(x,z)\n",
        "\n",
        "plt.show()"
      ],
      "metadata": {
        "colab": {
          "base_uri": "https://localhost:8080/"
        },
        "outputId": "bf2d2a06-95db-4bd1-d8b0-93ab43f6ab4a",
        "id": "zodvxCMDCHuW"
      },
      "execution_count": null,
      "outputs": [
        {
          "output_type": "display_data",
          "data": {
            "text/plain": [
              "<Figure size 720x360 with 1 Axes>"
            ],
            "image/png": "[encoded data removed]"
          },
          "metadata": {
            "needs_background": "light"
          }
        }
      ]
    }
  ]
}