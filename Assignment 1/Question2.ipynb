{
  "nbformat": 4,
  "nbformat_minor": 0,
  "metadata": {
    "colab": {
      "provenance": []
    },
    "kernelspec": {
      "name": "python3",
      "display_name": "Python 3"
    },
    "language_info": {
      "name": "python"
    }
  },
  "cells": [
    {
      "cell_type": "markdown",
      "source": [
        "### Mount Drive"
      ],
      "metadata": {
        "id": "7LpmSJ4yRWPA"
      }
    },
    {
      "cell_type": "code",
      "execution_count": null,
      "metadata": {
        "colab": {
          "base_uri": "https://localhost:8080/"
        },
        "id": "hwyVgvjDE1On",
        "outputId": "b83750c0-6579-49f7-c6dd-eae4f9de3510"
      },
      "outputs": [
        {
          "output_type": "stream",
          "name": "stdout",
          "text": [
            "Mounted at /content/gdrive\n"
          ]
        }
      ],
      "source": [
        "from google.colab import drive\n",
        "drive.mount('/content/gdrive')"
      ]
    },
    {
      "cell_type": "markdown",
      "source": [
        "### Path of dataset"
      ],
      "metadata": {
        "id": "78dD8NncRe-m"
      }
    },
    {
      "cell_type": "code",
      "source": [
        "train_data_path = '/content/gdrive/MyDrive/Dataset/Gurumukhi/train/'\n",
        "val_data_path = '/content/gdrive/MyDrive/Dataset/Gurumukhi/val/'"
      ],
      "metadata": {
        "id": "id735nzURebr"
      },
      "execution_count": null,
      "outputs": []
    },
    {
      "cell_type": "markdown",
      "source": [
        "### Import Required Library"
      ],
      "metadata": {
        "id": "JnwW9c-dScOc"
      }
    },
    {
      "cell_type": "code",
      "source": [
        "import torch\n",
        "import torch.nn as nn\n",
        "import torchvision\n",
        "import torchvision.transforms as transforms\n",
        "import torchvision.datasets as dataset\n",
        "# import torch.utils.data.DataLoader as DataLoader\n",
        "import matplotlib.pyplot as plt"
      ],
      "metadata": {
        "id": "gbXkmlb2Rulj"
      },
      "execution_count": null,
      "outputs": []
    },
    {
      "cell_type": "markdown",
      "source": [
        "### Device Config"
      ],
      "metadata": {
        "id": "JUnQJWXzXhbp"
      }
    },
    {
      "cell_type": "code",
      "source": [
        "# device config\n",
        "device = (\"cuda\" if torch.cuda.is_available() else \"cpu\")\n",
        "# print(device)"
      ],
      "metadata": {
        "id": "My5CrOOBWe5U"
      },
      "execution_count": null,
      "outputs": []
    },
    {
      "cell_type": "markdown",
      "source": [
        "### Hyperparameters Define"
      ],
      "metadata": {
        "id": "8RjQ4tf6Y4FQ"
      }
    },
    {
      "cell_type": "code",
      "source": [
        "# Hyper parameters define\n",
        "batch_size = 100\n",
        "input_size = 3*32*32 # Image pixel value 3*32*32\n",
        "hidden_size = 100\n",
        "output_size = 10 # Number of classes of an images\n",
        "learning_rate = 0.01\n",
        "tuner = 0.2 # Used for Regularization\n",
        "num_epoch = 10"
      ],
      "metadata": {
        "id": "CYEXpYAuY7hJ"
      },
      "execution_count": null,
      "outputs": []
    },
    {
      "cell_type": "markdown",
      "source": [
        "### Composed Transform"
      ],
      "metadata": {
        "id": "iXGKJFgsX0r8"
      }
    },
    {
      "cell_type": "code",
      "source": [
        "# transform = transforms.Compose(\n",
        "#     [transforms.ToTensor(),\n",
        "#      transforms.Normalize((0.5, 0.5, 0.5), (0.5, 0.5, 0.5))])\n",
        "\n",
        "transform = transforms.Compose([\n",
        "                    # transforms.CenterCrop(224),\n",
        "                    transforms.ToTensor()])"
      ],
      "metadata": {
        "id": "JigpWyVjXtb1"
      },
      "execution_count": null,
      "outputs": []
    },
    {
      "cell_type": "markdown",
      "source": [
        "### Dataset and Dataloader"
      ],
      "metadata": {
        "id": "UYwupZ0-X6BY"
      }
    },
    {
      "cell_type": "code",
      "source": [
        "from torch.utils.data import DataLoader\n",
        "train_dataset = torchvision.datasets.ImageFolder(root=train_data_path, transform=transform)\n",
        "train_loader = DataLoader(dataset=train_dataset, batch_size=batch_size)\n",
        "\n",
        "val_dataset = torchvision.datasets.ImageFolder(root=val_data_path, transform=transform)\n",
        "val_loader = DataLoader(dataset=val_dataset, batch_size=batch_size)"
      ],
      "metadata": {
        "id": "3iewZ6g_X5Zd"
      },
      "execution_count": null,
      "outputs": []
    },
    {
      "cell_type": "markdown",
      "source": [
        "## Verify Dataloading"
      ],
      "metadata": {
        "id": "3XYd_XGZbv-K"
      }
    },
    {
      "cell_type": "code",
      "source": [
        "example = iter(train_loader)\n",
        "sample, label = next(example)\n",
        "print(example)\n",
        "print(sample.shape, label.shape)\n",
        "\n",
        "for i in range(6):\n",
        "  plt.subplot(2, 3, i+1)\n",
        "  plt.imshow(sample[i][0])\n",
        "  print(label[i])\n",
        "\n",
        "plt.show()\n",
        "\n",
        "\n",
        "\n",
        "# def imshow(img):\n",
        "#     img = img / 2 + 0.5  # unnormalize\n",
        "#     plt.imshow(np.transpose(img, (1, 2, 0)))  # convert from Tensor image\n",
        "    \n",
        "    \n",
        "# dataiter = train_loader.__iter__()\n",
        "# images, labels = dataiter.__next__()\n",
        "# images = images.numpy() # convert images to numpy for display# plot the images in the batch, along with the corresponding labels\n",
        "# fig = plt.figure(figsize=(25, 4))\n",
        "# # display 20 images\n",
        "# for idx in np.arange(2):\n",
        "#     ax = fig.add_subplot(2, 20/2, idx+1, xticks=[], yticks=[])\n",
        "#     imshow(images[idx])\n",
        "\n",
        "\n",
        "# for images, labels in train_loader:\n",
        "#     # do something with images and labels\n",
        "#     #print(f\"Index:, Image shape: {images.shape}, Label shape: {labels.shape}\")\n",
        "#     plt.imshow(images[0])\n",
        "#     break\n",
        "\n",
        "#print(type(train_loader))\n"
      ],
      "metadata": {
        "colab": {
          "base_uri": "https://localhost:8080/",
          "height": 406
        },
        "id": "ue2728yRZd2P",
        "outputId": "deaa7cee-6ca6-4349-ccae-bf255459113f"
      },
      "execution_count": null,
      "outputs": [
        {
          "output_type": "stream",
          "name": "stdout",
          "text": [
            "<torch.utils.data.dataloader._SingleProcessDataLoaderIter object at 0x7fbcfb1ab0d0>\n",
            "torch.Size([100, 3, 32, 32]) torch.Size([100])\n",
            "tensor(0)\n",
            "tensor(0)\n",
            "tensor(0)\n",
            "tensor(0)\n",
            "tensor(0)\n",
            "tensor(0)\n"
          ]
        },
        {
          "output_type": "display_data",
          "data": {
            "text/plain": [
              "<Figure size 432x288 with 6 Axes>"
            ],
            "image/png": "[encoded data removed]"
          },
          "metadata": {
            "needs_background": "light"
          }
        }
      ]
    },
    {
      "cell_type": "markdown",
      "source": [
        "### Loss function"
      ],
      "metadata": {
        "id": "rq5_1FY-D8xZ"
      }
    },
    {
      "cell_type": "code",
      "source": [
        "loss = nn.CrossEntropyLoss()\n",
        "loss"
      ],
      "metadata": {
        "colab": {
          "base_uri": "https://localhost:8080/"
        },
        "id": "huqonWMfzdAV",
        "outputId": "39ec9a7f-add8-4fdc-eb4c-46bd6b5f703d"
      },
      "execution_count": null,
      "outputs": [
        {
          "output_type": "execute_result",
          "data": {
            "text/plain": [
              "CrossEntropyLoss()"
            ]
          },
          "metadata": {},
          "execution_count": 37
        }
      ]
    },
    {
      "cell_type": "code",
      "source": [
        "\n",
        "class NeuralNet(nn.Module):\n",
        "    def __init__(self, input_size, hidden_size, output_size):\n",
        "        super(NeuralNet, self).__init__()\n",
        "        self.l1 = nn.Linear(input_size, hidden_size)\n",
        "        self.relu = nn.ReLU()\n",
        "        self.l2 = nn.Linear(hidden_size, output_size)\n",
        "\n",
        "\n",
        "    def forward(self, x):\n",
        "        x = x.view(-1, 3*32*32)\n",
        "        # print(x.shape)\n",
        "        hidd = self.l1(x)\n",
        "        hidd = self.relu(hidd)\n",
        "        out = self.l2(hidd)\n",
        "        return out\n",
        "\n",
        "\n",
        "model = NeuralNet(input_size=input_size, hidden_size=hidden_size, output_size=output_size)"
      ],
      "metadata": {
        "id": "WS0Y_baKEJOg"
      },
      "execution_count": null,
      "outputs": []
    },
    {
      "cell_type": "code",
      "source": [
        "w1 = model.l1.weight\n",
        "w2 = model.l2.weight\n",
        "\n",
        "# Loss Function\n",
        "loss = nn.CrossEntropyLoss()"
      ],
      "metadata": {
        "id": "Z3suQKoQLqP6"
      },
      "execution_count": null,
      "outputs": []
    },
    {
      "cell_type": "code",
      "source": [
        "def l1_reg():\n",
        "  reg_loss = 0\n",
        "  for param in model.parameters():\n",
        "    reg_loss += torch.sum(torch.abs(param))\n",
        "\n",
        "  return reg_loss"
      ],
      "metadata": {
        "id": "Cs3sBqKSpwyn"
      },
      "execution_count": null,
      "outputs": []
    },
    {
      "cell_type": "code",
      "source": [
        "def l2_reg():\n",
        "  reg_loss = 0\n",
        "  for param in model.parameters():\n",
        "    reg_loss += torch.sum(param**2)\n",
        "\n",
        "  return reg_loss"
      ],
      "metadata": {
        "id": "XcNtTXkoqMji"
      },
      "execution_count": null,
      "outputs": []
    },
    {
      "cell_type": "markdown",
      "source": [
        "## For L1 Regularaization"
      ],
      "metadata": {
        "id": "qNd9WH_Vqo6Z"
      }
    },
    {
      "cell_type": "code",
      "source": [
        "# # train loop\n",
        "n_step = len(train_loader)\n",
        "for epoch in range(num_epoch):\n",
        "    n_correct = 0\n",
        "    n_sample = 0\n",
        "\n",
        "    for i, (image,label) in enumerate(train_loader):\n",
        "        image = image.to(device)\n",
        "        label = label.to(device)\n",
        "\n",
        "        # Forward pass\n",
        "        predict = model(image)\n",
        "\n",
        "        # Loss\n",
        "        l = loss(predict, label)\n",
        "        \n",
        "        reg_loss = l1_reg()\n",
        "\n",
        "        l += tuner*reg_loss\n",
        "\n",
        "        _, out = torch.max(predict, 1)\n",
        "        n_sample += label.shape[0]\n",
        "        n_correct += (out == label).sum().item()\n",
        "\n",
        "        # Backward Pass\n",
        "        # back_propagation(image, hidd.to(device), label, predict.to(device))\n",
        "        l.backward()\n",
        "\n",
        "        # update weights\n",
        "        with torch.no_grad():\n",
        "            # print(w)\n",
        "            w1 -= learning_rate*w1.grad\n",
        "            w2 -= learning_rate*w2.grad\n",
        "        # zero gradients\n",
        "        w1.grad.zero_()\n",
        "        w2.grad.zero_()\n",
        "\n",
        "        # Print value\n",
        "        if epoch%1 == 0:\n",
        "            print(f'epoch : {epoch+1}, loss : {l: .3f}')\n",
        "\n",
        "    acc = 100*(n_correct/n_sample)\n",
        "\n",
        "    print(f\"epoch : {epoch} | accuracy : {acc}\")"
      ],
      "metadata": {
        "colab": {
          "base_uri": "https://localhost:8080/"
        },
        "id": "4OEezB0MpqEL",
        "outputId": "4fd1b33f-b7b0-4e90-9df8-20dff036bc9e"
      },
      "execution_count": null,
      "outputs": [
        {
          "output_type": "stream",
          "name": "stdout",
          "text": [
            "epoch : 1, loss :  566.648\n",
            "epoch : 1, loss :  457.086\n",
            "epoch : 1, loss :  362.026\n",
            "epoch : 1, loss :  279.862\n",
            "epoch : 1, loss :  210.970\n",
            "epoch : 1, loss :  155.820\n",
            "epoch : 1, loss :  114.617\n",
            "epoch : 1, loss :  86.327\n",
            "epoch : 1, loss :  72.361\n",
            "epoch : 1, loss :  71.145\n",
            "epoch : 0 | accuracy : 0.0\n",
            "epoch : 2, loss :  71.705\n",
            "epoch : 2, loss :  70.665\n",
            "epoch : 2, loss :  70.878\n",
            "epoch : 2, loss :  70.518\n",
            "epoch : 2, loss :  69.931\n",
            "epoch : 2, loss :  69.796\n",
            "epoch : 2, loss :  69.491\n",
            "epoch : 2, loss :  68.978\n",
            "epoch : 2, loss :  68.728\n",
            "epoch : 2, loss :  68.277\n",
            "epoch : 1 | accuracy : 0.0\n",
            "epoch : 3, loss :  68.307\n",
            "epoch : 3, loss :  67.592\n",
            "epoch : 3, loss :  67.645\n",
            "epoch : 3, loss :  67.296\n",
            "epoch : 3, loss :  67.238\n",
            "epoch : 3, loss :  66.833\n",
            "epoch : 3, loss :  66.805\n",
            "epoch : 3, loss :  66.436\n",
            "epoch : 3, loss :  66.322\n",
            "epoch : 3, loss :  66.019\n",
            "epoch : 2 | accuracy : 0.0\n",
            "epoch : 4, loss :  65.980\n",
            "epoch : 4, loss :  65.541\n",
            "epoch : 4, loss :  65.550\n",
            "epoch : 4, loss :  65.301\n",
            "epoch : 4, loss :  65.450\n",
            "epoch : 4, loss :  65.082\n",
            "epoch : 4, loss :  65.102\n",
            "epoch : 4, loss :  64.883\n",
            "epoch : 4, loss :  64.905\n",
            "epoch : 4, loss :  64.641\n",
            "epoch : 3 | accuracy : 0.0\n",
            "epoch : 5, loss :  64.671\n",
            "epoch : 5, loss :  64.366\n",
            "epoch : 5, loss :  64.478\n",
            "epoch : 5, loss :  64.283\n",
            "epoch : 5, loss :  64.521\n",
            "epoch : 5, loss :  64.240\n",
            "epoch : 5, loss :  64.351\n",
            "epoch : 5, loss :  64.232\n",
            "epoch : 5, loss :  64.360\n",
            "epoch : 5, loss :  64.162\n",
            "epoch : 4 | accuracy : 11.4\n",
            "epoch : 6, loss :  64.265\n",
            "epoch : 6, loss :  64.047\n",
            "epoch : 6, loss :  64.237\n",
            "epoch : 6, loss :  64.083\n",
            "epoch : 6, loss :  64.386\n",
            "epoch : 6, loss :  64.137\n",
            "epoch : 6, loss :  64.283\n",
            "epoch : 6, loss :  64.185\n",
            "epoch : 6, loss :  64.335\n",
            "epoch : 6, loss :  64.145\n",
            "epoch : 5 | accuracy : 10.0\n",
            "epoch : 7, loss :  64.259\n",
            "epoch : 7, loss :  64.042\n",
            "epoch : 7, loss :  64.237\n",
            "epoch : 7, loss :  64.082\n",
            "epoch : 7, loss :  64.386\n",
            "epoch : 7, loss :  64.137\n",
            "epoch : 7, loss :  64.283\n",
            "epoch : 7, loss :  64.186\n",
            "epoch : 7, loss :  64.333\n",
            "epoch : 7, loss :  64.145\n",
            "epoch : 6 | accuracy : 10.0\n",
            "epoch : 8, loss :  64.258\n",
            "epoch : 8, loss :  64.042\n",
            "epoch : 8, loss :  64.237\n",
            "epoch : 8, loss :  64.081\n",
            "epoch : 8, loss :  64.386\n",
            "epoch : 8, loss :  64.137\n",
            "epoch : 8, loss :  64.280\n",
            "epoch : 8, loss :  64.189\n",
            "epoch : 8, loss :  64.330\n",
            "epoch : 8, loss :  64.147\n",
            "epoch : 7 | accuracy : 10.0\n",
            "epoch : 9, loss :  64.257\n",
            "epoch : 9, loss :  64.046\n",
            "epoch : 9, loss :  64.233\n",
            "epoch : 9, loss :  64.086\n",
            "epoch : 9, loss :  64.382\n",
            "epoch : 9, loss :  64.143\n",
            "epoch : 9, loss :  64.273\n",
            "epoch : 9, loss :  64.197\n",
            "epoch : 9, loss :  64.323\n",
            "epoch : 9, loss :  64.154\n",
            "epoch : 8 | accuracy : 10.100000000000001\n",
            "epoch : 10, loss :  64.251\n",
            "epoch : 10, loss :  64.052\n",
            "epoch : 10, loss :  64.226\n",
            "epoch : 10, loss :  64.091\n",
            "epoch : 10, loss :  64.377\n",
            "epoch : 10, loss :  64.147\n",
            "epoch : 10, loss :  64.267\n",
            "epoch : 10, loss :  64.202\n",
            "epoch : 10, loss :  64.319\n",
            "epoch : 10, loss :  64.159\n",
            "epoch : 9 | accuracy : 11.200000000000001\n"
          ]
        }
      ]
    },
    {
      "cell_type": "markdown",
      "source": [
        "## L2 Regularization"
      ],
      "metadata": {
        "id": "ys-U-sfTq49y"
      }
    },
    {
      "cell_type": "code",
      "source": [
        "# # train loop\n",
        "n_step = len(train_loader)\n",
        "for epoch in range(num_epoch):\n",
        "    n_correct = 0\n",
        "    n_sample = 0\n",
        "\n",
        "    for i, (image,label) in enumerate(train_loader):\n",
        "        image = image.to(device)\n",
        "        label = label.to(device)\n",
        "\n",
        "        # Forward pass\n",
        "        predict = model(image)\n",
        "\n",
        "        # Loss\n",
        "        l = loss(predict, label)\n",
        "        \n",
        "        reg_loss = l2_reg()\n",
        "\n",
        "        l += tuner*reg_loss\n",
        "\n",
        "        _, out = torch.max(predict, 1)\n",
        "        n_sample += label.shape[0]\n",
        "        n_correct += (out == label).sum().item()\n",
        "\n",
        "        # Backward Pass\n",
        "        # back_propagation(image, hidd.to(device), label, predict.to(device))\n",
        "        l.backward()\n",
        "\n",
        "        # update weights\n",
        "        with torch.no_grad():\n",
        "            # print(w)\n",
        "            w1 -= learning_rate*w1.grad\n",
        "            w2 -= learning_rate*w2.grad\n",
        "        # zero gradients\n",
        "        w1.grad.zero_()\n",
        "        w2.grad.zero_()\n",
        "\n",
        "        # Print value\n",
        "        if epoch%1 == 0:\n",
        "            print(f'epoch : {epoch+1}, loss : {l: .3f}')\n",
        "\n",
        "    acc = 100*(n_correct/n_sample)\n",
        "\n",
        "    print(f\"epoch : {epoch} | accuracy : {acc}\")"
      ],
      "metadata": {
        "colab": {
          "base_uri": "https://localhost:8080/"
        },
        "id": "9039EDnwq6jd",
        "outputId": "54f66802-e791-47e2-8242-631ad25f0eb2"
      },
      "execution_count": null,
      "outputs": [
        {
          "output_type": "stream",
          "name": "stdout",
          "text": [
            "epoch : 1, loss :  2.347\n",
            "epoch : 1, loss :  2.327\n",
            "epoch : 1, loss :  2.324\n",
            "epoch : 1, loss :  2.363\n",
            "epoch : 1, loss :  2.472\n",
            "epoch : 1, loss :  2.418\n",
            "epoch : 1, loss :  2.365\n",
            "epoch : 1, loss :  2.468\n",
            "epoch : 1, loss :  2.416\n",
            "epoch : 1, loss :  2.426\n",
            "epoch : 0 | accuracy : 9.700000000000001\n",
            "epoch : 2, loss :  2.340\n",
            "epoch : 2, loss :  2.320\n",
            "epoch : 2, loss :  2.318\n",
            "epoch : 2, loss :  2.356\n",
            "epoch : 2, loss :  2.466\n",
            "epoch : 2, loss :  2.411\n",
            "epoch : 2, loss :  2.359\n",
            "epoch : 2, loss :  2.461\n",
            "epoch : 2, loss :  2.409\n",
            "epoch : 2, loss :  2.420\n",
            "epoch : 1 | accuracy : 10.0\n",
            "epoch : 3, loss :  2.333\n",
            "epoch : 3, loss :  2.314\n",
            "epoch : 3, loss :  2.312\n",
            "epoch : 3, loss :  2.351\n",
            "epoch : 3, loss :  2.460\n",
            "epoch : 3, loss :  2.406\n",
            "epoch : 3, loss :  2.353\n",
            "epoch : 3, loss :  2.455\n",
            "epoch : 3, loss :  2.404\n",
            "epoch : 3, loss :  2.414\n",
            "epoch : 2 | accuracy : 10.0\n",
            "epoch : 4, loss :  2.328\n",
            "epoch : 4, loss :  2.309\n",
            "epoch : 4, loss :  2.307\n",
            "epoch : 4, loss :  2.345\n",
            "epoch : 4, loss :  2.455\n",
            "epoch : 4, loss :  2.400\n",
            "epoch : 4, loss :  2.348\n",
            "epoch : 4, loss :  2.450\n",
            "epoch : 4, loss :  2.399\n",
            "epoch : 4, loss :  2.409\n",
            "epoch : 3 | accuracy : 10.0\n",
            "epoch : 5, loss :  2.323\n",
            "epoch : 5, loss :  2.304\n",
            "epoch : 5, loss :  2.302\n",
            "epoch : 5, loss :  2.341\n",
            "epoch : 5, loss :  2.450\n",
            "epoch : 5, loss :  2.395\n",
            "epoch : 5, loss :  2.343\n",
            "epoch : 5, loss :  2.445\n",
            "epoch : 5, loss :  2.394\n",
            "epoch : 5, loss :  2.404\n",
            "epoch : 4 | accuracy : 10.0\n",
            "epoch : 6, loss :  2.318\n",
            "epoch : 6, loss :  2.299\n",
            "epoch : 6, loss :  2.297\n",
            "epoch : 6, loss :  2.336\n",
            "epoch : 6, loss :  2.446\n",
            "epoch : 6, loss :  2.391\n",
            "epoch : 6, loss :  2.339\n",
            "epoch : 6, loss :  2.441\n",
            "epoch : 6, loss :  2.390\n",
            "epoch : 6, loss :  2.400\n",
            "epoch : 5 | accuracy : 10.0\n",
            "epoch : 7, loss :  2.314\n",
            "epoch : 7, loss :  2.295\n",
            "epoch : 7, loss :  2.293\n",
            "epoch : 7, loss :  2.332\n",
            "epoch : 7, loss :  2.442\n",
            "epoch : 7, loss :  2.387\n",
            "epoch : 7, loss :  2.335\n",
            "epoch : 7, loss :  2.437\n",
            "epoch : 7, loss :  2.386\n",
            "epoch : 7, loss :  2.396\n",
            "epoch : 6 | accuracy : 10.0\n",
            "epoch : 8, loss :  2.310\n",
            "epoch : 8, loss :  2.291\n",
            "epoch : 8, loss :  2.289\n",
            "epoch : 8, loss :  2.328\n",
            "epoch : 8, loss :  2.438\n",
            "epoch : 8, loss :  2.383\n",
            "epoch : 8, loss :  2.331\n",
            "epoch : 8, loss :  2.433\n",
            "epoch : 8, loss :  2.382\n",
            "epoch : 8, loss :  2.392\n",
            "epoch : 7 | accuracy : 10.0\n",
            "epoch : 9, loss :  2.306\n",
            "epoch : 9, loss :  2.287\n",
            "epoch : 9, loss :  2.286\n",
            "epoch : 9, loss :  2.324\n",
            "epoch : 9, loss :  2.434\n",
            "epoch : 9, loss :  2.379\n",
            "epoch : 9, loss :  2.328\n",
            "epoch : 9, loss :  2.430\n",
            "epoch : 9, loss :  2.379\n",
            "epoch : 9, loss :  2.389\n",
            "epoch : 8 | accuracy : 10.0\n",
            "epoch : 10, loss :  2.302\n",
            "epoch : 10, loss :  2.284\n",
            "epoch : 10, loss :  2.283\n",
            "epoch : 10, loss :  2.321\n",
            "epoch : 10, loss :  2.431\n",
            "epoch : 10, loss :  2.376\n",
            "epoch : 10, loss :  2.324\n",
            "epoch : 10, loss :  2.426\n",
            "epoch : 10, loss :  2.375\n",
            "epoch : 10, loss :  2.386\n",
            "epoch : 9 | accuracy : 9.9\n"
          ]
        }
      ]
    },
    {
      "cell_type": "markdown",
      "source": [
        "## Drop Out"
      ],
      "metadata": {
        "id": "Kj_TNeeSsnP6"
      }
    },
    {
      "cell_type": "code",
      "source": [
        "class NeuralNet(nn.Module):\n",
        "    def __init__(self, input_size, hidden_size, output_size):\n",
        "        super(NeuralNet, self).__init__()\n",
        "        self.l1 = nn.Linear(input_size, hidden_size)\n",
        "        self.relu = nn.ReLU()\n",
        "        self.l2 = nn.Linear(hidden_size, output_size)\n",
        "        self.dropout_rate = 0.5\n",
        "\n",
        "\n",
        "    def forward(self, x):\n",
        "        x = x.view(-1, 3*32*32)\n",
        "        # print(x.shape)\n",
        "        out = self.l1(x)\n",
        "        out = self.relu(out)\n",
        "        out = nn.Dropout(self.dropout_rate)(out)\n",
        "        out = self.l2(out)\n",
        "        return out\n",
        "\n",
        "\n",
        "model = NeuralNet(input_size=input_size, hidden_size=hidden_size, output_size=output_size)"
      ],
      "metadata": {
        "id": "iEK_g1HztWs3"
      },
      "execution_count": null,
      "outputs": []
    },
    {
      "cell_type": "code",
      "source": [
        "# # train loop\n",
        "n_step = len(train_loader)\n",
        "for epoch in range(num_epoch):\n",
        "    n_correct = 0\n",
        "    n_sample = 0\n",
        "\n",
        "    for i, (image,label) in enumerate(train_loader):\n",
        "        image = image.to(device)\n",
        "        label = label.to(device)\n",
        "\n",
        "        # Forward pass\n",
        "        predict = model(image)\n",
        "\n",
        "        # Loss\n",
        "        l = loss(predict, label)\n",
        "\n",
        "        _, out = torch.max(predict, 1)\n",
        "        n_sample += label.shape[0]\n",
        "        n_correct += (out == label).sum().item()\n",
        "\n",
        "        # Backward Pass\n",
        "        # back_propagation(image, hidd.to(device), label, predict.to(device))\n",
        "        l.backward()\n",
        "\n",
        "        # update weights\n",
        "        with torch.no_grad():\n",
        "            # print(w)\n",
        "            w1 -= learning_rate*w1.grad\n",
        "            w2 -= learning_rate*w2.grad\n",
        "        # zero gradients\n",
        "        w1.grad.zero_()\n",
        "        w2.grad.zero_()\n",
        "\n",
        "        # Print value\n",
        "        if epoch%1 == 0:\n",
        "            print(f'epoch : {epoch+1}, loss : {l: .3f}')\n",
        "\n",
        "    acc = 100*(n_correct/n_sample)\n",
        "\n",
        "    print(f\"epoch : {epoch} | accuracy : {acc}\")"
      ],
      "metadata": {
        "colab": {
          "base_uri": "https://localhost:8080/"
        },
        "id": "-grixC-At4DQ",
        "outputId": "e3c59f4f-4e14-4fcd-b954-134d559bade0"
      },
      "execution_count": null,
      "outputs": [
        {
          "output_type": "stream",
          "name": "stdout",
          "text": [
            "epoch : 1, loss :  2.253\n",
            "epoch : 1, loss :  2.236\n",
            "epoch : 1, loss :  2.234\n",
            "epoch : 1, loss :  2.273\n",
            "epoch : 1, loss :  2.384\n",
            "epoch : 1, loss :  2.329\n",
            "epoch : 1, loss :  2.277\n",
            "epoch : 1, loss :  2.380\n",
            "epoch : 1, loss :  2.329\n",
            "epoch : 1, loss :  2.339\n",
            "epoch : 0 | accuracy : 9.9\n",
            "epoch : 2, loss :  2.253\n",
            "epoch : 2, loss :  2.236\n",
            "epoch : 2, loss :  2.234\n",
            "epoch : 2, loss :  2.273\n",
            "epoch : 2, loss :  2.384\n",
            "epoch : 2, loss :  2.329\n",
            "epoch : 2, loss :  2.277\n",
            "epoch : 2, loss :  2.379\n",
            "epoch : 2, loss :  2.329\n",
            "epoch : 2, loss :  2.339\n",
            "epoch : 1 | accuracy : 9.8\n",
            "epoch : 3, loss :  2.252\n",
            "epoch : 3, loss :  2.236\n",
            "epoch : 3, loss :  2.234\n",
            "epoch : 3, loss :  2.273\n",
            "epoch : 3, loss :  2.384\n",
            "epoch : 3, loss :  2.328\n",
            "epoch : 3, loss :  2.277\n",
            "epoch : 3, loss :  2.379\n",
            "epoch : 3, loss :  2.329\n",
            "epoch : 3, loss :  2.339\n",
            "epoch : 2 | accuracy : 10.0\n",
            "epoch : 4, loss :  2.251\n",
            "epoch : 4, loss :  2.236\n",
            "epoch : 4, loss :  2.234\n",
            "epoch : 4, loss :  2.273\n",
            "epoch : 4, loss :  2.384\n",
            "epoch : 4, loss :  2.328\n",
            "epoch : 4, loss :  2.277\n",
            "epoch : 4, loss :  2.378\n",
            "epoch : 4, loss :  2.329\n",
            "epoch : 4, loss :  2.338\n",
            "epoch : 3 | accuracy : 11.799999999999999\n",
            "epoch : 5, loss :  2.250\n",
            "epoch : 5, loss :  2.236\n",
            "epoch : 5, loss :  2.234\n",
            "epoch : 5, loss :  2.273\n",
            "epoch : 5, loss :  2.384\n",
            "epoch : 5, loss :  2.328\n",
            "epoch : 5, loss :  2.277\n",
            "epoch : 5, loss :  2.377\n",
            "epoch : 5, loss :  2.329\n",
            "epoch : 5, loss :  2.337\n",
            "epoch : 4 | accuracy : 13.100000000000001\n",
            "epoch : 6, loss :  2.249\n",
            "epoch : 6, loss :  2.235\n",
            "epoch : 6, loss :  2.235\n",
            "epoch : 6, loss :  2.272\n",
            "epoch : 6, loss :  2.384\n",
            "epoch : 6, loss :  2.327\n",
            "epoch : 6, loss :  2.277\n",
            "epoch : 6, loss :  2.376\n",
            "epoch : 6, loss :  2.329\n",
            "epoch : 6, loss :  2.337\n",
            "epoch : 5 | accuracy : 13.3\n",
            "epoch : 7, loss :  2.247\n",
            "epoch : 7, loss :  2.235\n",
            "epoch : 7, loss :  2.235\n",
            "epoch : 7, loss :  2.272\n",
            "epoch : 7, loss :  2.384\n",
            "epoch : 7, loss :  2.327\n",
            "epoch : 7, loss :  2.276\n",
            "epoch : 7, loss :  2.375\n",
            "epoch : 7, loss :  2.329\n",
            "epoch : 7, loss :  2.335\n",
            "epoch : 6 | accuracy : 14.399999999999999\n",
            "epoch : 8, loss :  2.245\n",
            "epoch : 8, loss :  2.235\n",
            "epoch : 8, loss :  2.235\n",
            "epoch : 8, loss :  2.272\n",
            "epoch : 8, loss :  2.384\n",
            "epoch : 8, loss :  2.326\n",
            "epoch : 8, loss :  2.276\n",
            "epoch : 8, loss :  2.373\n",
            "epoch : 8, loss :  2.329\n",
            "epoch : 8, loss :  2.334\n",
            "epoch : 7 | accuracy : 14.299999999999999\n",
            "epoch : 9, loss :  2.242\n",
            "epoch : 9, loss :  2.235\n",
            "epoch : 9, loss :  2.235\n",
            "epoch : 9, loss :  2.272\n",
            "epoch : 9, loss :  2.384\n",
            "epoch : 9, loss :  2.325\n",
            "epoch : 9, loss :  2.275\n",
            "epoch : 9, loss :  2.371\n",
            "epoch : 9, loss :  2.329\n",
            "epoch : 9, loss :  2.332\n",
            "epoch : 8 | accuracy : 14.7\n",
            "epoch : 10, loss :  2.238\n",
            "epoch : 10, loss :  2.235\n",
            "epoch : 10, loss :  2.235\n",
            "epoch : 10, loss :  2.272\n",
            "epoch : 10, loss :  2.384\n",
            "epoch : 10, loss :  2.324\n",
            "epoch : 10, loss :  2.275\n",
            "epoch : 10, loss :  2.369\n",
            "epoch : 10, loss :  2.328\n",
            "epoch : 10, loss :  2.329\n",
            "epoch : 9 | accuracy : 13.8\n"
          ]
        }
      ]
    },
    {
      "cell_type": "code",
      "source": [],
      "metadata": {
        "id": "WYCibQKht66m"
      },
      "execution_count": null,
      "outputs": []
    }
  ]
}